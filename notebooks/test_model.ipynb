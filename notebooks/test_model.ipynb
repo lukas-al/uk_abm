{
 "cells": [
  {
   "cell_type": "markdown",
   "id": "c4b9a40f",
   "metadata": {},
   "source": [
    "# BeforeIT Model: Run, Plot, and Tweak Params\n",
    "\n",
    "This notebook demonstrates how to:\n",
    "1. **Run the model** with default parameters\n",
    "2. **Plot key economic variables** from the simulation\n",
    "3. **Test sensitivity** by adjusting parameters\n",
    "\n",
    "Let's walk through each step!"
   ]
  },
  {
   "cell_type": "markdown",
   "id": "e91fcb20",
   "metadata": {},
   "source": [
    "## 1. Setup and Initialize the Model\n",
    "\n",
    "First, let's import the necessary packages and initialize our model wrapper."
   ]
  },
  {
   "cell_type": "code",
   "execution_count": 25,
   "id": "f0485a62",
   "metadata": {},
   "outputs": [],
   "source": [
    "import numpy as np\n",
    "import matplotlib.pyplot as plt\n",
    "import plotly.graph_objects as go\n",
    "import plotly.express as px\n",
    "from plotly.subplots import make_subplots\n",
    "from uk_abm.julia_model_wrapper import BeforeITModelWrapper\n",
    "\n",
    "# Set up nice plotting defaults for matplotlib (still used for some legacy plots)\n",
    "plt.style.use('default')\n",
    "plt.rcParams['figure.figsize'] = (12, 8)\n",
    "plt.rcParams['font.size'] = 10\n",
    "\n"
   ]
  },
  {
   "cell_type": "code",
   "execution_count": 26,
   "id": "6f4eb387",
   "metadata": {},
   "outputs": [
    {
     "name": "stderr",
     "output_type": "stream",
     "text": [
      "INFO:uk_abm.julia_model_wrapper:Setting up Julia environment...\n"
     ]
    },
    {
     "name": "stderr",
     "output_type": "stream",
     "text": [
      "INFO:uk_abm.julia_model_wrapper:Activating BeforeIT environment at: ../dev/BeforeIT.jl\n",
      "  Activating project at `~/Documents/00. Bank of England/03. MPIL/uk_abm/dev/BeforeIT.jl`\n",
      "INFO:uk_abm.julia_model_wrapper:Installing package dependencies...\n",
      "INFO:uk_abm.julia_model_wrapper:Importing BeforeIT and required packages...\n",
      "INFO:uk_abm.julia_model_wrapper:BeforeIT AUSTRIA2010Q1 parameters loaded successfully\n",
      "INFO:uk_abm.julia_model_wrapper:Julia environment setup completed successfully\n",
      "INFO:uk_abm.julia_model_wrapper:Found 44 calibratable parameters: ['tau_SIW', 'tau_INC', 'theta_UB', 'tau_SIF', 'T_max', 'beta_pi_EA', 'tau_G', 'psi', 'alpha_G', 'r_star', 'zeta_LTV', 'beta_Y_EA', 'tau_VAT', 'alpha_Y_EA', 'beta_E', 'rho', 'S', 'r_G', 'alpha_E', 'T', 'L', 'sigma_E', 'beta_I', 'theta', 'alpha_I', 'sigma_pi_EA', 'H_inact', 'zeta', 'tau_EXPORT', 'pi_star', 'sigma_Y_EA', 'T_prime', 'beta_G', 'zeta_b', 'mu', 'psi_H', 'sigma_G', 'sigma_I', 'G', 'tau_FIRM', 'J', 'theta_DIV', 'xi_gamma', 'tau_CF']\n"
     ]
    }
   ],
   "source": [
    "# Initialize the BeforeIT model with Austrian 2010Q1 parameters\n",
    "model = BeforeITModelWrapper(\n",
    "    base_parameters=\"AUSTRIA2010Q1\", \n",
    "    model_path=\"../dev/BeforeIT.jl\"\n",
    ")\n"
   ]
  },
  {
   "cell_type": "code",
   "execution_count": 27,
   "id": "d48e772c",
   "metadata": {},
   "outputs": [
    {
     "name": "stdout",
     "output_type": "stream",
     "text": [
      "  • tau_SIW        : 0.1711\n",
      "  • tau_INC        : 0.2134\n",
      "  • theta_UB       : 0.3586\n",
      "  • tau_SIF        : 0.2122\n",
      "  • T_max          : 12.0000\n",
      "  • beta_pi_EA     : 0.0026\n",
      "  • tau_G          : 0.0091\n",
      "  • psi            : 0.9097\n",
      "  • alpha_G        : 0.9906\n",
      "  • r_star         : -0.0034\n",
      "  ... and 34 more parameters\n",
      "\n",
      "Available output variables:\n",
      "  • collection_time\n",
      "  • nominal_gdp\n",
      "  • real_gdp\n",
      "  • nominal_gva\n",
      "  • real_gva\n",
      "  • nominal_household_consumption\n",
      "  • real_household_consumption\n",
      "  • nominal_government_consumption\n",
      "  • real_government_consumption\n",
      "  • nominal_capitalformation\n",
      "  ... and 18 more variables\n"
     ]
    }
   ],
   "source": [
    "# Let's see what parameters we can calibrate and what variables we can analyze\n",
    "param_names = model.get_parameter_names()\n",
    "current_values = model.get_current_parameter_values()\n",
    "\n",
    "for name in param_names[:10]:  # Show first 10 parameters\n",
    "    print(f\"  • {name:15s}: {current_values[name]:.4f}\")\n",
    "\n",
    "if len(param_names) > 10:\n",
    "    print(f\"  ... and {len(param_names) - 10} more parameters\")\n",
    "\n",
    "print(\"\\nAvailable output variables:\")\n",
    "variable_names = model.get_variable_names()\n",
    "for name in variable_names[:10]:  # Show first 10 variables\n",
    "    print(f\"  • {name}\")\n",
    "if len(variable_names) > 10:\n",
    "    print(f\"  ... and {len(variable_names) - 10} more variables\")\n"
   ]
  },
  {
   "cell_type": "markdown",
   "id": "9e4e1b94",
   "metadata": {},
   "source": [
    "## 2. Run the Model\n",
    "\n",
    "Now let's run a simulation with the default parameters to see how the economy evolves over time."
   ]
  },
  {
   "cell_type": "code",
   "execution_count": 28,
   "id": "91e40543",
   "metadata": {},
   "outputs": [
    {
     "name": "stderr",
     "output_type": "stream",
     "text": [
      "INFO:uk_abm.julia_model_wrapper:Running simulation with T=40, ensemble_size=4, seed=42\n",
      "INFO:uk_abm.julia_model_wrapper:Simulation completed successfully\n"
     ]
    }
   ],
   "source": [
    "# Run simulation with default parameters\n",
    "# Use the current parameter values as our baseline\n",
    "baseline_params = list(current_values.values())\n",
    "\n",
    "# Run simulation for 40 quarters (10 years)\n",
    "T = 40\n",
    "seed = 42\n",
    "\n",
    "results = model.run_simulation(\n",
    "    parameters=baseline_params,\n",
    "    T=T,\n",
    "    seed=seed,\n",
    "    ensemble_size=4  # Average over 4 runs\n",
    ")\n",
    "# print(f\"Simulation completed Output shape: {results.original_shape}\")\n",
    "# print(f\"   Time periods: {T}, Variables: {results.shape[1]}\")\n",
    "\n",
    "# Create time axis (quarters)\n",
    "time_quarters = np.arange(1, T + 1)\n"
   ]
  },
  {
   "cell_type": "code",
   "execution_count": 29,
   "id": "33eca5fe",
   "metadata": {},
   "outputs": [
    {
     "data": {
      "text/plain": [
       "dict_keys(['nominal_gdp', 'real_gdp', 'nominal_gva', 'real_gva', 'nominal_household_consumption', 'real_household_consumption', 'nominal_government_consumption', 'real_government_consumption', 'nominal_capitalformation', 'real_capitalformation', 'nominal_fixed_capitalformation', 'real_fixed_capitalformation', 'nominal_fixed_capitalformation_dwellings', 'real_fixed_capitalformation_dwellings', 'nominal_exports', 'real_exports', 'nominal_imports', 'real_imports', 'operating_surplus', 'compensation_employees', 'wages', 'taxes_production', 'gdp_deflator_growth_ea', 'real_gdp_ea', 'euribor'])"
      ]
     },
     "execution_count": 29,
     "metadata": {},
     "output_type": "execute_result"
    }
   ],
   "source": [
    "results.get_scalar_timeseries().keys()\n"
   ]
  },
  {
   "cell_type": "markdown",
   "id": "004a6897",
   "metadata": {
    "vscode": {
     "languageId": "raw"
    }
   },
   "source": [
    "## 3. Plot Key Economic Indicators\n",
    "\n",
    "Let's visualize the key economic variables from our simulation.\n"
   ]
  },
  {
   "cell_type": "code",
   "execution_count": 30,
   "id": "af279b15",
   "metadata": {},
   "outputs": [
    {
     "name": "stdout",
     "output_type": "stream",
     "text": [
      "['collection_time', 'nominal_gdp', 'real_gdp', 'nominal_gva', 'real_gva', 'nominal_household_consumption', 'real_household_consumption', 'nominal_government_consumption', 'real_government_consumption', 'nominal_capitalformation', 'real_capitalformation', 'nominal_fixed_capitalformation', 'real_fixed_capitalformation', 'nominal_fixed_capitalformation_dwellings', 'real_fixed_capitalformation_dwellings', 'nominal_exports', 'real_exports', 'nominal_imports', 'real_imports', 'operating_surplus', 'compensation_employees', 'wages', 'taxes_production', 'gdp_deflator_growth_ea', 'real_gdp_ea', 'euribor', 'nominal_sector_gva', 'real_sector_gva']\n"
     ]
    }
   ],
   "source": [
    "print(variable_names)\n"
   ]
  },
  {
   "cell_type": "code",
   "execution_count": 31,
   "id": "82ffe4dd",
   "metadata": {},
   "outputs": [
    {
     "data": {
      "application/vnd.plotly.v1+json": {
       "config": {
        "plotlyServerURL": "https://plot.ly"
       },
       "data": [
        {
         "hovertemplate": "<b>%{fullData.name}</b><br>Quarter: %{x}<br>Value: %{y:.4f}<br><extra></extra>",
         "line": {
          "width": 2.5
         },
         "mode": "lines",
         "name": "real_gdp",
         "type": "scatter",
         "x": {
          "bdata": "AQIDBAUGBwgJCgsMDQ4PEBESExQVFhcYGRobHB0eHyAhIiMkJSYnKA==",
          "dtype": "i1"
         },
         "xaxis": "x",
         "y": {
          "bdata": "AAAAAGCu8UC8DakVTLLxQPuRBYl5vfFAkKl2F87N8UDWI0JDpebxQFdOqOFR2/FAGb9KVFfj8UCuHbpYbeLxQHCqdhy/A/JA62t0O/4T8kA0nmbb2AfyQJAxs5tzFPJAeflwjQgP8kBj6tqq4yPyQNRx5fghR/JAZjriE2lU8kBWeGvJyWryQFT0nUwoefJAse8cwOl18kAY7VWzo5LyQDDlUvdZo/JAiCWbejS98kBRbz8h3NbyQPtPHZdl8vJA6DL3AkcR80A0fkW4xjHzQKpWca3FQvNADK9Hp3pP80B+TBE5P1jzQCvx8EHdZvNACnOT8Xp080AWXQHikIzzQFO5XP+jb/NAIE4eSv9m80Dhv7v6BnXzQO4o184GifNAQuYjUlCo80CgtYicrrHzQM+1FmdCyvNABKLHtnW+80Ay9vCdMNjzQA==",
          "dtype": "f8"
         },
         "yaxis": "y"
        },
        {
         "hovertemplate": "<b>%{fullData.name}</b><br>Quarter: %{x}<br>Value: %{y:.4f}<br><extra></extra>",
         "line": {
          "width": 2.5
         },
         "mode": "lines",
         "name": "real_household_consumption",
         "type": "scatter",
         "x": {
          "bdata": "AQIDBAUGBwgJCgsMDQ4PEBESExQVFhcYGRobHB0eHyAhIiMkJSYnKA==",
          "dtype": "i1"
         },
         "xaxis": "x2",
         "y": {
          "bdata": "DoxpVR7I40A9UkNH0sjjQPBlIR900ONA9KzbCyTc40ALSI9wdu3jQFThjxyA5eNAfCyV9GHn40DTcE/b2eTjQMTNXq0DA+RAIrKJDLgS5EAAV5fc7ATkQJrI7Z0XEORApgc21fII5EDdaCdMyR/kQLZqcXZSPuRAJN/Gu91I5EA8sThkTljkQCXL5nx1ZORAy6Pp8u9l5EDBHt5Nm3bkQElMIdHFeORABCJDodyD5EBS6D9lNKHkQG7IJNlWuuRAJRrQU87Z5EC/aG6f7/zkQPB/Y/3yE+VAg7XVj5wT5UBvlkZoWCblQM5Hyk4uM+VAD2RSbV5D5UCm3wV20GnlQK6SPPCaWOVACvVx2OhP5UCWjy1vyE7lQOcLI0WMWuVATvO0k+1+5UASpe9Zv33lQDmRavRVl+VAYkILzyqQ5UDnxuPhdKzlQA==",
          "dtype": "f8"
         },
         "yaxis": "y2"
        },
        {
         "hovertemplate": "<b>%{fullData.name}</b><br>Quarter: %{x}<br>Value: %{y:.4f}<br><extra></extra>",
         "line": {
          "width": 2.5
         },
         "mode": "lines",
         "name": "real_government_consumption",
         "type": "scatter",
         "x": {
          "bdata": "AQIDBAUGBwgJCgsMDQ4PEBESExQVFhcYGRobHB0eHyAhIiMkJSYnKA==",
          "dtype": "i1"
         },
         "xaxis": "x3",
         "y": {
          "bdata": "/uK0qnEJzUBZDKotyPPMQOz2tIpsGc1AgNRcOxgTzUBkPHZ/DxjNQAhLoHlcDc1A52qsrn5izUDZXvOVcJTNQBp7eKch8s1ALXPSbXQIzkD6jkqR0tbNQOsmUZpH881Ayvk1ACwCzkCeCaR8T0rOQLwFR3Crms5AljzOG6PczkBWNpKWfQjPQGBLSroW785AVs9utSwez0CPOp3Gm3LPQJTJsRT5pM9Aaq085Caxz0CfcwzZFtHPQOa40pRa3M9ABOScy+gG0EDCXYLtPB3QQKLcUu/rQNBAXzKLgsVA0EAKOBKRvUvQQLu+OF8FZ9BAogU00Gs60EDY8CT33TnQQEugLRR4KtBAJg0VxVlG0ECsvINymD7QQLp9ZcqzMdBAsavZz9tl0EASdNjlL2LQQM5I+gZNZtBAj2/gMe5v0ECEsobcR5vQQA==",
          "dtype": "f8"
         },
         "yaxis": "y3"
        },
        {
         "hovertemplate": "<b>%{fullData.name}</b><br>Quarter: %{x}<br>Value: %{y:.4f}<br><extra></extra>",
         "line": {
          "width": 2.5
         },
         "mode": "lines",
         "name": "real_capitalformation",
         "type": "scatter",
         "x": {
          "bdata": "AQIDBAUGBwgJCgsMDQ4PEBESExQVFhcYGRobHB0eHyAhIiMkJSYnKA==",
          "dtype": "i1"
         },
         "xaxis": "x4",
         "y": {
          "bdata": "4772PR4kz0ACF5w0hWrPQCVOLAJQls9AepxVBTyKz0A7SnWTgd/PQJKHnqmuy89Ana+F+w2+z0DSU8UdTUjPQAz/TidMfs9Apt26ZPDLz0B2PV2XAdrPQABpbHYx4s9AEXU3tu8E0ECeobhM493PQFi9xdYuLtBAPqgwSJEF0ED/z/dEaD7QQEbtH8KTPtBA5BPWc7cM0EDDGu3lKObPQKlKFiSrKdBAnpaqfZli0EA1eoZPV4DQQKIg/UV9edBAWQwU+Aqy0EDhb1Di2xDRQAzT+aOoHdFAKrhxlqk40UDNgnK8YPzQQDTVrxiyDdFAD/9i605o0UBBT0UewFDRQMwR4cjP/dBAqpe9znoI0UB4DR0UtzvRQBl0qAx0Y9FAVb6n6oio0UDXxcbpip/RQBaNge8gzdFAO7rwVm+n0UAqXeobrZzRQA==",
          "dtype": "f8"
         },
         "yaxis": "y4"
        },
        {
         "hovertemplate": "<b>%{fullData.name}</b><br>Quarter: %{x}<br>Value: %{y:.4f}<br><extra></extra>",
         "line": {
          "width": 2.5
         },
         "mode": "lines",
         "name": "real_exports",
         "type": "scatter",
         "x": {
          "bdata": "AQIDBAUGBwgJCgsMDQ4PEBESExQVFhcYGRobHB0eHyAhIiMkJSYnKA==",
          "dtype": "i1"
         },
         "xaxis": "x5",
         "y": {
          "bdata": "AOxbEHKy4EBeU+77ZargQLDkJxR3o+BAQCKkoh3a4ECkcaxnECvhQHTqd1ynJOFAE0dk9IDx4EA30PoxvP3gQHg8jMCzFOFABj741iLl4EBspW8hFyrhQKz+0qybFeFAR5cWfY874UB2uJQNOyPhQPjvbQy/NOFAen237PtB4UC31RZefGPhQG8PwmKLSuFAPkqh4dNf4UBDXZRqe5jhQIJHZp9oVuFAgqy0ojRs4UAt2rjHYajhQL2Ag+77p+FAFhoD3+Om4UD1oBzZN5XhQARo4mB9ouFA3Bmm+JCz4UD3STfIAJHhQEbNS595l+FA4Uhi91us4UAAK03V6vPhQH00cZtl6OFAyKPtT1qo4UBNA44AeJnhQKK68jazjuFAD4m/Fvo/4UAUpQgVyWbhQNP8hVIIYuFAqmr7Qd/W4UBKy3pMXtbhQA==",
          "dtype": "f8"
         },
         "yaxis": "y5"
        },
        {
         "hovertemplate": "<b>%{fullData.name}</b><br>Quarter: %{x}<br>Value: %{y:.4f}<br><extra></extra>",
         "line": {
          "width": 2.5
         },
         "mode": "lines",
         "name": "real_imports",
         "type": "scatter",
         "x": {
          "bdata": "AQIDBAUGBwgJCgsMDQ4PEBESExQVFhcYGRobHB0eHyAhIiMkJSYnKA==",
          "dtype": "i1"
         },
         "xaxis": "x6",
         "y": {
          "bdata": "i2DwXzQp4EAAE3FwMybgQM93dkTnJOBAVBi/j/pB4ECJU3KWIIngQN3jhn7GieBA/Xvwalda4EBUMsTI6lTgQCKUr6hUbOBAh2w8ofdE4ED4smNRh4vgQNPHiVcqcuBA7OSTEnSp4EBhd122SYXgQBgXidiPouBABcvF6/ib4EDmC5m3isfgQIJ7D9a/l+BAWcyXO9en4EBIN+l8AMDgQCphGVmOhuBADPqlxj6T4EDPPYBIT9DgQMLnoOFcseBAcka9Dp664EAldOlvpsXgQF2SCU0v4OBAjuZqxu/k4EDTpB3l6argQL18KCZJt+BALklZ3yHY4ECHcAWS6AnhQIyte3vc9eBA2k4M3q7R4EAyeJQ9WrvgQKdt7snFoeBA4GRtY3l14EDve7adCILgQDcNAXSQfuBAJv7fZ8314ECqLbVubO7gQA==",
          "dtype": "f8"
         },
         "yaxis": "y6"
        },
        {
         "hovertemplate": "<b>%{fullData.name}</b><br>Quarter: %{x}<br>Value: %{y:.4f}<br><extra></extra>",
         "line": {
          "width": 2.5
         },
         "mode": "lines",
         "name": "wages",
         "type": "scatter",
         "x": {
          "bdata": "AQIDBAUGBwgJCgsMDQ4PEBESExQVFhcYGRobHB0eHyAhIiMkJSYnKA==",
          "dtype": "i1"
         },
         "xaxis": "x7",
         "y": {
          "bdata": "fTlzE9Wr20C3DnCt7O/bQHw7A2PHItxA9sukw+Vh3EAWg0/NCavcQLXIAXUGw9xAmbJvO7Tx3EBVWovxeRDdQBeLKWtpUN1AcOeI6GqE3UCA8qwP75jdQBPVT2vdxt1A9b6akDzS3UAQsH3n9xfeQGEpSZJhfd5AYyZdq3u03kB4AkSnVvjeQKIrxO8YNN9A3j9mzF1M30D5dfI8xqTfQCShfU6ZAOBAV9MqLm8m4EAiXZ1H6EXgQCivoS2uXOBAORGKW1mK4EDk+6G4uLngQHxSRD2A6eBAVYzU+JUA4UAm4NWn9w3hQBOKT+SqHuFAzBMfwSFD4UB7SXyF32rhQJd3qP5eVeFARPhzgIpk4UAZDbsCf3fhQPzePTrtkuFAB6q+c//F4UA3T7qjm+/hQC7kUJ8SEOJAw6jjYmwP4kDK1IPS2TTiQA==",
          "dtype": "f8"
         },
         "yaxis": "y7"
        },
        {
         "hovertemplate": "<b>%{fullData.name}</b><br>Quarter: %{x}<br>Value: %{y:.4f}<br><extra></extra>",
         "line": {
          "width": 2.5
         },
         "mode": "lines",
         "name": "euribor",
         "type": "scatter",
         "x": {
          "bdata": "AQIDBAUGBwgJCgsMDQ4PEBESExQVFhcYGRobHB0eHyAhIiMkJSYnKA==",
          "dtype": "i1"
         },
         "xaxis": "x8",
         "y": {
          "bdata": "ANwK7In3Wj+Q/YR7WlJaP0CR8eBOOVw/eEHqkNTXYD+IFtfAfk9mP/hgfGpyfmU/HM/BBvkkYz/C6QRkQUljP0/yBcmmL2I//e159qE+Xz/DBBFfGtthP4qe5kzWCmE/ODwaBBdlYz9H9kN8cGJjP7R5EE65T2U/BJULbysaZT+ucBvStshnP2FKy/diNmU/7TT13I/mZD/p6v9JmHJnPx4mWBW2/WI/2cFmCMjfYz+AH1XSOXJkP3Z/UwT1CmI/3enjDKLqXz/PF7BjtGVeP5txiVh8DGI/2e15oo9uYj9doNAx8pJgP20N4Cn/oWM/lkzUPLcKZT+GNSS/I7poP17rZnZMpGc/s2I1XQtsZT9oUzmbvyVkPziAHcYEgV8/9tT8bk37TD8nsUW5lR5HP7bFVCX6EUg/NriyPWVwVj/U5msw30ZbPw==",
          "dtype": "f8"
         },
         "yaxis": "y8"
        },
        {
         "hovertemplate": "<b>%{fullData.name}</b><br>Quarter: %{x}<br>Value: %{y:.4f}<br><extra></extra>",
         "line": {
          "width": 2.5
         },
         "mode": "lines",
         "name": "gdp_deflator_growth_ea",
         "type": "scatter",
         "x": {
          "bdata": "AQIDBAUGBwgJCgsMDQ4PEBESExQVFhcYGRobHB0eHyAhIiMkJSYnKA==",
          "dtype": "i1"
         },
         "xaxis": "x9",
         "y": {
          "bdata": "ALAqEubBXz/ALlImSUplPwAcSffDYnE/gNtZkkp0cT8Ad2t/nuRqPwDSeDLK/m4/wN8tY7SUbj9ArdLjPr1gPwBWDwJRuU4/gE96ps6xbz+AjV3wYPJpP0Dlpbw2EXM/AITlXbw4ej/ACAx8vMZzP4AAv2QV0WY/YHJsivaTcD+AlZU98ipyP4A7lw0Dmm0/ACwR5NA6cD9A6WsAsGV1P8ATmLTyQHI/QI4/uhtidz9AMU8S0GpzP8DjzPl/rHg/gBBs95qYdD/AR0wyCtV4P4DaRiboT3U/wKJkaMJ2dj/ATRwjX81yPwA70kMZ63A/gPkIHns/aT/AC2zctxxgP8CgM4gZbW8/AJZbybEtbz8AAACqVA1vP8BhVERmymQ/ACkWh9zSWj/AobnJhBZgPwCzM1WRinE/wHSGWvRxZz9Au7y2YHB0Pw==",
          "dtype": "f8"
         },
         "yaxis": "y9"
        }
       ],
       "layout": {
        "annotations": [
         {
          "font": {
           "size": 16
          },
          "showarrow": false,
          "text": "Real Gdp",
          "x": 0.14666666666666667,
          "xanchor": "center",
          "xref": "paper",
          "y": 0.9999999999999999,
          "yanchor": "bottom",
          "yref": "paper"
         },
         {
          "font": {
           "size": 16
          },
          "showarrow": false,
          "text": "Real Household Consumption",
          "x": 0.5,
          "xanchor": "center",
          "xref": "paper",
          "y": 0.9999999999999999,
          "yanchor": "bottom",
          "yref": "paper"
         },
         {
          "font": {
           "size": 16
          },
          "showarrow": false,
          "text": "Real Government Consumption",
          "x": 0.8533333333333333,
          "xanchor": "center",
          "xref": "paper",
          "y": 0.9999999999999999,
          "yanchor": "bottom",
          "yref": "paper"
         },
         {
          "font": {
           "size": 16
          },
          "showarrow": false,
          "text": "Real Capitalformation",
          "x": 0.14666666666666667,
          "xanchor": "center",
          "xref": "paper",
          "y": 0.6166666666666666,
          "yanchor": "bottom",
          "yref": "paper"
         },
         {
          "font": {
           "size": 16
          },
          "showarrow": false,
          "text": "Real Exports",
          "x": 0.5,
          "xanchor": "center",
          "xref": "paper",
          "y": 0.6166666666666666,
          "yanchor": "bottom",
          "yref": "paper"
         },
         {
          "font": {
           "size": 16
          },
          "showarrow": false,
          "text": "Real Imports",
          "x": 0.8533333333333333,
          "xanchor": "center",
          "xref": "paper",
          "y": 0.6166666666666666,
          "yanchor": "bottom",
          "yref": "paper"
         },
         {
          "font": {
           "size": 16
          },
          "showarrow": false,
          "text": "Wages",
          "x": 0.14666666666666667,
          "xanchor": "center",
          "xref": "paper",
          "y": 0.2333333333333333,
          "yanchor": "bottom",
          "yref": "paper"
         },
         {
          "font": {
           "size": 16
          },
          "showarrow": false,
          "text": "Euribor",
          "x": 0.5,
          "xanchor": "center",
          "xref": "paper",
          "y": 0.2333333333333333,
          "yanchor": "bottom",
          "yref": "paper"
         },
         {
          "font": {
           "size": 16
          },
          "showarrow": false,
          "text": "Gdp Deflator Growth Ea",
          "x": 0.8533333333333333,
          "xanchor": "center",
          "xref": "paper",
          "y": 0.2333333333333333,
          "yanchor": "bottom",
          "yref": "paper"
         }
        ],
        "height": 700,
        "paper_bgcolor": "white",
        "plot_bgcolor": "white",
        "showlegend": false,
        "template": {
         "data": {
          "bar": [
           {
            "error_x": {
             "color": "#2a3f5f"
            },
            "error_y": {
             "color": "#2a3f5f"
            },
            "marker": {
             "line": {
              "color": "#E5ECF6",
              "width": 0.5
             },
             "pattern": {
              "fillmode": "overlay",
              "size": 10,
              "solidity": 0.2
             }
            },
            "type": "bar"
           }
          ],
          "barpolar": [
           {
            "marker": {
             "line": {
              "color": "#E5ECF6",
              "width": 0.5
             },
             "pattern": {
              "fillmode": "overlay",
              "size": 10,
              "solidity": 0.2
             }
            },
            "type": "barpolar"
           }
          ],
          "carpet": [
           {
            "aaxis": {
             "endlinecolor": "#2a3f5f",
             "gridcolor": "white",
             "linecolor": "white",
             "minorgridcolor": "white",
             "startlinecolor": "#2a3f5f"
            },
            "baxis": {
             "endlinecolor": "#2a3f5f",
             "gridcolor": "white",
             "linecolor": "white",
             "minorgridcolor": "white",
             "startlinecolor": "#2a3f5f"
            },
            "type": "carpet"
           }
          ],
          "choropleth": [
           {
            "colorbar": {
             "outlinewidth": 0,
             "ticks": ""
            },
            "type": "choropleth"
           }
          ],
          "contour": [
           {
            "colorbar": {
             "outlinewidth": 0,
             "ticks": ""
            },
            "colorscale": [
             [
              0,
              "#0d0887"
             ],
             [
              0.1111111111111111,
              "#46039f"
             ],
             [
              0.2222222222222222,
              "#7201a8"
             ],
             [
              0.3333333333333333,
              "#9c179e"
             ],
             [
              0.4444444444444444,
              "#bd3786"
             ],
             [
              0.5555555555555556,
              "#d8576b"
             ],
             [
              0.6666666666666666,
              "#ed7953"
             ],
             [
              0.7777777777777778,
              "#fb9f3a"
             ],
             [
              0.8888888888888888,
              "#fdca26"
             ],
             [
              1,
              "#f0f921"
             ]
            ],
            "type": "contour"
           }
          ],
          "contourcarpet": [
           {
            "colorbar": {
             "outlinewidth": 0,
             "ticks": ""
            },
            "type": "contourcarpet"
           }
          ],
          "heatmap": [
           {
            "colorbar": {
             "outlinewidth": 0,
             "ticks": ""
            },
            "colorscale": [
             [
              0,
              "#0d0887"
             ],
             [
              0.1111111111111111,
              "#46039f"
             ],
             [
              0.2222222222222222,
              "#7201a8"
             ],
             [
              0.3333333333333333,
              "#9c179e"
             ],
             [
              0.4444444444444444,
              "#bd3786"
             ],
             [
              0.5555555555555556,
              "#d8576b"
             ],
             [
              0.6666666666666666,
              "#ed7953"
             ],
             [
              0.7777777777777778,
              "#fb9f3a"
             ],
             [
              0.8888888888888888,
              "#fdca26"
             ],
             [
              1,
              "#f0f921"
             ]
            ],
            "type": "heatmap"
           }
          ],
          "histogram": [
           {
            "marker": {
             "pattern": {
              "fillmode": "overlay",
              "size": 10,
              "solidity": 0.2
             }
            },
            "type": "histogram"
           }
          ],
          "histogram2d": [
           {
            "colorbar": {
             "outlinewidth": 0,
             "ticks": ""
            },
            "colorscale": [
             [
              0,
              "#0d0887"
             ],
             [
              0.1111111111111111,
              "#46039f"
             ],
             [
              0.2222222222222222,
              "#7201a8"
             ],
             [
              0.3333333333333333,
              "#9c179e"
             ],
             [
              0.4444444444444444,
              "#bd3786"
             ],
             [
              0.5555555555555556,
              "#d8576b"
             ],
             [
              0.6666666666666666,
              "#ed7953"
             ],
             [
              0.7777777777777778,
              "#fb9f3a"
             ],
             [
              0.8888888888888888,
              "#fdca26"
             ],
             [
              1,
              "#f0f921"
             ]
            ],
            "type": "histogram2d"
           }
          ],
          "histogram2dcontour": [
           {
            "colorbar": {
             "outlinewidth": 0,
             "ticks": ""
            },
            "colorscale": [
             [
              0,
              "#0d0887"
             ],
             [
              0.1111111111111111,
              "#46039f"
             ],
             [
              0.2222222222222222,
              "#7201a8"
             ],
             [
              0.3333333333333333,
              "#9c179e"
             ],
             [
              0.4444444444444444,
              "#bd3786"
             ],
             [
              0.5555555555555556,
              "#d8576b"
             ],
             [
              0.6666666666666666,
              "#ed7953"
             ],
             [
              0.7777777777777778,
              "#fb9f3a"
             ],
             [
              0.8888888888888888,
              "#fdca26"
             ],
             [
              1,
              "#f0f921"
             ]
            ],
            "type": "histogram2dcontour"
           }
          ],
          "mesh3d": [
           {
            "colorbar": {
             "outlinewidth": 0,
             "ticks": ""
            },
            "type": "mesh3d"
           }
          ],
          "parcoords": [
           {
            "line": {
             "colorbar": {
              "outlinewidth": 0,
              "ticks": ""
             }
            },
            "type": "parcoords"
           }
          ],
          "pie": [
           {
            "automargin": true,
            "type": "pie"
           }
          ],
          "scatter": [
           {
            "fillpattern": {
             "fillmode": "overlay",
             "size": 10,
             "solidity": 0.2
            },
            "type": "scatter"
           }
          ],
          "scatter3d": [
           {
            "line": {
             "colorbar": {
              "outlinewidth": 0,
              "ticks": ""
             }
            },
            "marker": {
             "colorbar": {
              "outlinewidth": 0,
              "ticks": ""
             }
            },
            "type": "scatter3d"
           }
          ],
          "scattercarpet": [
           {
            "marker": {
             "colorbar": {
              "outlinewidth": 0,
              "ticks": ""
             }
            },
            "type": "scattercarpet"
           }
          ],
          "scattergeo": [
           {
            "marker": {
             "colorbar": {
              "outlinewidth": 0,
              "ticks": ""
             }
            },
            "type": "scattergeo"
           }
          ],
          "scattergl": [
           {
            "marker": {
             "colorbar": {
              "outlinewidth": 0,
              "ticks": ""
             }
            },
            "type": "scattergl"
           }
          ],
          "scattermap": [
           {
            "marker": {
             "colorbar": {
              "outlinewidth": 0,
              "ticks": ""
             }
            },
            "type": "scattermap"
           }
          ],
          "scattermapbox": [
           {
            "marker": {
             "colorbar": {
              "outlinewidth": 0,
              "ticks": ""
             }
            },
            "type": "scattermapbox"
           }
          ],
          "scatterpolar": [
           {
            "marker": {
             "colorbar": {
              "outlinewidth": 0,
              "ticks": ""
             }
            },
            "type": "scatterpolar"
           }
          ],
          "scatterpolargl": [
           {
            "marker": {
             "colorbar": {
              "outlinewidth": 0,
              "ticks": ""
             }
            },
            "type": "scatterpolargl"
           }
          ],
          "scatterternary": [
           {
            "marker": {
             "colorbar": {
              "outlinewidth": 0,
              "ticks": ""
             }
            },
            "type": "scatterternary"
           }
          ],
          "surface": [
           {
            "colorbar": {
             "outlinewidth": 0,
             "ticks": ""
            },
            "colorscale": [
             [
              0,
              "#0d0887"
             ],
             [
              0.1111111111111111,
              "#46039f"
             ],
             [
              0.2222222222222222,
              "#7201a8"
             ],
             [
              0.3333333333333333,
              "#9c179e"
             ],
             [
              0.4444444444444444,
              "#bd3786"
             ],
             [
              0.5555555555555556,
              "#d8576b"
             ],
             [
              0.6666666666666666,
              "#ed7953"
             ],
             [
              0.7777777777777778,
              "#fb9f3a"
             ],
             [
              0.8888888888888888,
              "#fdca26"
             ],
             [
              1,
              "#f0f921"
             ]
            ],
            "type": "surface"
           }
          ],
          "table": [
           {
            "cells": {
             "fill": {
              "color": "#EBF0F8"
             },
             "line": {
              "color": "white"
             }
            },
            "header": {
             "fill": {
              "color": "#C8D4E3"
             },
             "line": {
              "color": "white"
             }
            },
            "type": "table"
           }
          ]
         },
         "layout": {
          "annotationdefaults": {
           "arrowcolor": "#2a3f5f",
           "arrowhead": 0,
           "arrowwidth": 1
          },
          "autotypenumbers": "strict",
          "coloraxis": {
           "colorbar": {
            "outlinewidth": 0,
            "ticks": ""
           }
          },
          "colorscale": {
           "diverging": [
            [
             0,
             "#8e0152"
            ],
            [
             0.1,
             "#c51b7d"
            ],
            [
             0.2,
             "#de77ae"
            ],
            [
             0.3,
             "#f1b6da"
            ],
            [
             0.4,
             "#fde0ef"
            ],
            [
             0.5,
             "#f7f7f7"
            ],
            [
             0.6,
             "#e6f5d0"
            ],
            [
             0.7,
             "#b8e186"
            ],
            [
             0.8,
             "#7fbc41"
            ],
            [
             0.9,
             "#4d9221"
            ],
            [
             1,
             "#276419"
            ]
           ],
           "sequential": [
            [
             0,
             "#0d0887"
            ],
            [
             0.1111111111111111,
             "#46039f"
            ],
            [
             0.2222222222222222,
             "#7201a8"
            ],
            [
             0.3333333333333333,
             "#9c179e"
            ],
            [
             0.4444444444444444,
             "#bd3786"
            ],
            [
             0.5555555555555556,
             "#d8576b"
            ],
            [
             0.6666666666666666,
             "#ed7953"
            ],
            [
             0.7777777777777778,
             "#fb9f3a"
            ],
            [
             0.8888888888888888,
             "#fdca26"
            ],
            [
             1,
             "#f0f921"
            ]
           ],
           "sequentialminus": [
            [
             0,
             "#0d0887"
            ],
            [
             0.1111111111111111,
             "#46039f"
            ],
            [
             0.2222222222222222,
             "#7201a8"
            ],
            [
             0.3333333333333333,
             "#9c179e"
            ],
            [
             0.4444444444444444,
             "#bd3786"
            ],
            [
             0.5555555555555556,
             "#d8576b"
            ],
            [
             0.6666666666666666,
             "#ed7953"
            ],
            [
             0.7777777777777778,
             "#fb9f3a"
            ],
            [
             0.8888888888888888,
             "#fdca26"
            ],
            [
             1,
             "#f0f921"
            ]
           ]
          },
          "colorway": [
           "#636efa",
           "#EF553B",
           "#00cc96",
           "#ab63fa",
           "#FFA15A",
           "#19d3f3",
           "#FF6692",
           "#B6E880",
           "#FF97FF",
           "#FECB52"
          ],
          "font": {
           "color": "#2a3f5f"
          },
          "geo": {
           "bgcolor": "white",
           "lakecolor": "white",
           "landcolor": "#E5ECF6",
           "showlakes": true,
           "showland": true,
           "subunitcolor": "white"
          },
          "hoverlabel": {
           "align": "left"
          },
          "hovermode": "closest",
          "mapbox": {
           "style": "light"
          },
          "paper_bgcolor": "white",
          "plot_bgcolor": "#E5ECF6",
          "polar": {
           "angularaxis": {
            "gridcolor": "white",
            "linecolor": "white",
            "ticks": ""
           },
           "bgcolor": "#E5ECF6",
           "radialaxis": {
            "gridcolor": "white",
            "linecolor": "white",
            "ticks": ""
           }
          },
          "scene": {
           "xaxis": {
            "backgroundcolor": "#E5ECF6",
            "gridcolor": "white",
            "gridwidth": 2,
            "linecolor": "white",
            "showbackground": true,
            "ticks": "",
            "zerolinecolor": "white"
           },
           "yaxis": {
            "backgroundcolor": "#E5ECF6",
            "gridcolor": "white",
            "gridwidth": 2,
            "linecolor": "white",
            "showbackground": true,
            "ticks": "",
            "zerolinecolor": "white"
           },
           "zaxis": {
            "backgroundcolor": "#E5ECF6",
            "gridcolor": "white",
            "gridwidth": 2,
            "linecolor": "white",
            "showbackground": true,
            "ticks": "",
            "zerolinecolor": "white"
           }
          },
          "shapedefaults": {
           "line": {
            "color": "#2a3f5f"
           }
          },
          "ternary": {
           "aaxis": {
            "gridcolor": "white",
            "linecolor": "white",
            "ticks": ""
           },
           "baxis": {
            "gridcolor": "white",
            "linecolor": "white",
            "ticks": ""
           },
           "bgcolor": "#E5ECF6",
           "caxis": {
            "gridcolor": "white",
            "linecolor": "white",
            "ticks": ""
           }
          },
          "title": {
           "x": 0.05
          },
          "xaxis": {
           "automargin": true,
           "gridcolor": "white",
           "linecolor": "white",
           "ticks": "",
           "title": {
            "standoff": 15
           },
           "zerolinecolor": "white",
           "zerolinewidth": 2
          },
          "yaxis": {
           "automargin": true,
           "gridcolor": "white",
           "linecolor": "white",
           "ticks": "",
           "title": {
            "standoff": 15
           },
           "zerolinecolor": "white",
           "zerolinewidth": 2
          }
         }
        },
        "title": {
         "font": {
          "size": 16
         },
         "text": "BeforeIT Model: Economic Indicators (Baseline Simulation)<br><sub>Showing 9 selected variables over 40 quarters</sub>",
         "x": 0.5
        },
        "width": 1200,
        "xaxis": {
         "anchor": "y",
         "domain": [
          0,
          0.29333333333333333
         ],
         "gridcolor": "lightgray",
         "gridwidth": 1,
         "showgrid": true,
         "title": {
          "text": "Quarters"
         }
        },
        "xaxis2": {
         "anchor": "y2",
         "domain": [
          0.35333333333333333,
          0.6466666666666667
         ],
         "gridcolor": "lightgray",
         "gridwidth": 1,
         "showgrid": true,
         "title": {
          "text": "Quarters"
         }
        },
        "xaxis3": {
         "anchor": "y3",
         "domain": [
          0.7066666666666667,
          1
         ],
         "gridcolor": "lightgray",
         "gridwidth": 1,
         "showgrid": true,
         "title": {
          "text": "Quarters"
         }
        },
        "xaxis4": {
         "anchor": "y4",
         "domain": [
          0,
          0.29333333333333333
         ],
         "gridcolor": "lightgray",
         "gridwidth": 1,
         "showgrid": true,
         "title": {
          "text": "Quarters"
         }
        },
        "xaxis5": {
         "anchor": "y5",
         "domain": [
          0.35333333333333333,
          0.6466666666666667
         ],
         "gridcolor": "lightgray",
         "gridwidth": 1,
         "showgrid": true,
         "title": {
          "text": "Quarters"
         }
        },
        "xaxis6": {
         "anchor": "y6",
         "domain": [
          0.7066666666666667,
          1
         ],
         "gridcolor": "lightgray",
         "gridwidth": 1,
         "showgrid": true,
         "title": {
          "text": "Quarters"
         }
        },
        "xaxis7": {
         "anchor": "y7",
         "domain": [
          0,
          0.29333333333333333
         ],
         "gridcolor": "lightgray",
         "gridwidth": 1,
         "showgrid": true,
         "title": {
          "text": "Quarters"
         }
        },
        "xaxis8": {
         "anchor": "y8",
         "domain": [
          0.35333333333333333,
          0.6466666666666667
         ],
         "gridcolor": "lightgray",
         "gridwidth": 1,
         "showgrid": true,
         "title": {
          "text": "Quarters"
         }
        },
        "xaxis9": {
         "anchor": "y9",
         "domain": [
          0.7066666666666667,
          1
         ],
         "gridcolor": "lightgray",
         "gridwidth": 1,
         "showgrid": true,
         "title": {
          "text": "Quarters"
         }
        },
        "yaxis": {
         "anchor": "x",
         "domain": [
          0.7666666666666666,
          0.9999999999999999
         ],
         "gridcolor": "lightgray",
         "gridwidth": 1,
         "showgrid": true
        },
        "yaxis2": {
         "anchor": "x2",
         "domain": [
          0.7666666666666666,
          0.9999999999999999
         ],
         "gridcolor": "lightgray",
         "gridwidth": 1,
         "showgrid": true
        },
        "yaxis3": {
         "anchor": "x3",
         "domain": [
          0.7666666666666666,
          0.9999999999999999
         ],
         "gridcolor": "lightgray",
         "gridwidth": 1,
         "showgrid": true
        },
        "yaxis4": {
         "anchor": "x4",
         "domain": [
          0.3833333333333333,
          0.6166666666666666
         ],
         "gridcolor": "lightgray",
         "gridwidth": 1,
         "showgrid": true
        },
        "yaxis5": {
         "anchor": "x5",
         "domain": [
          0.3833333333333333,
          0.6166666666666666
         ],
         "gridcolor": "lightgray",
         "gridwidth": 1,
         "showgrid": true
        },
        "yaxis6": {
         "anchor": "x6",
         "domain": [
          0.3833333333333333,
          0.6166666666666666
         ],
         "gridcolor": "lightgray",
         "gridwidth": 1,
         "showgrid": true
        },
        "yaxis7": {
         "anchor": "x7",
         "domain": [
          0,
          0.2333333333333333
         ],
         "gridcolor": "lightgray",
         "gridwidth": 1,
         "showgrid": true
        },
        "yaxis8": {
         "anchor": "x8",
         "domain": [
          0,
          0.2333333333333333
         ],
         "gridcolor": "lightgray",
         "gridwidth": 1,
         "showgrid": true
        },
        "yaxis9": {
         "anchor": "x9",
         "domain": [
          0,
          0.2333333333333333
         ],
         "gridcolor": "lightgray",
         "gridwidth": 1,
         "showgrid": true
        }
       }
      }
     },
     "metadata": {},
     "output_type": "display_data"
    }
   ],
   "source": [
    "selected_variables = [\n",
    "    'real_gdp',\n",
    "    'real_household_consumption', \n",
    "    'real_government_consumption',\n",
    "    'real_capitalformation',\n",
    "    'real_exports',\n",
    "    'real_imports',\n",
    "    'wages',\n",
    "    'euribor',\n",
    "    'gdp_deflator_growth_ea'\n",
    "]\n",
    "\n",
    "# Validate that all selected variables exist\n",
    "missing_vars = [var for var in selected_variables if var not in variable_names]\n",
    "if missing_vars:\n",
    "    raise ValueError(f\" The following selected variables are not available: {missing_vars}\")\n",
    "\n",
    "# Get indices for selected variables\n",
    "plot_data = []\n",
    "for var_name in selected_variables:\n",
    "    var_idx = variable_names.index(var_name)\n",
    "    plot_data.append((var_name, var_idx))\n",
    "\n",
    "# Calculate optimal subplot layout (prefer more columns than rows for better readability)\n",
    "n_vars = len(plot_data)\n",
    "if n_vars <= 3:\n",
    "    rows, cols = 1, n_vars\n",
    "elif n_vars <= 6:\n",
    "    rows, cols = 2, 3\n",
    "elif n_vars <= 9:\n",
    "    rows, cols = 3, 3\n",
    "elif n_vars <= 12:\n",
    "    rows, cols = 3, 4\n",
    "else:\n",
    "    rows, cols = 4, 4  # Max 4x4 grid, adjust as needed\n",
    "\n",
    "# Create subplot titles\n",
    "subplot_titles = [var.replace('_', ' ').title() for var, _ in plot_data]\n",
    "\n",
    "# Create subplot figure\n",
    "fig = make_subplots(\n",
    "    rows=rows, \n",
    "    cols=cols,\n",
    "    subplot_titles=subplot_titles,\n",
    "    vertical_spacing=0.15,\n",
    "    horizontal_spacing=0.06\n",
    ")\n",
    "\n",
    "# Add traces for each selected variable\n",
    "for i, (var_name, var_idx) in enumerate(plot_data):\n",
    "    row = (i // cols) + 1\n",
    "    col = (i % cols) + 1\n",
    "    \n",
    "    series_data = results.get_scalar_timeseries()[var_name]\n",
    "    fig.add_trace(\n",
    "        go.Scatter(\n",
    "            x=time_quarters,\n",
    "            y=series_data,\n",
    "            mode='lines',\n",
    "            name=var_name,\n",
    "            line=dict(width=2.5),\n",
    "            hovertemplate='<b>%{fullData.name}</b><br>' +\n",
    "                         'Quarter: %{x}<br>' +\n",
    "                         'Value: %{y:.4f}<br>' +\n",
    "                         '<extra></extra>'\n",
    "        ),\n",
    "        row=row, col=col\n",
    "    )\n",
    "\n",
    "# Update layout\n",
    "fig.update_layout(\n",
    "    title={\n",
    "        'text': f'BeforeIT Model: Economic Indicators (Baseline Simulation)<br><sub>Showing {n_vars} selected variables over {T} quarters</sub>',\n",
    "        'x': 0.5,\n",
    "        'font': {'size': 16}\n",
    "    },\n",
    "    height=200 * rows + 100,  # Dynamic height based on number of rows\n",
    "    width=1200,\n",
    "    showlegend=False,  # Turn off legend since subplot titles show variable names\n",
    "    plot_bgcolor='white',\n",
    "    paper_bgcolor='white'\n",
    ")\n",
    "\n",
    "# Update axes labels\n",
    "fig.update_xaxes(title_text=\"Quarters\", showgrid=True, gridwidth=1, gridcolor='lightgray')\n",
    "fig.update_yaxes(showgrid=True, gridwidth=1, gridcolor='lightgray')\n",
    "\n",
    "# Show the plot\n",
    "fig.show()\n"
   ]
  },
  {
   "cell_type": "markdown",
   "id": "0c4860fc",
   "metadata": {
    "vscode": {
     "languageId": "raw"
    }
   },
   "source": [
    "## 4. Test Alternate Specs\n",
    "\n",
    "Now let's test how changing parameters affects the model outcomes. We'll modify a few key parameters and compare the results.\n"
   ]
  },
  {
   "cell_type": "code",
   "execution_count": 32,
   "id": "eb1b2adf",
   "metadata": {},
   "outputs": [
    {
     "name": "stdout",
     "output_type": "stream",
     "text": [
      "  Test parameter: psi (current value: 0.9097)\n",
      "  Test parameter: theta_UB (current value: 0.3586)\n",
      "  Test parameter: tau_INC (current value: 0.2134)\n",
      "\n",
      "Current parameter values:\n",
      "  • psi         : 0.9097\n",
      "  • theta_UB    : 0.3586\n",
      "  • tau_INC     : 0.2134\n"
     ]
    }
   ],
   "source": [
    "# Let's test calibration by changing some key parameters\n",
    "# Select a few important parameters to modif\n",
    "key_params_to_test = ['psi', 'theta_UB', 'tau_INC']  # consumption propensity, unemployment benefits, income tax\n",
    "\n",
    "# Find which of our target parameters are actually in the calibratable set\n",
    "test_params = []\n",
    "test_indices = []\n",
    "\n",
    "for param in key_params_to_test:\n",
    "    if param in param_names:\n",
    "        idx = param_names.index(param)\n",
    "        test_params.append(param)\n",
    "        test_indices.append(idx)\n",
    "        print(f\"  Test parameter: {param} (current value: {current_values[param]:.4f})\")\n",
    "    else:\n",
    "        print(f\"  ⚠️  Parameter {param} not found in calibratable parameters\")\n",
    "\n",
    "if not test_params:\n",
    "    # If none of our preferred parameters are available, use the first few\n",
    "    test_params = param_names[:3]\n",
    "    test_indices = list(range(3))\n",
    "    print(f\"  Using first 3 available parameters: {test_params}\")\n",
    "\n",
    "print(\"\\nCurrent parameter values:\")\n",
    "for param in test_params:\n",
    "    print(f\"  • {param:12s}: {current_values[param]:.4f}\")\n"
   ]
  },
  {
   "cell_type": "code",
   "execution_count": 33,
   "id": "57644ecb",
   "metadata": {},
   "outputs": [
    {
     "name": "stderr",
     "output_type": "stream",
     "text": [
      "INFO:uk_abm.julia_model_wrapper:Running simulation with T=40, ensemble_size=4, seed=42\n",
      "INFO:uk_abm.julia_model_wrapper:Simulation completed successfully\n"
     ]
    },
    {
     "name": "stdout",
     "output_type": "stream",
     "text": [
      "Modified psi: 0.9097 → 1.0006 (+10%)\n",
      "Running modified simulation...\n",
      "Modified simulation completed!\n"
     ]
    }
   ],
   "source": [
    "# Create a modified parameter set\n",
    "modified_params = baseline_params.copy()\n",
    "\n",
    "# Increase the first test parameter by 10%\n",
    "if test_indices:\n",
    "    original_value = modified_params[test_indices[0]]\n",
    "    modified_params[test_indices[0]] = original_value * 1.1\n",
    "    \n",
    "    print(f\"Modified {test_params[0]}: {original_value:.4f} → {modified_params[test_indices[0]]:.4f} (+10%)\")\n",
    "    \n",
    "    # Run simulation with modified parameters\n",
    "    print(\"Running modified simulation...\")\n",
    "    modified_results = model.run_simulation(\n",
    "        parameters=modified_params,\n",
    "        T=T,\n",
    "        seed=seed,\n",
    "        ensemble_size=4\n",
    "    )\n",
    "    \n",
    "    print(\"Modified simulation completed!\")\n",
    "else:\n",
    "    print(\"No parameters available for testing\")\n",
    "    modified_results = results  # Use baseline results as fallback\n"
   ]
  },
  {
   "cell_type": "code",
   "execution_count": 36,
   "id": "336270ad",
   "metadata": {},
   "outputs": [
    {
     "data": {
      "application/vnd.plotly.v1+json": {
       "config": {
        "plotlyServerURL": "https://plot.ly"
       },
       "data": [
        {
         "hovertemplate": "<b>Baseline - %{fullData.name}</b><br>Quarter: %{x}<br>Value: %{y:.4f}<br><extra></extra>",
         "line": {
          "color": "blue",
          "width": 2.5
         },
         "mode": "lines",
         "name": "Baseline",
         "showlegend": true,
         "type": "scatter",
         "x": {
          "bdata": "AQIDBAUGBwgJCgsMDQ4PEBESExQVFhcYGRobHB0eHyAhIiMkJSYnKA==",
          "dtype": "i1"
         },
         "xaxis": "x",
         "y": {
          "bdata": "AAAAAGCu8UC8DakVTLLxQPuRBYl5vfFAkKl2F87N8UDWI0JDpebxQFdOqOFR2/FAGb9KVFfj8UCuHbpYbeLxQHCqdhy/A/JA62t0O/4T8kA0nmbb2AfyQJAxs5tzFPJAeflwjQgP8kBj6tqq4yPyQNRx5fghR/JAZjriE2lU8kBWeGvJyWryQFT0nUwoefJAse8cwOl18kAY7VWzo5LyQDDlUvdZo/JAiCWbejS98kBRbz8h3NbyQPtPHZdl8vJA6DL3AkcR80A0fkW4xjHzQKpWca3FQvNADK9Hp3pP80B+TBE5P1jzQCvx8EHdZvNACnOT8Xp080AWXQHikIzzQFO5XP+jb/NAIE4eSv9m80Dhv7v6BnXzQO4o184GifNAQuYjUlCo80CgtYicrrHzQM+1FmdCyvNABKLHtnW+80Ay9vCdMNjzQA==",
          "dtype": "f8"
         },
         "yaxis": "y"
        },
        {
         "hovertemplate": "<b>Modified - %{fullData.name}</b><br>Quarter: %{x}<br>Value: %{y:.4f}<br><extra></extra>",
         "line": {
          "color": "red",
          "dash": "dash",
          "width": 2.5
         },
         "mode": "lines",
         "name": "Modified",
         "showlegend": true,
         "type": "scatter",
         "x": {
          "bdata": "AQIDBAUGBwgJCgsMDQ4PEBESExQVFhcYGRobHB0eHyAhIiMkJSYnKA==",
          "dtype": "i1"
         },
         "xaxis": "x",
         "y": {
          "bdata": "TcH4HfPP8UCUkSZCScHxQCxIJ2S5TPJAiTJB+IeQ8kAXw5veb/byQMIGqdIKN/NA7+9Ada1080B2x/JVQKPzQPS86hmF4/NA0uS/pUwO9EB5scozxRj0QKBz5tmXL/RA7/aU585N9EAmXyfDYlf0QKmZAOnnYfRAlgFS+zJX9ECj0HaFkE30QE+02dhOafRAjo/L07Rl9EDZjPSCPmP0QKYLAKFddvRAHvYouQV+9EBZfzZHpXP0QAIopiHwYPRAMKkS8Ltv9EDTbxW0wYP0QIpkLcyPfPRA/pxenG949EBT9e9vcFv0QLV+CDcjcvRAMLBzG2GK9EDsG60XBJr0QFh5q+evjvRAktoGDwuY9ECd++RSXp/0QLge+Ek7n/RAV+1ZXgux9EBqjMYyBKL0QIfYWU2+tfRAdFBdyGSu9EAGfIBojq70QA==",
          "dtype": "f8"
         },
         "yaxis": "y"
        },
        {
         "hovertemplate": "<b>Baseline - %{fullData.name}</b><br>Quarter: %{x}<br>Value: %{y:.4f}<br><extra></extra>",
         "line": {
          "color": "blue",
          "width": 2.5
         },
         "mode": "lines",
         "name": "Baseline",
         "showlegend": false,
         "type": "scatter",
         "x": {
          "bdata": "AQIDBAUGBwgJCgsMDQ4PEBESExQVFhcYGRobHB0eHyAhIiMkJSYnKA==",
          "dtype": "i1"
         },
         "xaxis": "x2",
         "y": {
          "bdata": "DoxpVR7I40A9UkNH0sjjQPBlIR900ONA9KzbCyTc40ALSI9wdu3jQFThjxyA5eNAfCyV9GHn40DTcE/b2eTjQMTNXq0DA+RAIrKJDLgS5EAAV5fc7ATkQJrI7Z0XEORApgc21fII5EDdaCdMyR/kQLZqcXZSPuRAJN/Gu91I5EA8sThkTljkQCXL5nx1ZORAy6Pp8u9l5EDBHt5Nm3bkQElMIdHFeORABCJDodyD5EBS6D9lNKHkQG7IJNlWuuRAJRrQU87Z5EC/aG6f7/zkQPB/Y/3yE+VAg7XVj5wT5UBvlkZoWCblQM5Hyk4uM+VAD2RSbV5D5UCm3wV20GnlQK6SPPCaWOVACvVx2OhP5UCWjy1vyE7lQOcLI0WMWuVATvO0k+1+5UASpe9Zv33lQDmRavRVl+VAYkILzyqQ5UDnxuPhdKzlQA==",
          "dtype": "f8"
         },
         "yaxis": "y2"
        },
        {
         "hovertemplate": "<b>Modified - %{fullData.name}</b><br>Quarter: %{x}<br>Value: %{y:.4f}<br><extra></extra>",
         "line": {
          "color": "red",
          "dash": "dash",
          "width": 2.5
         },
         "mode": "lines",
         "name": "Modified",
         "showlegend": false,
         "type": "scatter",
         "x": {
          "bdata": "AQIDBAUGBwgJCgsMDQ4PEBESExQVFhcYGRobHB0eHyAhIiMkJSYnKA==",
          "dtype": "i1"
         },
         "xaxis": "x2",
         "y": {
          "bdata": "doBaxIfC5UBM4lu1EWXkQA86966UY+VAuIkLzMOl5UAv1HlSHfzlQMF+idTdP+ZAL3VSOimB5kAQUBKw77HmQOyW8v+77uZAcmcq7dgn50DUrsfQokbnQP4LK9Y7aOdA6vcWH8OH50DtH1rfuJjnQOW0VyKoredACgqlDpix50A1Wb9xUKfnQEKXUS5Is+dADQKCKaCm50D4fjAb/6fnQPUYSs76w+dAhDXnMMHM50De63B3n8znQI5HaYk/w+dAHUXdW5jd50A+vRgMRePnQGsIXOKu7udAmDIRz2X250A4Qa3wqtnnQPLPsILy7edAseWoZFH/50CiwKhDVAXoQIJB17aa8edAnDDf7IkB6EBjYG8RNwPoQHKGq8o2BehAXO0x21oU6EAgjjqDCQHoQFRZynokGuhAD7KAwLgU6EAIJrBCQiHoQA==",
          "dtype": "f8"
         },
         "yaxis": "y2"
        },
        {
         "hovertemplate": "<b>Baseline - %{fullData.name}</b><br>Quarter: %{x}<br>Value: %{y:.4f}<br><extra></extra>",
         "line": {
          "color": "blue",
          "width": 2.5
         },
         "mode": "lines",
         "name": "Baseline",
         "showlegend": false,
         "type": "scatter",
         "x": {
          "bdata": "AQIDBAUGBwgJCgsMDQ4PEBESExQVFhcYGRobHB0eHyAhIiMkJSYnKA==",
          "dtype": "i1"
         },
         "xaxis": "x3",
         "y": {
          "bdata": "/uK0qnEJzUBZDKotyPPMQOz2tIpsGc1AgNRcOxgTzUBkPHZ/DxjNQAhLoHlcDc1A52qsrn5izUDZXvOVcJTNQBp7eKch8s1ALXPSbXQIzkD6jkqR0tbNQOsmUZpH881Ayvk1ACwCzkCeCaR8T0rOQLwFR3Crms5AljzOG6PczkBWNpKWfQjPQGBLSroW785AVs9utSwez0CPOp3Gm3LPQJTJsRT5pM9Aaq085Caxz0CfcwzZFtHPQOa40pRa3M9ABOScy+gG0EDCXYLtPB3QQKLcUu/rQNBAXzKLgsVA0EAKOBKRvUvQQLu+OF8FZ9BAogU00Gs60EDY8CT33TnQQEugLRR4KtBAJg0VxVlG0ECsvINymD7QQLp9ZcqzMdBAsavZz9tl0EASdNjlL2LQQM5I+gZNZtBAj2/gMe5v0ECEsobcR5vQQA==",
          "dtype": "f8"
         },
         "yaxis": "y3"
        },
        {
         "hovertemplate": "<b>Modified - %{fullData.name}</b><br>Quarter: %{x}<br>Value: %{y:.4f}<br><extra></extra>",
         "line": {
          "color": "red",
          "dash": "dash",
          "width": 2.5
         },
         "mode": "lines",
         "name": "Modified",
         "showlegend": false,
         "type": "scatter",
         "x": {
          "bdata": "AQIDBAUGBwgJCgsMDQ4PEBESExQVFhcYGRobHB0eHyAhIiMkJSYnKA==",
          "dtype": "i1"
         },
         "xaxis": "x3",
         "y": {
          "bdata": "/uK0qnEJzUAGzW5iWnbMQCGT3xOFC81AmJkqgxsnzUBu+kB1PjHNQKClYi14as1ANBz1S/h8zUDJJcI1e6DNQH5leDN4f81AfBleWjFuzUCbxa2iNWTNQC6Z4yf4i81Ae9CKqyTJzUC4q6fQh/LNQIV5AbwCtc1ANbhPNs+dzUCrZHSXduHNQJBQznX1Bs5ALLkrrJDPzUCmwK3UqcvNQNoDH+VX4c1AQgGSrjfNzUBgmOjx6r7NQPBcunhGws1AyUryObAVzkAQWxkYYxjOQJEnAJNZTs5ANDcPnrM/zkDx2yTbv5vOQO2v9cx+nc5AUzaVLeooz0CGScK9rW7PQEtA3YSQg89AVWw9rxuiz0C4ppkLPnjPQOSCHl5IYM9AtlT4lk19z0DhewYH4ZzPQHfaNFd8wM9AxEdNrSfrz0CDtRp3surPQA==",
          "dtype": "f8"
         },
         "yaxis": "y3"
        },
        {
         "hovertemplate": "<b>Baseline - %{fullData.name}</b><br>Quarter: %{x}<br>Value: %{y:.4f}<br><extra></extra>",
         "line": {
          "color": "blue",
          "width": 2.5
         },
         "mode": "lines",
         "name": "Baseline",
         "showlegend": false,
         "type": "scatter",
         "x": {
          "bdata": "AQIDBAUGBwgJCgsMDQ4PEBESExQVFhcYGRobHB0eHyAhIiMkJSYnKA==",
          "dtype": "i1"
         },
         "xaxis": "x4",
         "y": {
          "bdata": "4772PR4kz0ACF5w0hWrPQCVOLAJQls9AepxVBTyKz0A7SnWTgd/PQJKHnqmuy89Ana+F+w2+z0DSU8UdTUjPQAz/TidMfs9Apt26ZPDLz0B2PV2XAdrPQABpbHYx4s9AEXU3tu8E0ECeobhM493PQFi9xdYuLtBAPqgwSJEF0ED/z/dEaD7QQEbtH8KTPtBA5BPWc7cM0EDDGu3lKObPQKlKFiSrKdBAnpaqfZli0EA1eoZPV4DQQKIg/UV9edBAWQwU+Aqy0EDhb1Di2xDRQAzT+aOoHdFAKrhxlqk40UDNgnK8YPzQQDTVrxiyDdFAD/9i605o0UBBT0UewFDRQMwR4cjP/dBAqpe9znoI0UB4DR0UtzvRQBl0qAx0Y9FAVb6n6oio0UDXxcbpip/RQBaNge8gzdFAO7rwVm+n0UAqXeobrZzRQA==",
          "dtype": "f8"
         },
         "yaxis": "y4"
        },
        {
         "hovertemplate": "<b>Modified - %{fullData.name}</b><br>Quarter: %{x}<br>Value: %{y:.4f}<br><extra></extra>",
         "line": {
          "color": "red",
          "dash": "dash",
          "width": 2.5
         },
         "mode": "lines",
         "name": "Modified",
         "showlegend": false,
         "type": "scatter",
         "x": {
          "bdata": "AQIDBAUGBwgJCgsMDQ4PEBESExQVFhcYGRobHB0eHyAhIiMkJSYnKA==",
          "dtype": "i1"
         },
         "xaxis": "x4",
         "y": {
          "bdata": "4772PR4kz0B88lVoJ0HPQAucbddZnc9ABCOXDDZ00EACAlvij2LRQCbF2I0JVNFAaICDt8Bx0UD0hgc9BrvRQE9qvjcGC9JAW5t5nUJA0kDAVKBEzjTSQNNs/HPYTNJANmO5DoFu0kDeLbPuClLSQDxJ7l29t9JAnJLpIwFk0kBiJNZEWv/RQIqKQ0wVNtJApAhd175Z0kDoBXBeD0/SQBr7J/EQk9JAC+1oLSGC0kAggdkC8Z7SQP4ul3oqWtJAulNmuND50UBpkRlHtJzSQDlIpvNwX9JA11NVtciE0kBesxZHzMvRQOyAhDWzCNJAqFp9yQ8q0kAch+EiFQLSQP7W3VDXZNJAZ7DZkZwC0kAwmwD8pGDSQPzklx8xhtJAvizqhGW10kCMeOGjvKfSQGys2Ali+dJAwQJQ7WDO0kBXeFLA15zSQA==",
          "dtype": "f8"
         },
         "yaxis": "y4"
        },
        {
         "hovertemplate": "<b>Baseline - %{fullData.name}</b><br>Quarter: %{x}<br>Value: %{y:.4f}<br><extra></extra>",
         "line": {
          "color": "blue",
          "width": 2.5
         },
         "mode": "lines",
         "name": "Baseline",
         "showlegend": false,
         "type": "scatter",
         "x": {
          "bdata": "AQIDBAUGBwgJCgsMDQ4PEBESExQVFhcYGRobHB0eHyAhIiMkJSYnKA==",
          "dtype": "i1"
         },
         "xaxis": "x5",
         "y": {
          "bdata": "AOxbEHKy4EBeU+77ZargQLDkJxR3o+BAQCKkoh3a4ECkcaxnECvhQHTqd1ynJOFAE0dk9IDx4EA30PoxvP3gQHg8jMCzFOFABj741iLl4EBspW8hFyrhQKz+0qybFeFAR5cWfY874UB2uJQNOyPhQPjvbQy/NOFAen237PtB4UC31RZefGPhQG8PwmKLSuFAPkqh4dNf4UBDXZRqe5jhQIJHZp9oVuFAgqy0ojRs4UAt2rjHYajhQL2Ag+77p+FAFhoD3+Om4UD1oBzZN5XhQARo4mB9ouFA3Bmm+JCz4UD3STfIAJHhQEbNS595l+FA4Uhi91us4UAAK03V6vPhQH00cZtl6OFAyKPtT1qo4UBNA44AeJnhQKK68jazjuFAD4m/Fvo/4UAUpQgVyWbhQNP8hVIIYuFAqmr7Qd/W4UBKy3pMXtbhQA==",
          "dtype": "f8"
         },
         "yaxis": "y5"
        },
        {
         "hovertemplate": "<b>Modified - %{fullData.name}</b><br>Quarter: %{x}<br>Value: %{y:.4f}<br><extra></extra>",
         "line": {
          "color": "red",
          "dash": "dash",
          "width": 2.5
         },
         "mode": "lines",
         "name": "Modified",
         "showlegend": false,
         "type": "scatter",
         "x": {
          "bdata": "AQIDBAUGBwgJCgsMDQ4PEBESExQVFhcYGRobHB0eHyAhIiMkJSYnKA==",
          "dtype": "i1"
         },
         "xaxis": "x5",
         "y": {
          "bdata": "AOxbEHKy4EBOJHejuzzgQMQfTxfFNOBAbIFtlgXm30CghapmDR/gQJtki1dAOOBAz5joByF94EB+vE+PiljgQOzmlIAEheBA5srXNwCM4EAfOcqYoo3gQPpUm23xzeBADpnp0oo44UDuzQkziEHhQBdnjg3EM+FAyuanLq9w4UB87Y6g5eLhQAUwIOQ2puFADoIvAP+Z4UAbbt4Dh2vhQPjlRSBPjeFADO18Rbd04UC+DFo6Z0bhQIcEt+whZuFAwxOd6guU4UDCzYz7NEnhQP/wwjEFWeFASkIlsWZ14UD7FP3jr4nhQI4O4AlcjuFAYwSkU9Rv4UDcu2FXronhQFfAawGLN+FAtt1zHDE24UAa7wiSyCbhQEDVn2I3A+FA3Hn12M6d4ECrsFxXu67gQBxp5qJGgeBAjPYtJF+s4EAI8c9rq8PgQA==",
          "dtype": "f8"
         },
         "yaxis": "y5"
        },
        {
         "hovertemplate": "<b>Baseline - %{fullData.name}</b><br>Quarter: %{x}<br>Value: %{y:.4f}<br><extra></extra>",
         "line": {
          "color": "blue",
          "width": 2.5
         },
         "mode": "lines",
         "name": "Baseline",
         "showlegend": false,
         "type": "scatter",
         "x": {
          "bdata": "AQIDBAUGBwgJCgsMDQ4PEBESExQVFhcYGRobHB0eHyAhIiMkJSYnKA==",
          "dtype": "i1"
         },
         "xaxis": "x6",
         "y": {
          "bdata": "i2DwXzQp4EAAE3FwMybgQM93dkTnJOBAVBi/j/pB4ECJU3KWIIngQN3jhn7GieBA/Xvwalda4EBUMsTI6lTgQCKUr6hUbOBAh2w8ofdE4ED4smNRh4vgQNPHiVcqcuBA7OSTEnSp4EBhd122SYXgQBgXidiPouBABcvF6/ib4EDmC5m3isfgQIJ7D9a/l+BAWcyXO9en4EBIN+l8AMDgQCphGVmOhuBADPqlxj6T4EDPPYBIT9DgQMLnoOFcseBAcka9Dp664EAldOlvpsXgQF2SCU0v4OBAjuZqxu/k4EDTpB3l6argQL18KCZJt+BALklZ3yHY4ECHcAWS6AnhQIyte3vc9eBA2k4M3q7R4EAyeJQ9WrvgQKdt7snFoeBA4GRtY3l14EDve7adCILgQDcNAXSQfuBAJv7fZ8314ECqLbVubO7gQA==",
          "dtype": "f8"
         },
         "yaxis": "y6"
        },
        {
         "hovertemplate": "<b>Modified - %{fullData.name}</b><br>Quarter: %{x}<br>Value: %{y:.4f}<br><extra></extra>",
         "line": {
          "color": "red",
          "dash": "dash",
          "width": 2.5
         },
         "mode": "lines",
         "name": "Modified",
         "showlegend": false,
         "type": "scatter",
         "x": {
          "bdata": "AQIDBAUGBwgJCgsMDQ4PEBESExQVFhcYGRobHB0eHyAhIiMkJSYnKA==",
          "dtype": "i1"
         },
         "xaxis": "x6",
         "y": {
          "bdata": "i2DwXzQp4EBEEzdHGw3gQEoVy7geKeBAOjqsGzH330BWk2qK4ivgQOzhB1mrDuBAXzV4xg0t4ECUynB/mwngQJxSb3UXEuBAmbzWfu0S4ECkIPiMLxbgQEeW8NNnYOBAFQkW1TnO4ECcsZj3ItHgQKRr3Lu75uBA/qQxplUN4UDL0KjPH2fhQPS3U2SpI+FAjdfTGPkV4UBiRok9e+fgQBimax5tJuFAGC1rhsv54EB44ERh7+rgQNwqTg4oBeFA/cIE0YAU4UC1yg2JafngQFBeV1rjEeFApLKniT5N4UBi/B4PUDnhQE+Nf2zBQ+FAgYSJ8aU54UCImpFssDfhQPdKkrIVH+FAOowBIHrx4EBhD5X+pPngQHGxrkAi5eBAALimHxmK4EBKgbwI06bgQFKetp2+nOBA9FrvtUjG4ECYCG9b6dDgQA==",
          "dtype": "f8"
         },
         "yaxis": "y6"
        },
        {
         "hovertemplate": "<b>Baseline - %{fullData.name}</b><br>Quarter: %{x}<br>Value: %{y:.4f}<br><extra></extra>",
         "line": {
          "color": "blue",
          "width": 2.5
         },
         "mode": "lines",
         "name": "Baseline",
         "showlegend": false,
         "type": "scatter",
         "x": {
          "bdata": "AQIDBAUGBwgJCgsMDQ4PEBESExQVFhcYGRobHB0eHyAhIiMkJSYnKA==",
          "dtype": "i1"
         },
         "xaxis": "x7",
         "y": {
          "bdata": "fTlzE9Wr20C3DnCt7O/bQHw7A2PHItxA9sukw+Vh3EAWg0/NCavcQLXIAXUGw9xAmbJvO7Tx3EBVWovxeRDdQBeLKWtpUN1AcOeI6GqE3UCA8qwP75jdQBPVT2vdxt1A9b6akDzS3UAQsH3n9xfeQGEpSZJhfd5AYyZdq3u03kB4AkSnVvjeQKIrxO8YNN9A3j9mzF1M30D5dfI8xqTfQCShfU6ZAOBAV9MqLm8m4EAiXZ1H6EXgQCivoS2uXOBAORGKW1mK4EDk+6G4uLngQHxSRD2A6eBAVYzU+JUA4UAm4NWn9w3hQBOKT+SqHuFAzBMfwSFD4UB7SXyF32rhQJd3qP5eVeFARPhzgIpk4UAZDbsCf3fhQPzePTrtkuFAB6q+c//F4UA3T7qjm+/hQC7kUJ8SEOJAw6jjYmwP4kDK1IPS2TTiQA==",
          "dtype": "f8"
         },
         "yaxis": "y7"
        },
        {
         "hovertemplate": "<b>Modified - %{fullData.name}</b><br>Quarter: %{x}<br>Value: %{y:.4f}<br><extra></extra>",
         "line": {
          "color": "red",
          "dash": "dash",
          "width": 2.5
         },
         "mode": "lines",
         "name": "Modified",
         "showlegend": false,
         "type": "scatter",
         "x": {
          "bdata": "AQIDBAUGBwgJCgsMDQ4PEBESExQVFhcYGRobHB0eHyAhIiMkJSYnKA==",
          "dtype": "i1"
         },
         "xaxis": "x7",
         "y": {
          "bdata": "fTlzE9Wr20DzoEppfcnbQH4PcJD2otxAaKosmNYx3UDeBtfKiBneQKn1qG1npN5ArLoykcw230D+ON9aZsLfQJUJAzzYM+BAoFQJoeRb4EBznyjoI2rgQI+nNNASh+BAveHz0hHB4ECtzmfZ5NvgQJU1+1L29OBA+IKruPvu4EB6xYWDUPPgQE5UJfSgKuFAqAfNc7ou4UCI5qJnmTfhQPVvijhVbuFALDJkatma4UAUn90p0KHhQHxlaJ7FmeFAtdvjzSO54UCKGaX6f9bhQPuj3dEC6uFACiF05oz44UDosMDPftXhQNOEOmZZ9eFAfL769Rok4kCeJRS5KlLiQDBo+C1kWeJABe8nW7Vw4kBSv7vlsoviQOHKCmR0q+JAt6cs7LDf4kCuesXPwOHiQE6cLppUA+NAhGEt8EYn40B0ECgy8z/jQA==",
          "dtype": "f8"
         },
         "yaxis": "y7"
        },
        {
         "hovertemplate": "<b>Baseline - %{fullData.name}</b><br>Quarter: %{x}<br>Value: %{y:.4f}<br><extra></extra>",
         "line": {
          "color": "blue",
          "width": 2.5
         },
         "mode": "lines",
         "name": "Baseline",
         "showlegend": false,
         "type": "scatter",
         "x": {
          "bdata": "AQIDBAUGBwgJCgsMDQ4PEBESExQVFhcYGRobHB0eHyAhIiMkJSYnKA==",
          "dtype": "i1"
         },
         "xaxis": "x8",
         "y": {
          "bdata": "ANwK7In3Wj+Q/YR7WlJaP0CR8eBOOVw/eEHqkNTXYD+IFtfAfk9mP/hgfGpyfmU/HM/BBvkkYz/C6QRkQUljP0/yBcmmL2I//e159qE+Xz/DBBFfGtthP4qe5kzWCmE/ODwaBBdlYz9H9kN8cGJjP7R5EE65T2U/BJULbysaZT+ucBvStshnP2FKy/diNmU/7TT13I/mZD/p6v9JmHJnPx4mWBW2/WI/2cFmCMjfYz+AH1XSOXJkP3Z/UwT1CmI/3enjDKLqXz/PF7BjtGVeP5txiVh8DGI/2e15oo9uYj9doNAx8pJgP20N4Cn/oWM/lkzUPLcKZT+GNSS/I7poP17rZnZMpGc/s2I1XQtsZT9oUzmbvyVkPziAHcYEgV8/9tT8bk37TD8nsUW5lR5HP7bFVCX6EUg/NriyPWVwVj/U5msw30ZbPw==",
          "dtype": "f8"
         },
         "yaxis": "y8"
        },
        {
         "hovertemplate": "<b>Modified - %{fullData.name}</b><br>Quarter: %{x}<br>Value: %{y:.4f}<br><extra></extra>",
         "line": {
          "color": "red",
          "dash": "dash",
          "width": 2.5
         },
         "mode": "lines",
         "name": "Modified",
         "showlegend": false,
         "type": "scatter",
         "x": {
          "bdata": "AQIDBAUGBwgJCgsMDQ4PEBESExQVFhcYGRobHB0eHyAhIiMkJSYnKA==",
          "dtype": "i1"
         },
         "xaxis": "x8",
         "y": {
          "bdata": "ANwK7In3Wj/4gpjgt2FUPwRRlWbOFlo/RqrA3OpgWT9089INQYdiP7kMlIBw1V4/MfUFHrsrYT/QLJIHJOVgP7qlP0VmkmQ/S3kssKP6ZD/fvIBdGfpjP6weIiXYN2c/DBrScS9Kaz8c+PIukShpP5aSsr/ya2k/W+SuzJ2AbD+uthHN/mxuPzbR0z6ja2w/yGu/mFtbaz8mYK3sVelqP7RmRYzeSWg/9DO1hkLZZj+8u8faDJVjP1pebdB6LmQ/J6YBNh17ZD+6N8vDKztjPxJb1Z+VQGI/MnTPzmxDYT/vRKUI5sVgP5GWf4D/+ls/8wuBAgmTWT8JUzEO1FxbP4Rw+GjQ/FE/pajL+t0lVD+WWRgNECVMPxzu49vH4U8/4nLJq7VNUj8INEh+hTxUP2AQZsRnJVM/5sLQ2330Vj/AjwONqQ1ePw==",
          "dtype": "f8"
         },
         "yaxis": "y8"
        },
        {
         "hovertemplate": "<b>Baseline - %{fullData.name}</b><br>Quarter: %{x}<br>Value: %{y:.4f}<br><extra></extra>",
         "line": {
          "color": "blue",
          "width": 2.5
         },
         "mode": "lines",
         "name": "Baseline",
         "showlegend": false,
         "type": "scatter",
         "x": {
          "bdata": "AQIDBAUGBwgJCgsMDQ4PEBESExQVFhcYGRobHB0eHyAhIiMkJSYnKA==",
          "dtype": "i1"
         },
         "xaxis": "x9",
         "y": {
          "bdata": "ALAqEubBXz/ALlImSUplPwAcSffDYnE/gNtZkkp0cT8Ad2t/nuRqPwDSeDLK/m4/wN8tY7SUbj9ArdLjPr1gPwBWDwJRuU4/gE96ps6xbz+AjV3wYPJpP0Dlpbw2EXM/AITlXbw4ej/ACAx8vMZzP4AAv2QV0WY/YHJsivaTcD+AlZU98ipyP4A7lw0Dmm0/ACwR5NA6cD9A6WsAsGV1P8ATmLTyQHI/QI4/uhtidz9AMU8S0GpzP8DjzPl/rHg/gBBs95qYdD/AR0wyCtV4P4DaRiboT3U/wKJkaMJ2dj/ATRwjX81yPwA70kMZ63A/gPkIHns/aT/AC2zctxxgP8CgM4gZbW8/AJZbybEtbz8AAACqVA1vP8BhVERmymQ/ACkWh9zSWj/AobnJhBZgPwCzM1WRinE/wHSGWvRxZz9Au7y2YHB0Pw==",
          "dtype": "f8"
         },
         "yaxis": "y9"
        },
        {
         "hovertemplate": "<b>Modified - %{fullData.name}</b><br>Quarter: %{x}<br>Value: %{y:.4f}<br><extra></extra>",
         "line": {
          "color": "red",
          "dash": "dash",
          "width": 2.5
         },
         "mode": "lines",
         "name": "Modified",
         "showlegend": false,
         "type": "scatter",
         "x": {
          "bdata": "AQIDBAUGBwgJCgsMDQ4PEBESExQVFhcYGRobHB0eHyAhIiMkJSYnKA==",
          "dtype": "i1"
         },
         "xaxis": "x9",
         "y": {
          "bdata": "ALAqEubBXz8A7ljcxjUxPwCqehyWVWg/ALCqTGiuZz8AXqBppPdpP8BOcIYFxmY/wK7pSHNbZz9AxvScgANyP0Cb8t09l3I/YDN0shGecj+AzJulbMp2P4A3qhFdT2s/AKKgr63bYz+A9421v09tP4DvxPfrE3Q/gFLrRUcPaT+A49ClJwBXP4DhD5Ho93I/wGlSXXZucj9AihgtKTF5P0Daboq4NXI/QKbsljggcD8AOoUU5NNoPwDaswYUDnA/wLVYfXOrZj+A9NR9JNNjP0Bh+1htmmA/AM/GBIFZbz+Aa5Lh4TJsPwD7qTF8XW8/gLz4Yjj0aj9Aj0jME9FxP4Cjzle1xmg/QHYv+02Ncj+ANTGrS9hyPwCgKpINyXI/wBpbAL60eT8AS1+4RFF3PwCiNY1DBWs/ANhAbQUjcz+AEuCLCip0Pw==",
          "dtype": "f8"
         },
         "yaxis": "y9"
        }
       ],
       "layout": {
        "annotations": [
         {
          "font": {
           "size": 16
          },
          "showarrow": false,
          "text": "Real Gdp",
          "x": 0.14666666666666667,
          "xanchor": "center",
          "xref": "paper",
          "y": 0.9999999999999999,
          "yanchor": "bottom",
          "yref": "paper"
         },
         {
          "font": {
           "size": 16
          },
          "showarrow": false,
          "text": "Real Household Consumption",
          "x": 0.5,
          "xanchor": "center",
          "xref": "paper",
          "y": 0.9999999999999999,
          "yanchor": "bottom",
          "yref": "paper"
         },
         {
          "font": {
           "size": 16
          },
          "showarrow": false,
          "text": "Real Government Consumption",
          "x": 0.8533333333333333,
          "xanchor": "center",
          "xref": "paper",
          "y": 0.9999999999999999,
          "yanchor": "bottom",
          "yref": "paper"
         },
         {
          "font": {
           "size": 16
          },
          "showarrow": false,
          "text": "Real Capitalformation",
          "x": 0.14666666666666667,
          "xanchor": "center",
          "xref": "paper",
          "y": 0.6166666666666666,
          "yanchor": "bottom",
          "yref": "paper"
         },
         {
          "font": {
           "size": 16
          },
          "showarrow": false,
          "text": "Real Exports",
          "x": 0.5,
          "xanchor": "center",
          "xref": "paper",
          "y": 0.6166666666666666,
          "yanchor": "bottom",
          "yref": "paper"
         },
         {
          "font": {
           "size": 16
          },
          "showarrow": false,
          "text": "Real Imports",
          "x": 0.8533333333333333,
          "xanchor": "center",
          "xref": "paper",
          "y": 0.6166666666666666,
          "yanchor": "bottom",
          "yref": "paper"
         },
         {
          "font": {
           "size": 16
          },
          "showarrow": false,
          "text": "Wages",
          "x": 0.14666666666666667,
          "xanchor": "center",
          "xref": "paper",
          "y": 0.2333333333333333,
          "yanchor": "bottom",
          "yref": "paper"
         },
         {
          "font": {
           "size": 16
          },
          "showarrow": false,
          "text": "Euribor",
          "x": 0.5,
          "xanchor": "center",
          "xref": "paper",
          "y": 0.2333333333333333,
          "yanchor": "bottom",
          "yref": "paper"
         },
         {
          "font": {
           "size": 16
          },
          "showarrow": false,
          "text": "Gdp Deflator Growth Ea",
          "x": 0.8533333333333333,
          "xanchor": "center",
          "xref": "paper",
          "y": 0.2333333333333333,
          "yanchor": "bottom",
          "yref": "paper"
         }
        ],
        "height": 700,
        "legend": {
         "orientation": "h",
         "x": 1,
         "xanchor": "right",
         "y": 1.02,
         "yanchor": "bottom"
        },
        "paper_bgcolor": "white",
        "plot_bgcolor": "white",
        "template": {
         "data": {
          "bar": [
           {
            "error_x": {
             "color": "#2a3f5f"
            },
            "error_y": {
             "color": "#2a3f5f"
            },
            "marker": {
             "line": {
              "color": "#E5ECF6",
              "width": 0.5
             },
             "pattern": {
              "fillmode": "overlay",
              "size": 10,
              "solidity": 0.2
             }
            },
            "type": "bar"
           }
          ],
          "barpolar": [
           {
            "marker": {
             "line": {
              "color": "#E5ECF6",
              "width": 0.5
             },
             "pattern": {
              "fillmode": "overlay",
              "size": 10,
              "solidity": 0.2
             }
            },
            "type": "barpolar"
           }
          ],
          "carpet": [
           {
            "aaxis": {
             "endlinecolor": "#2a3f5f",
             "gridcolor": "white",
             "linecolor": "white",
             "minorgridcolor": "white",
             "startlinecolor": "#2a3f5f"
            },
            "baxis": {
             "endlinecolor": "#2a3f5f",
             "gridcolor": "white",
             "linecolor": "white",
             "minorgridcolor": "white",
             "startlinecolor": "#2a3f5f"
            },
            "type": "carpet"
           }
          ],
          "choropleth": [
           {
            "colorbar": {
             "outlinewidth": 0,
             "ticks": ""
            },
            "type": "choropleth"
           }
          ],
          "contour": [
           {
            "colorbar": {
             "outlinewidth": 0,
             "ticks": ""
            },
            "colorscale": [
             [
              0,
              "#0d0887"
             ],
             [
              0.1111111111111111,
              "#46039f"
             ],
             [
              0.2222222222222222,
              "#7201a8"
             ],
             [
              0.3333333333333333,
              "#9c179e"
             ],
             [
              0.4444444444444444,
              "#bd3786"
             ],
             [
              0.5555555555555556,
              "#d8576b"
             ],
             [
              0.6666666666666666,
              "#ed7953"
             ],
             [
              0.7777777777777778,
              "#fb9f3a"
             ],
             [
              0.8888888888888888,
              "#fdca26"
             ],
             [
              1,
              "#f0f921"
             ]
            ],
            "type": "contour"
           }
          ],
          "contourcarpet": [
           {
            "colorbar": {
             "outlinewidth": 0,
             "ticks": ""
            },
            "type": "contourcarpet"
           }
          ],
          "heatmap": [
           {
            "colorbar": {
             "outlinewidth": 0,
             "ticks": ""
            },
            "colorscale": [
             [
              0,
              "#0d0887"
             ],
             [
              0.1111111111111111,
              "#46039f"
             ],
             [
              0.2222222222222222,
              "#7201a8"
             ],
             [
              0.3333333333333333,
              "#9c179e"
             ],
             [
              0.4444444444444444,
              "#bd3786"
             ],
             [
              0.5555555555555556,
              "#d8576b"
             ],
             [
              0.6666666666666666,
              "#ed7953"
             ],
             [
              0.7777777777777778,
              "#fb9f3a"
             ],
             [
              0.8888888888888888,
              "#fdca26"
             ],
             [
              1,
              "#f0f921"
             ]
            ],
            "type": "heatmap"
           }
          ],
          "histogram": [
           {
            "marker": {
             "pattern": {
              "fillmode": "overlay",
              "size": 10,
              "solidity": 0.2
             }
            },
            "type": "histogram"
           }
          ],
          "histogram2d": [
           {
            "colorbar": {
             "outlinewidth": 0,
             "ticks": ""
            },
            "colorscale": [
             [
              0,
              "#0d0887"
             ],
             [
              0.1111111111111111,
              "#46039f"
             ],
             [
              0.2222222222222222,
              "#7201a8"
             ],
             [
              0.3333333333333333,
              "#9c179e"
             ],
             [
              0.4444444444444444,
              "#bd3786"
             ],
             [
              0.5555555555555556,
              "#d8576b"
             ],
             [
              0.6666666666666666,
              "#ed7953"
             ],
             [
              0.7777777777777778,
              "#fb9f3a"
             ],
             [
              0.8888888888888888,
              "#fdca26"
             ],
             [
              1,
              "#f0f921"
             ]
            ],
            "type": "histogram2d"
           }
          ],
          "histogram2dcontour": [
           {
            "colorbar": {
             "outlinewidth": 0,
             "ticks": ""
            },
            "colorscale": [
             [
              0,
              "#0d0887"
             ],
             [
              0.1111111111111111,
              "#46039f"
             ],
             [
              0.2222222222222222,
              "#7201a8"
             ],
             [
              0.3333333333333333,
              "#9c179e"
             ],
             [
              0.4444444444444444,
              "#bd3786"
             ],
             [
              0.5555555555555556,
              "#d8576b"
             ],
             [
              0.6666666666666666,
              "#ed7953"
             ],
             [
              0.7777777777777778,
              "#fb9f3a"
             ],
             [
              0.8888888888888888,
              "#fdca26"
             ],
             [
              1,
              "#f0f921"
             ]
            ],
            "type": "histogram2dcontour"
           }
          ],
          "mesh3d": [
           {
            "colorbar": {
             "outlinewidth": 0,
             "ticks": ""
            },
            "type": "mesh3d"
           }
          ],
          "parcoords": [
           {
            "line": {
             "colorbar": {
              "outlinewidth": 0,
              "ticks": ""
             }
            },
            "type": "parcoords"
           }
          ],
          "pie": [
           {
            "automargin": true,
            "type": "pie"
           }
          ],
          "scatter": [
           {
            "fillpattern": {
             "fillmode": "overlay",
             "size": 10,
             "solidity": 0.2
            },
            "type": "scatter"
           }
          ],
          "scatter3d": [
           {
            "line": {
             "colorbar": {
              "outlinewidth": 0,
              "ticks": ""
             }
            },
            "marker": {
             "colorbar": {
              "outlinewidth": 0,
              "ticks": ""
             }
            },
            "type": "scatter3d"
           }
          ],
          "scattercarpet": [
           {
            "marker": {
             "colorbar": {
              "outlinewidth": 0,
              "ticks": ""
             }
            },
            "type": "scattercarpet"
           }
          ],
          "scattergeo": [
           {
            "marker": {
             "colorbar": {
              "outlinewidth": 0,
              "ticks": ""
             }
            },
            "type": "scattergeo"
           }
          ],
          "scattergl": [
           {
            "marker": {
             "colorbar": {
              "outlinewidth": 0,
              "ticks": ""
             }
            },
            "type": "scattergl"
           }
          ],
          "scattermap": [
           {
            "marker": {
             "colorbar": {
              "outlinewidth": 0,
              "ticks": ""
             }
            },
            "type": "scattermap"
           }
          ],
          "scattermapbox": [
           {
            "marker": {
             "colorbar": {
              "outlinewidth": 0,
              "ticks": ""
             }
            },
            "type": "scattermapbox"
           }
          ],
          "scatterpolar": [
           {
            "marker": {
             "colorbar": {
              "outlinewidth": 0,
              "ticks": ""
             }
            },
            "type": "scatterpolar"
           }
          ],
          "scatterpolargl": [
           {
            "marker": {
             "colorbar": {
              "outlinewidth": 0,
              "ticks": ""
             }
            },
            "type": "scatterpolargl"
           }
          ],
          "scatterternary": [
           {
            "marker": {
             "colorbar": {
              "outlinewidth": 0,
              "ticks": ""
             }
            },
            "type": "scatterternary"
           }
          ],
          "surface": [
           {
            "colorbar": {
             "outlinewidth": 0,
             "ticks": ""
            },
            "colorscale": [
             [
              0,
              "#0d0887"
             ],
             [
              0.1111111111111111,
              "#46039f"
             ],
             [
              0.2222222222222222,
              "#7201a8"
             ],
             [
              0.3333333333333333,
              "#9c179e"
             ],
             [
              0.4444444444444444,
              "#bd3786"
             ],
             [
              0.5555555555555556,
              "#d8576b"
             ],
             [
              0.6666666666666666,
              "#ed7953"
             ],
             [
              0.7777777777777778,
              "#fb9f3a"
             ],
             [
              0.8888888888888888,
              "#fdca26"
             ],
             [
              1,
              "#f0f921"
             ]
            ],
            "type": "surface"
           }
          ],
          "table": [
           {
            "cells": {
             "fill": {
              "color": "#EBF0F8"
             },
             "line": {
              "color": "white"
             }
            },
            "header": {
             "fill": {
              "color": "#C8D4E3"
             },
             "line": {
              "color": "white"
             }
            },
            "type": "table"
           }
          ]
         },
         "layout": {
          "annotationdefaults": {
           "arrowcolor": "#2a3f5f",
           "arrowhead": 0,
           "arrowwidth": 1
          },
          "autotypenumbers": "strict",
          "coloraxis": {
           "colorbar": {
            "outlinewidth": 0,
            "ticks": ""
           }
          },
          "colorscale": {
           "diverging": [
            [
             0,
             "#8e0152"
            ],
            [
             0.1,
             "#c51b7d"
            ],
            [
             0.2,
             "#de77ae"
            ],
            [
             0.3,
             "#f1b6da"
            ],
            [
             0.4,
             "#fde0ef"
            ],
            [
             0.5,
             "#f7f7f7"
            ],
            [
             0.6,
             "#e6f5d0"
            ],
            [
             0.7,
             "#b8e186"
            ],
            [
             0.8,
             "#7fbc41"
            ],
            [
             0.9,
             "#4d9221"
            ],
            [
             1,
             "#276419"
            ]
           ],
           "sequential": [
            [
             0,
             "#0d0887"
            ],
            [
             0.1111111111111111,
             "#46039f"
            ],
            [
             0.2222222222222222,
             "#7201a8"
            ],
            [
             0.3333333333333333,
             "#9c179e"
            ],
            [
             0.4444444444444444,
             "#bd3786"
            ],
            [
             0.5555555555555556,
             "#d8576b"
            ],
            [
             0.6666666666666666,
             "#ed7953"
            ],
            [
             0.7777777777777778,
             "#fb9f3a"
            ],
            [
             0.8888888888888888,
             "#fdca26"
            ],
            [
             1,
             "#f0f921"
            ]
           ],
           "sequentialminus": [
            [
             0,
             "#0d0887"
            ],
            [
             0.1111111111111111,
             "#46039f"
            ],
            [
             0.2222222222222222,
             "#7201a8"
            ],
            [
             0.3333333333333333,
             "#9c179e"
            ],
            [
             0.4444444444444444,
             "#bd3786"
            ],
            [
             0.5555555555555556,
             "#d8576b"
            ],
            [
             0.6666666666666666,
             "#ed7953"
            ],
            [
             0.7777777777777778,
             "#fb9f3a"
            ],
            [
             0.8888888888888888,
             "#fdca26"
            ],
            [
             1,
             "#f0f921"
            ]
           ]
          },
          "colorway": [
           "#636efa",
           "#EF553B",
           "#00cc96",
           "#ab63fa",
           "#FFA15A",
           "#19d3f3",
           "#FF6692",
           "#B6E880",
           "#FF97FF",
           "#FECB52"
          ],
          "font": {
           "color": "#2a3f5f"
          },
          "geo": {
           "bgcolor": "white",
           "lakecolor": "white",
           "landcolor": "#E5ECF6",
           "showlakes": true,
           "showland": true,
           "subunitcolor": "white"
          },
          "hoverlabel": {
           "align": "left"
          },
          "hovermode": "closest",
          "mapbox": {
           "style": "light"
          },
          "paper_bgcolor": "white",
          "plot_bgcolor": "#E5ECF6",
          "polar": {
           "angularaxis": {
            "gridcolor": "white",
            "linecolor": "white",
            "ticks": ""
           },
           "bgcolor": "#E5ECF6",
           "radialaxis": {
            "gridcolor": "white",
            "linecolor": "white",
            "ticks": ""
           }
          },
          "scene": {
           "xaxis": {
            "backgroundcolor": "#E5ECF6",
            "gridcolor": "white",
            "gridwidth": 2,
            "linecolor": "white",
            "showbackground": true,
            "ticks": "",
            "zerolinecolor": "white"
           },
           "yaxis": {
            "backgroundcolor": "#E5ECF6",
            "gridcolor": "white",
            "gridwidth": 2,
            "linecolor": "white",
            "showbackground": true,
            "ticks": "",
            "zerolinecolor": "white"
           },
           "zaxis": {
            "backgroundcolor": "#E5ECF6",
            "gridcolor": "white",
            "gridwidth": 2,
            "linecolor": "white",
            "showbackground": true,
            "ticks": "",
            "zerolinecolor": "white"
           }
          },
          "shapedefaults": {
           "line": {
            "color": "#2a3f5f"
           }
          },
          "ternary": {
           "aaxis": {
            "gridcolor": "white",
            "linecolor": "white",
            "ticks": ""
           },
           "baxis": {
            "gridcolor": "white",
            "linecolor": "white",
            "ticks": ""
           },
           "bgcolor": "#E5ECF6",
           "caxis": {
            "gridcolor": "white",
            "linecolor": "white",
            "ticks": ""
           }
          },
          "title": {
           "x": 0.05
          },
          "xaxis": {
           "automargin": true,
           "gridcolor": "white",
           "linecolor": "white",
           "ticks": "",
           "title": {
            "standoff": 15
           },
           "zerolinecolor": "white",
           "zerolinewidth": 2
          },
          "yaxis": {
           "automargin": true,
           "gridcolor": "white",
           "linecolor": "white",
           "ticks": "",
           "title": {
            "standoff": 15
           },
           "zerolinecolor": "white",
           "zerolinewidth": 2
          }
         }
        },
        "title": {
         "font": {
          "size": 16
         },
         "text": "Calibration Test: Effect of Increasing psi by 10%<br><sub>Baseline vs Modified simulation over 40 quarters</sub>",
         "x": 0.5
        },
        "width": 1200,
        "xaxis": {
         "anchor": "y",
         "domain": [
          0,
          0.29333333333333333
         ],
         "gridcolor": "lightgray",
         "gridwidth": 1,
         "showgrid": true,
         "title": {
          "text": "Quarters"
         }
        },
        "xaxis2": {
         "anchor": "y2",
         "domain": [
          0.35333333333333333,
          0.6466666666666667
         ],
         "gridcolor": "lightgray",
         "gridwidth": 1,
         "showgrid": true,
         "title": {
          "text": "Quarters"
         }
        },
        "xaxis3": {
         "anchor": "y3",
         "domain": [
          0.7066666666666667,
          1
         ],
         "gridcolor": "lightgray",
         "gridwidth": 1,
         "showgrid": true,
         "title": {
          "text": "Quarters"
         }
        },
        "xaxis4": {
         "anchor": "y4",
         "domain": [
          0,
          0.29333333333333333
         ],
         "gridcolor": "lightgray",
         "gridwidth": 1,
         "showgrid": true,
         "title": {
          "text": "Quarters"
         }
        },
        "xaxis5": {
         "anchor": "y5",
         "domain": [
          0.35333333333333333,
          0.6466666666666667
         ],
         "gridcolor": "lightgray",
         "gridwidth": 1,
         "showgrid": true,
         "title": {
          "text": "Quarters"
         }
        },
        "xaxis6": {
         "anchor": "y6",
         "domain": [
          0.7066666666666667,
          1
         ],
         "gridcolor": "lightgray",
         "gridwidth": 1,
         "showgrid": true,
         "title": {
          "text": "Quarters"
         }
        },
        "xaxis7": {
         "anchor": "y7",
         "domain": [
          0,
          0.29333333333333333
         ],
         "gridcolor": "lightgray",
         "gridwidth": 1,
         "showgrid": true,
         "title": {
          "text": "Quarters"
         }
        },
        "xaxis8": {
         "anchor": "y8",
         "domain": [
          0.35333333333333333,
          0.6466666666666667
         ],
         "gridcolor": "lightgray",
         "gridwidth": 1,
         "showgrid": true,
         "title": {
          "text": "Quarters"
         }
        },
        "xaxis9": {
         "anchor": "y9",
         "domain": [
          0.7066666666666667,
          1
         ],
         "gridcolor": "lightgray",
         "gridwidth": 1,
         "showgrid": true,
         "title": {
          "text": "Quarters"
         }
        },
        "yaxis": {
         "anchor": "x",
         "domain": [
          0.7666666666666666,
          0.9999999999999999
         ],
         "gridcolor": "lightgray",
         "gridwidth": 1,
         "showgrid": true
        },
        "yaxis2": {
         "anchor": "x2",
         "domain": [
          0.7666666666666666,
          0.9999999999999999
         ],
         "gridcolor": "lightgray",
         "gridwidth": 1,
         "showgrid": true
        },
        "yaxis3": {
         "anchor": "x3",
         "domain": [
          0.7666666666666666,
          0.9999999999999999
         ],
         "gridcolor": "lightgray",
         "gridwidth": 1,
         "showgrid": true
        },
        "yaxis4": {
         "anchor": "x4",
         "domain": [
          0.3833333333333333,
          0.6166666666666666
         ],
         "gridcolor": "lightgray",
         "gridwidth": 1,
         "showgrid": true
        },
        "yaxis5": {
         "anchor": "x5",
         "domain": [
          0.3833333333333333,
          0.6166666666666666
         ],
         "gridcolor": "lightgray",
         "gridwidth": 1,
         "showgrid": true
        },
        "yaxis6": {
         "anchor": "x6",
         "domain": [
          0.3833333333333333,
          0.6166666666666666
         ],
         "gridcolor": "lightgray",
         "gridwidth": 1,
         "showgrid": true
        },
        "yaxis7": {
         "anchor": "x7",
         "domain": [
          0,
          0.2333333333333333
         ],
         "gridcolor": "lightgray",
         "gridwidth": 1,
         "showgrid": true
        },
        "yaxis8": {
         "anchor": "x8",
         "domain": [
          0,
          0.2333333333333333
         ],
         "gridcolor": "lightgray",
         "gridwidth": 1,
         "showgrid": true
        },
        "yaxis9": {
         "anchor": "x9",
         "domain": [
          0,
          0.2333333333333333
         ],
         "gridcolor": "lightgray",
         "gridwidth": 1,
         "showgrid": true
        }
       }
      }
     },
     "metadata": {},
     "output_type": "display_data"
    }
   ],
   "source": [
    "# Compare baseline vs modified results using the same plotly structure\n",
    "param_name = test_params[0] if test_params else \"parameter\"\n",
    "\n",
    "# Create comparison figure with the same layout as the original\n",
    "comparison_fig = make_subplots(\n",
    "    rows=rows, \n",
    "    cols=cols,\n",
    "    subplot_titles=subplot_titles,\n",
    "    vertical_spacing=0.15,\n",
    "    horizontal_spacing=0.06\n",
    ")\n",
    "\n",
    "# Add traces for both baseline and modified results\n",
    "for i, (var_name, var_idx) in enumerate(plot_data):\n",
    "    row = (i // cols) + 1\n",
    "    col = (i % cols) + 1\n",
    "    \n",
    "    # Add baseline trace\n",
    "    comparison_fig.add_trace(\n",
    "        go.Scatter(\n",
    "            x=time_quarters,\n",
    "            y=results.get_scalar_timeseries()[var_name],\n",
    "            mode='lines',\n",
    "            name='Baseline',\n",
    "            line=dict(width=2.5, color='blue'),\n",
    "            hovertemplate='<b>Baseline - %{fullData.name}</b><br>' +\n",
    "                         'Quarter: %{x}<br>' +\n",
    "                         'Value: %{y:.4f}<br>' +\n",
    "                         '<extra></extra>',\n",
    "            showlegend=(i == 0)  # Only show legend for first subplot\n",
    "        ),\n",
    "        row=row, col=col\n",
    "    )\n",
    "    \n",
    "    # Add modified trace\n",
    "    comparison_fig.add_trace(\n",
    "        go.Scatter(\n",
    "            x=time_quarters,\n",
    "            y=modified_results.get_scalar_timeseries()[var_name],\n",
    "            mode='lines',\n",
    "            name='Modified',\n",
    "            line=dict(width=2.5, color='red', dash='dash'),\n",
    "            hovertemplate='<b>Modified - %{fullData.name}</b><br>' +\n",
    "                         'Quarter: %{x}<br>' +\n",
    "                         'Value: %{y:.4f}<br>' +\n",
    "                         '<extra></extra>',\n",
    "            showlegend=(i == 0)  # Only show legend for first subplot\n",
    "        ),\n",
    "        row=row, col=col\n",
    "    )\n",
    "\n",
    "# Update layout\n",
    "comparison_fig.update_layout(\n",
    "    title={\n",
    "        'text': f'Calibration Test: Effect of Increasing {param_name} by 10%<br><sub>Baseline vs Modified simulation over {T} quarters</sub>',\n",
    "        'x': 0.5,\n",
    "        'font': {'size': 16}\n",
    "    },\n",
    "    height=200 * rows + 100,  # Same dynamic height as original\n",
    "    width=1200,\n",
    "    plot_bgcolor='white',\n",
    "    paper_bgcolor='white',\n",
    "    legend=dict(\n",
    "        orientation=\"h\",\n",
    "        yanchor=\"bottom\",\n",
    "        y=1.02,\n",
    "        xanchor=\"right\",\n",
    "        x=1\n",
    "    )\n",
    ")\n",
    "\n",
    "# Update axes labels\n",
    "comparison_fig.update_xaxes(title_text=\"Quarters\", showgrid=True, gridwidth=1, gridcolor='lightgray')\n",
    "comparison_fig.update_yaxes(showgrid=True, gridwidth=1, gridcolor='lightgray')\n",
    "\n",
    "# Show the comparison plot\n",
    "comparison_fig.show()\n"
   ]
  }
 ],
 "metadata": {
  "kernelspec": {
   "display_name": ".venv",
   "language": "python",
   "name": "python3"
  },
  "language_info": {
   "codemirror_mode": {
    "name": "ipython",
    "version": 3
   },
   "file_extension": ".py",
   "mimetype": "text/x-python",
   "name": "python",
   "nbconvert_exporter": "python",
   "pygments_lexer": "ipython3",
   "version": "3.13.2"
  }
 },
 "nbformat": 4,
 "nbformat_minor": 5
}
