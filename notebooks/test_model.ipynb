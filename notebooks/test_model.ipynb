{
 "cells": [
  {
   "cell_type": "markdown",
   "id": "c4b9a40f",
   "metadata": {},
   "source": [
    "# BeforeIT Model: Run, Plot, and Tweak Params\n",
    "\n",
    "This notebook demonstrates how to:\n",
    "1. **Run the model** with default parameters\n",
    "2. **Plot key economic variables** from the simulation\n",
    "3. **Test sensitivity** by adjusting parameters\n",
    "\n",
    "Let's walk through each step!"
   ]
  },
  {
   "cell_type": "markdown",
   "id": "e91fcb20",
   "metadata": {},
   "source": [
    "## 1. Setup and Initialize the Model\n",
    "\n",
    "First, let's import the necessary packages and initialize our model wrapper."
   ]
  },
  {
   "cell_type": "code",
   "execution_count": 1,
   "id": "f0485a62",
   "metadata": {},
   "outputs": [
    {
     "name": "stdout",
     "output_type": "stream",
     "text": [
      "Detected IPython. Loading juliacall extension. See https://juliapy.github.io/PythonCall.jl/stable/compat/#IPython\n"
     ]
    }
   ],
   "source": [
    "import numpy as np\n",
    "import matplotlib.pyplot as plt\n",
    "import plotly.graph_objects as go\n",
    "from plotly.subplots import make_subplots\n",
    "from uk_abm.julia_model_wrapper import BeforeITModelWrapper\n",
    "\n",
    "# Set up nice plotting defaults for matplotlib (still used for some legacy plots)\n",
    "plt.style.use(\"default\")\n",
    "plt.rcParams[\"figure.figsize\"] = (12, 8)\n",
    "plt.rcParams[\"font.size\"] = 10"
   ]
  },
  {
   "cell_type": "code",
   "execution_count": 2,
   "id": "6f4eb387",
   "metadata": {},
   "outputs": [
    {
     "name": "stderr",
     "output_type": "stream",
     "text": [
      "INFO:uk_abm.julia_model_wrapper:Setting up Julia environment...\n",
      "INFO:uk_abm.julia_model_wrapper:Activating BeforeIT environment at: ../dev/BeforeIT.jl\n",
      "  Activating project at `~/Documents/00. Bank of England/03. MPIL/uk_abm/dev/BeforeIT.jl`\n",
      "INFO:uk_abm.julia_model_wrapper:Installing package dependencies...\n",
      "┌ Warning: The project dependencies or compat requirements have changed since the manifest was last resolved.\n",
      "│ It is recommended to `Pkg.resolve()` or consider `Pkg.update()` if necessary.\n",
      "└ @ Pkg.API /opt/homebrew/Cellar/julia/1.11.6/share/julia/stdlib/v1.11/Pkg/src/API.jl:1206\n",
      "Precompiling project...\n",
      "  22100.6 ms  ✓ BeforeIT\n",
      "  1 dependency successfully precompiled in 22 seconds. 79 already precompiled.\n",
      "INFO:uk_abm.julia_model_wrapper:Importing BeforeIT and required packages...\n",
      "INFO:uk_abm.julia_model_wrapper:BeforeIT AUSTRIA2010Q1 parameters loaded successfully\n",
      "INFO:uk_abm.julia_model_wrapper:Julia environment setup completed successfully\n",
      "INFO:uk_abm.julia_model_wrapper:Found 44 calibratable parameters: ['tau_SIW', 'tau_INC', 'theta_UB', 'tau_SIF', 'T_max', 'beta_pi_EA', 'tau_G', 'psi', 'alpha_G', 'r_star', 'zeta_LTV', 'beta_Y_EA', 'tau_VAT', 'alpha_Y_EA', 'beta_E', 'rho', 'S', 'r_G', 'alpha_E', 'T', 'L', 'sigma_E', 'beta_I', 'theta', 'alpha_I', 'sigma_pi_EA', 'H_inact', 'zeta', 'tau_EXPORT', 'pi_star', 'sigma_Y_EA', 'T_prime', 'beta_G', 'zeta_b', 'mu', 'psi_H', 'sigma_G', 'sigma_I', 'G', 'tau_FIRM', 'J', 'theta_DIV', 'xi_gamma', 'tau_CF']\n"
     ]
    }
   ],
   "source": [
    "# Initialize the BeforeIT model with Austrian 2010Q1 parameters\n",
    "model = BeforeITModelWrapper(\n",
    "    base_parameters=\"AUSTRIA2010Q1\", model_path=\"../dev/BeforeIT.jl\"\n",
    ")"
   ]
  },
  {
   "cell_type": "code",
   "execution_count": 3,
   "id": "d48e772c",
   "metadata": {},
   "outputs": [
    {
     "name": "stdout",
     "output_type": "stream",
     "text": [
      "  • tau_SIW        : 0.1711\n",
      "  • tau_INC        : 0.2134\n",
      "  • theta_UB       : 0.3586\n",
      "  • tau_SIF        : 0.2122\n",
      "  • T_max          : 12.0000\n",
      "  • beta_pi_EA     : 0.0026\n",
      "  • tau_G          : 0.0091\n",
      "  • psi            : 0.9097\n",
      "  • alpha_G        : 0.9906\n",
      "  • r_star         : -0.0034\n",
      "  ... and 34 more parameters\n",
      "\n",
      "Available output variables:\n",
      "  • nominal_gdp\n",
      "  • real_gdp\n",
      "  • nominal_gva\n",
      "  • real_gva\n",
      "  • nominal_household_consumption\n",
      "  • real_household_consumption\n",
      "  • nominal_government_consumption\n",
      "  • real_government_consumption\n",
      "  • nominal_capitalformation\n",
      "  • real_capitalformation\n",
      "  ... and 15 more variables\n"
     ]
    }
   ],
   "source": [
    "# Let's see what parameters we can calibrate and what variables we can analyze\n",
    "param_names = model.get_parameter_names()\n",
    "current_values = model.get_current_parameter_values()\n",
    "\n",
    "for name in param_names[:10]:  # Show first 10 parameters\n",
    "    print(f\"  • {name:15s}: {current_values[name]:.4f}\")\n",
    "\n",
    "if len(param_names) > 10:\n",
    "    print(f\"  ... and {len(param_names) - 10} more parameters\")\n",
    "\n",
    "print(\"\\nAvailable output variables:\")\n",
    "variable_names = model.get_variable_names()\n",
    "for name in variable_names[:10]:  # Show first 10 variables\n",
    "    print(f\"  • {name}\")\n",
    "if len(variable_names) > 10:\n",
    "    print(f\"  ... and {len(variable_names) - 10} more variables\")"
   ]
  },
  {
   "cell_type": "markdown",
   "id": "9e4e1b94",
   "metadata": {},
   "source": [
    "## 2. Run the Model\n",
    "\n",
    "Now let's run a simulation with the default parameters to see how the economy evolves over time."
   ]
  },
  {
   "cell_type": "code",
   "execution_count": 4,
   "id": "91e40543",
   "metadata": {},
   "outputs": [
    {
     "name": "stderr",
     "output_type": "stream",
     "text": [
      "INFO:uk_abm.julia_model_wrapper:Running simulation with T=40, ensemble_size=4, seed=42\n",
      "INFO:uk_abm.julia_model_wrapper:Simulation completed successfully\n"
     ]
    }
   ],
   "source": [
    "# Run simulation with default parameters\n",
    "# Use the current parameter values as our baseline\n",
    "baseline_params = list(current_values.values())\n",
    "\n",
    "# Run simulation for 40 quarters (10 years)\n",
    "T = 40\n",
    "seed = 42\n",
    "\n",
    "results = model.run_simulation(\n",
    "    parameters=baseline_params,\n",
    "    T=T,\n",
    "    seed=seed,\n",
    "    ensemble_size=4,  # Average over 4 runs\n",
    ")\n",
    "# print(f\"Simulation completed Output shape: {results.original_shape}\")\n",
    "# print(f\"   Time periods: {T}, Variables: {results.shape[1]}\")\n",
    "\n",
    "# Create time axis (quarters)\n",
    "time_quarters = np.arange(1, T + 1)"
   ]
  },
  {
   "cell_type": "code",
   "execution_count": 5,
   "id": "33eca5fe",
   "metadata": {},
   "outputs": [
    {
     "data": {
      "text/plain": [
       "dict_keys(['nominal_gdp', 'real_gdp', 'nominal_gva', 'real_gva', 'nominal_household_consumption', 'real_household_consumption', 'nominal_government_consumption', 'real_government_consumption', 'nominal_capitalformation', 'real_capitalformation', 'nominal_fixed_capitalformation', 'real_fixed_capitalformation', 'nominal_fixed_capitalformation_dwellings', 'real_fixed_capitalformation_dwellings', 'nominal_exports', 'real_exports', 'nominal_imports', 'real_imports', 'operating_surplus', 'compensation_employees', 'wages', 'taxes_production', 'gdp_deflator_growth_ea', 'real_gdp_ea', 'euribor'])"
      ]
     },
     "execution_count": 5,
     "metadata": {},
     "output_type": "execute_result"
    }
   ],
   "source": [
    "results.get_scalar_timeseries().keys()"
   ]
  },
  {
   "cell_type": "markdown",
   "id": "004a6897",
   "metadata": {
    "vscode": {
     "languageId": "raw"
    }
   },
   "source": [
    "## 3. Plot Key Economic Indicators\n",
    "\n",
    "Let's visualize the key economic variables from our simulation.\n"
   ]
  },
  {
   "cell_type": "code",
   "execution_count": 6,
   "id": "af279b15",
   "metadata": {},
   "outputs": [
    {
     "name": "stdout",
     "output_type": "stream",
     "text": [
      "['nominal_gdp', 'real_gdp', 'nominal_gva', 'real_gva', 'nominal_household_consumption', 'real_household_consumption', 'nominal_government_consumption', 'real_government_consumption', 'nominal_capitalformation', 'real_capitalformation', 'nominal_fixed_capitalformation', 'real_fixed_capitalformation', 'nominal_fixed_capitalformation_dwellings', 'real_fixed_capitalformation_dwellings', 'nominal_exports', 'real_exports', 'nominal_imports', 'real_imports', 'operating_surplus', 'compensation_employees', 'wages', 'taxes_production', 'gdp_deflator_growth_ea', 'real_gdp_ea', 'euribor']\n"
     ]
    }
   ],
   "source": [
    "print(variable_names)"
   ]
  },
  {
   "cell_type": "code",
   "execution_count": 7,
   "id": "82ffe4dd",
   "metadata": {},
   "outputs": [
    {
     "data": {
      "application/vnd.plotly.v1+json": {
       "config": {
        "plotlyServerURL": "https://plot.ly"
       },
       "data": [
        {
         "hovertemplate": "<b>%{fullData.name}</b><br>Quarter: %{x}<br>Value: %{y:.4f}<br><extra></extra>",
         "line": {
          "width": 2.5
         },
         "mode": "lines",
         "name": "real_gdp",
         "type": "scatter",
         "x": {
          "bdata": "AQIDBAUGBwgJCgsMDQ4PEBESExQVFhcYGRobHB0eHyAhIiMkJSYnKA==",
          "dtype": "i1"
         },
         "xaxis": "x",
         "y": {
          "bdata": "AAAAAGCu8UBwMTj/QrPxQBf8/60upPFAiJt+JMic8UBjUBrB9p3xQA7sSWRIrPFAJ+ZrxT2y8UCWSMm82sbxQBf35sgB2/FAl/leUzgG8kAeK7a76AjyQL45eRpPHPJADMdGNYdB8kDqwv2DU2jyQHvJA8o6cvJAV8vIALuT8kB0EJRpKp/yQKwi/cITsfJACDwiVXzS8kA4fTlcNd/yQKuRGFv03PJAf5RH0qYB80DqxwccXizzQDmnsfe3KPNA0mc45agu80BpgLpiAEDzQFtBCUw+TfNA5kpMxspF80CWgrc8r1LzQO3/Q/WJZfNAIVFHuVtj80A+HTm7KHXzQANenAztgfNAfnBSBLOB80AGAPcsOnXzQPWK/JFek/NAlZWcs5CI80CBoa9wnpbzQPML0zRAs/NAxEBGnuvB80AU08JpWdLzQA==",
          "dtype": "f8"
         },
         "yaxis": "y"
        },
        {
         "hovertemplate": "<b>%{fullData.name}</b><br>Quarter: %{x}<br>Value: %{y:.4f}<br><extra></extra>",
         "line": {
          "width": 2.5
         },
         "mode": "lines",
         "name": "real_household_consumption",
         "type": "scatter",
         "x": {
          "bdata": "AQIDBAUGBwgJCgsMDQ4PEBESExQVFhcYGRobHB0eHyAhIiMkJSYnKA==",
          "dtype": "i1"
         },
         "xaxis": "x2",
         "y": {
          "bdata": "DoxpVR7I40DmZC4nV8TjQEQFKMm8r+NAwOTjyTWa40BC2n1YZJfjQEh0gGd2oeNAnmbmaJOj40ALT3r8T6/jQLWqeBFjuONAwD7WDA3d40BKK4OSHd7jQLq8ftyQ3ONAXH0rIIkC5ECX4tzhnCnkQNLB1wtiMORAA8uvaiBV5EBSytpcBV7kQBr8L15NZeRA4b5KRRqE5ECmKkstWJLkQC/+TTaOluRAXKvUF+W55EDoQBpBBeDkQOJ+PSTk5+RAettRtuvz5EBBCHgDgQflQEyL+/AoGeVAMAZwEoAU5UAfcfXqFRrlQOOoKmYtKuVADx/49Ugf5UAbkHdINT/lQAXqlFlnOuVAsr1q+iZF5UAsvMXuLz3lQNlbl7N2WeVAteNJozhU5UCnG4Oev1vlQE1rQixmeeVAVi7UT9F75UCuRjzHV5LlQA==",
          "dtype": "f8"
         },
         "yaxis": "y2"
        },
        {
         "hovertemplate": "<b>%{fullData.name}</b><br>Quarter: %{x}<br>Value: %{y:.4f}<br><extra></extra>",
         "line": {
          "width": 2.5
         },
         "mode": "lines",
         "name": "real_government_consumption",
         "type": "scatter",
         "x": {
          "bdata": "AQIDBAUGBwgJCgsMDQ4PEBESExQVFhcYGRobHB0eHyAhIiMkJSYnKA==",
          "dtype": "i1"
         },
         "xaxis": "x3",
         "y": {
          "bdata": "/uK0qnEJzUBSn1iMCRzNQECAtIHaKc1AHH71stRDzUDsUbSxpVfNQDJa5G1/k81AExUEMqKozUD+2+QAlLTNQD7H6oQKAc5AAECSCJARzkB8wtCCvh3OQHZDkz5RSM5AHtWeRWBMzkCPHEqFQ4zOQDXWbEDU4M5A9qOPXhcPz0DQ3GzgaS/PQKVhjJ9HgM9AcRp3yK2kz0BEXQoN6L/PQOCjRAsh189AdtNaC7kW0EBtAUvvKhPQQO1vNv4GFdBATHEiwjUS0EB9o+HO2yDQQKwCKGytCtBATahLvYb6z0AH/mTqYgXQQBogv4FfFtBAdcM4MwAd0EAGuTj3KETQQOjLlITiNtBAI+pZYA9K0EB42FrZSSHQQCQ7gG64J9BAWnAeO65A0EB74/+zyFnQQD85JqoQgdBAHnc0kkCP0ECAqC5lPsTQQA==",
          "dtype": "f8"
         },
         "yaxis": "y3"
        },
        {
         "hovertemplate": "<b>%{fullData.name}</b><br>Quarter: %{x}<br>Value: %{y:.4f}<br><extra></extra>",
         "line": {
          "width": 2.5
         },
         "mode": "lines",
         "name": "real_capitalformation",
         "type": "scatter",
         "x": {
          "bdata": "AQIDBAUGBwgJCgsMDQ4PEBESExQVFhcYGRobHB0eHyAhIiMkJSYnKA==",
          "dtype": "i1"
         },
         "xaxis": "x4",
         "y": {
          "bdata": "4772PR4kz0BOLSLQfz3PQNOFLJIOE89A6OLSlVUSz0AyWHJvTxzPQEjyH+XtGM9AxA1yj0/kzkByfg8A3z/PQHfuTHtHFs9A2N8Op1m+z0DYSVwGoazPQBuGK6YxPtBAr9c/S4tu0EC4010LSpHQQFkeQBbwYNBA6hRkzI600ECAIl19baPQQKMSDERJl9BASukwoY3t0EB9chsLQMXQQLUePRSNm9BA+gDpJFWy0ECINy8F7BLRQFgItmH48tBAUZVjEKXn0EAZfLS8KS3RQGG+RhtLFtFAcox5Uqgj0UBq2+d5VhXRQCMxV2REctFAiFFT7zOI0UDGv7FcE0DRQO+3Wve3StFAM903SuQx0UBUOBiQWG/RQBrUZGgWk9FAEaAe/EmC0UD/5nGrK3TRQAgmmyvwmNFANAxmW6jH0UCkGK6y5ZfRQA==",
          "dtype": "f8"
         },
         "yaxis": "y4"
        },
        {
         "hovertemplate": "<b>%{fullData.name}</b><br>Quarter: %{x}<br>Value: %{y:.4f}<br><extra></extra>",
         "line": {
          "width": 2.5
         },
         "mode": "lines",
         "name": "real_exports",
         "type": "scatter",
         "x": {
          "bdata": "AQIDBAUGBwgJCgsMDQ4PEBESExQVFhcYGRobHB0eHyAhIiMkJSYnKA==",
          "dtype": "i1"
         },
         "xaxis": "x5",
         "y": {
          "bdata": "AOxbEHKy4EC6oXKDFnrgQJLCmQIWneBA9i2XURWk4ECc6rrdY8bgQAdcQXVe2+BA0NnTICH/4ECIMacZmA/hQIlmPiOcGeFAOVmGy7MN4UC6GlYbw8fgQLXHLvq4veBAYpsY+2jV4EAhsNBOh9jgQBw4mc2xEOFAYtBXBIv84EAWNOLagOrgQMo5WrW1teBAKs2GIkjp4EBDoy8jDe/gQMBvqYE1z+BACyvpWhPy4EDv4vlh2i3hQFGkLZn4IuFAFY2Wlfp34UCAlnpeoSrhQFFBnZXHd+FAPKrOn7RL4UCXCroHQ0LhQId4xxdiJOFAoCcK5F4i4UBk8jMGPUPhQIBQ8mMRHOFAUti5RJ3h4EBe+0TX/crgQIDzVJ3w2uBAUSgw4FkN4UDeMYfS/fPgQHjsGqW4+OBAlPrMmhF04EAxrI6ThKPgQA==",
          "dtype": "f8"
         },
         "yaxis": "y5"
        },
        {
         "hovertemplate": "<b>%{fullData.name}</b><br>Quarter: %{x}<br>Value: %{y:.4f}<br><extra></extra>",
         "line": {
          "width": 2.5
         },
         "mode": "lines",
         "name": "real_imports",
         "type": "scatter",
         "x": {
          "bdata": "AQIDBAUGBwgJCgsMDQ4PEBESExQVFhcYGRobHB0eHyAhIiMkJSYnKA==",
          "dtype": "i1"
         },
         "xaxis": "x6",
         "y": {
          "bdata": "i2DwXzQp4EAGrp4GlNzfQE0RurSvE+BA7fOvZEUa4EB2zk381z7gQDsL72hfT+BA2fw/b3Vh4EADBsxcT27gQIAQ9yLQYeBA0OyGnUpS4EDOMrgYpwbgQOqkdcTYEuBAqiu+Z0Ef4EANfrMPMx3gQLKrpGBLReBAFvhLq0JI4EDapV6bwifgQMUk8i4kyd9AMk9DAFwo4EAAJNiglBXgQLgFbJ3T3t9ArpdQ5jEN4ECEsEHlLkjgQNIQ/n1sPeBAPJy66oGL4EDYrUhiJFngQJKqPTLwhuBA3Mo1/hRl4EAz42YrV0TgQChKdYbNR+BA+665eIpN4ECEhC4CP1rgQFxARuJrE+BAhDGRF7DC30Dlf6xBFczfQCCCyzAj1t9AHWnfN+0x4ECl72O/egngQFfvl9KeGOBAntLDSQAv30B+Wmcmd37fQA==",
          "dtype": "f8"
         },
         "yaxis": "y6"
        },
        {
         "hovertemplate": "<b>%{fullData.name}</b><br>Quarter: %{x}<br>Value: %{y:.4f}<br><extra></extra>",
         "line": {
          "width": 2.5
         },
         "mode": "lines",
         "name": "wages",
         "type": "scatter",
         "x": {
          "bdata": "AQIDBAUGBwgJCgsMDQ4PEBESExQVFhcYGRobHB0eHyAhIiMkJSYnKA==",
          "dtype": "i1"
         },
         "xaxis": "x7",
         "y": {
          "bdata": "fTlzE9Wr20Bux35JgsPbQCKf+tQo1dtAEp2t40/820DvsBFx2SjcQL4J0Ng8Y9xAEFLiRLih3ECSpMxm2+zcQMFe7DqtN91A91RuP4K33UCmKDL9d+XdQAplPJEiFt5AaVVqC5xt3kBtrnU17cLeQMtumVm8/N5AM2nkMH1230CkL/DEOq3fQDMj1iF+8t9Ahx25wFUa4EDq9TzHhCvgQJUjKCd4L+BAVd5BIUBa4EDU0sY5JIngQBv0HCd+ieBAPr9pAbKW4EDS4EwLB7HgQPftjDCcveBAVwXoXaLE4EBeiNWt9u7gQKvPocmlEuFAGALMMeoa4UBTSB7lqzzhQDqD22DYW+FATh6Jkm1h4UCshcxgz2fhQNj/wGRWkOFAiFU2xpaV4UAA3/MOorThQKyqSCfg2+FAUawhLgjo4UDw+suq+xPiQA==",
          "dtype": "f8"
         },
         "yaxis": "y7"
        },
        {
         "hovertemplate": "<b>%{fullData.name}</b><br>Quarter: %{x}<br>Value: %{y:.4f}<br><extra></extra>",
         "line": {
          "width": 2.5
         },
         "mode": "lines",
         "name": "euribor",
         "type": "scatter",
         "x": {
          "bdata": "AQIDBAUGBwgJCgsMDQ4PEBESExQVFhcYGRobHB0eHyAhIiMkJSYnKA==",
          "dtype": "i1"
         },
         "xaxis": "x8",
         "y": {
          "bdata": "ANwK7In3Wj/oSUyDWbVSP39oJVVILFU/nsaVtlioWj+VgaIxMhNZP+Kg6w8fcFw/BrWlIVS6YT9uYbdr2OVgP5bTUBlms2M/tt2Y4L+fYT+KL3uEjuZYPz8oLcVf6Fs/0jU6DDFmXj/WOXLp9ZpfP6jzcdkE72E/+5QqdSMxYT8unOEPYwVgPwJ+4UHn0l0/ky+bH1hVYT+mOGiW+DBjP5e3dRy/ZmM/1U1RMkEBZT+CczgdWEZpP7BlT7UeC2g/MCOWtW77aD+ZhSdgDb5jP4qTzC9q72Q/my+TzhNFYz+u3B0l8bVhP+Ocaumkul8/7tsTnWmwXT/hX9jMI9hdPyAajMkImVw/tqHhkIoRVT8ntoX08DRPP57DuEw46U8/xubc7y1OVz/oiKTqjstYP3HLo6kfbVY/Y4/nzbQDUz9QdjGrSfpRPw==",
          "dtype": "f8"
         },
         "yaxis": "y8"
        },
        {
         "hovertemplate": "<b>%{fullData.name}</b><br>Quarter: %{x}<br>Value: %{y:.4f}<br><extra></extra>",
         "line": {
          "width": 2.5
         },
         "mode": "lines",
         "name": "gdp_deflator_growth_ea",
         "type": "scatter",
         "x": {
          "bdata": "AQIDBAUGBwgJCgsMDQ4PEBESExQVFhcYGRobHB0eHyAhIiMkJSYnKA==",
          "dtype": "i1"
         },
         "xaxis": "x9",
         "y": {
          "bdata": "ALAqEubBXz8Axl3T7G9hPwCzwwoBMG8/ANpEBZkHcT9AKbWK/gx3P8CqYGa6tnE/gG+DjI+ubT+Ac3jnidVuP8BWlgkS53A/AHs1Yt2Kaz+AqEyB2vV3PwCfELXwgHo/QEd9pIn8eD/Ata7Z5nJzPwAbRactaWc/QB5HtB1VeD/ARGRyVPFxPwBcstHat3I/gEYzdoqccT+gtjAU0i1wP4BXQRxvmnU/APi9oldmdj9ANfLuR4R5PwDfRs+kfm0/wAIkV0CAdj+A/BDPnxpyPwAZIZT152s/gLMeWPiibz8AOjldW1tMP2C8JIQGw3M/wCZKW0UJcz+AZDTcGxJ4P0B/dgXNz3Y/gDeqCrzmYD9A4eAKWgZnP0CMkioGgGc/QHmuSFdtaD+Ag8ce28V1PwCk5Ydjt3I/wBGDhjfpdD9A5A/FU951Pw==",
          "dtype": "f8"
         },
         "yaxis": "y9"
        }
       ],
       "layout": {
        "annotations": [
         {
          "font": {
           "size": 16
          },
          "showarrow": false,
          "text": "Real Gdp",
          "x": 0.14666666666666667,
          "xanchor": "center",
          "xref": "paper",
          "y": 1.0,
          "yanchor": "bottom",
          "yref": "paper"
         },
         {
          "font": {
           "size": 16
          },
          "showarrow": false,
          "text": "Real Household Consumption",
          "x": 0.5,
          "xanchor": "center",
          "xref": "paper",
          "y": 1.0,
          "yanchor": "bottom",
          "yref": "paper"
         },
         {
          "font": {
           "size": 16
          },
          "showarrow": false,
          "text": "Real Government Consumption",
          "x": 0.8533333333333333,
          "xanchor": "center",
          "xref": "paper",
          "y": 1.0,
          "yanchor": "bottom",
          "yref": "paper"
         },
         {
          "font": {
           "size": 16
          },
          "showarrow": false,
          "text": "Real Capitalformation",
          "x": 0.14666666666666667,
          "xanchor": "center",
          "xref": "paper",
          "y": 0.6166666666666666,
          "yanchor": "bottom",
          "yref": "paper"
         },
         {
          "font": {
           "size": 16
          },
          "showarrow": false,
          "text": "Real Exports",
          "x": 0.5,
          "xanchor": "center",
          "xref": "paper",
          "y": 0.6166666666666666,
          "yanchor": "bottom",
          "yref": "paper"
         },
         {
          "font": {
           "size": 16
          },
          "showarrow": false,
          "text": "Real Imports",
          "x": 0.8533333333333333,
          "xanchor": "center",
          "xref": "paper",
          "y": 0.6166666666666666,
          "yanchor": "bottom",
          "yref": "paper"
         },
         {
          "font": {
           "size": 16
          },
          "showarrow": false,
          "text": "Wages",
          "x": 0.14666666666666667,
          "xanchor": "center",
          "xref": "paper",
          "y": 0.2333333333333333,
          "yanchor": "bottom",
          "yref": "paper"
         },
         {
          "font": {
           "size": 16
          },
          "showarrow": false,
          "text": "Euribor",
          "x": 0.5,
          "xanchor": "center",
          "xref": "paper",
          "y": 0.2333333333333333,
          "yanchor": "bottom",
          "yref": "paper"
         },
         {
          "font": {
           "size": 16
          },
          "showarrow": false,
          "text": "Gdp Deflator Growth Ea",
          "x": 0.8533333333333333,
          "xanchor": "center",
          "xref": "paper",
          "y": 0.2333333333333333,
          "yanchor": "bottom",
          "yref": "paper"
         }
        ],
        "height": 700,
        "paper_bgcolor": "white",
        "plot_bgcolor": "white",
        "showlegend": false,
        "template": {
         "data": {
          "bar": [
           {
            "error_x": {
             "color": "#2a3f5f"
            },
            "error_y": {
             "color": "#2a3f5f"
            },
            "marker": {
             "line": {
              "color": "#E5ECF6",
              "width": 0.5
             },
             "pattern": {
              "fillmode": "overlay",
              "size": 10,
              "solidity": 0.2
             }
            },
            "type": "bar"
           }
          ],
          "barpolar": [
           {
            "marker": {
             "line": {
              "color": "#E5ECF6",
              "width": 0.5
             },
             "pattern": {
              "fillmode": "overlay",
              "size": 10,
              "solidity": 0.2
             }
            },
            "type": "barpolar"
           }
          ],
          "carpet": [
           {
            "aaxis": {
             "endlinecolor": "#2a3f5f",
             "gridcolor": "white",
             "linecolor": "white",
             "minorgridcolor": "white",
             "startlinecolor": "#2a3f5f"
            },
            "baxis": {
             "endlinecolor": "#2a3f5f",
             "gridcolor": "white",
             "linecolor": "white",
             "minorgridcolor": "white",
             "startlinecolor": "#2a3f5f"
            },
            "type": "carpet"
           }
          ],
          "choropleth": [
           {
            "colorbar": {
             "outlinewidth": 0,
             "ticks": ""
            },
            "type": "choropleth"
           }
          ],
          "contour": [
           {
            "colorbar": {
             "outlinewidth": 0,
             "ticks": ""
            },
            "colorscale": [
             [
              0,
              "#0d0887"
             ],
             [
              0.1111111111111111,
              "#46039f"
             ],
             [
              0.2222222222222222,
              "#7201a8"
             ],
             [
              0.3333333333333333,
              "#9c179e"
             ],
             [
              0.4444444444444444,
              "#bd3786"
             ],
             [
              0.5555555555555556,
              "#d8576b"
             ],
             [
              0.6666666666666666,
              "#ed7953"
             ],
             [
              0.7777777777777778,
              "#fb9f3a"
             ],
             [
              0.8888888888888888,
              "#fdca26"
             ],
             [
              1,
              "#f0f921"
             ]
            ],
            "type": "contour"
           }
          ],
          "contourcarpet": [
           {
            "colorbar": {
             "outlinewidth": 0,
             "ticks": ""
            },
            "type": "contourcarpet"
           }
          ],
          "heatmap": [
           {
            "colorbar": {
             "outlinewidth": 0,
             "ticks": ""
            },
            "colorscale": [
             [
              0,
              "#0d0887"
             ],
             [
              0.1111111111111111,
              "#46039f"
             ],
             [
              0.2222222222222222,
              "#7201a8"
             ],
             [
              0.3333333333333333,
              "#9c179e"
             ],
             [
              0.4444444444444444,
              "#bd3786"
             ],
             [
              0.5555555555555556,
              "#d8576b"
             ],
             [
              0.6666666666666666,
              "#ed7953"
             ],
             [
              0.7777777777777778,
              "#fb9f3a"
             ],
             [
              0.8888888888888888,
              "#fdca26"
             ],
             [
              1,
              "#f0f921"
             ]
            ],
            "type": "heatmap"
           }
          ],
          "histogram": [
           {
            "marker": {
             "pattern": {
              "fillmode": "overlay",
              "size": 10,
              "solidity": 0.2
             }
            },
            "type": "histogram"
           }
          ],
          "histogram2d": [
           {
            "colorbar": {
             "outlinewidth": 0,
             "ticks": ""
            },
            "colorscale": [
             [
              0,
              "#0d0887"
             ],
             [
              0.1111111111111111,
              "#46039f"
             ],
             [
              0.2222222222222222,
              "#7201a8"
             ],
             [
              0.3333333333333333,
              "#9c179e"
             ],
             [
              0.4444444444444444,
              "#bd3786"
             ],
             [
              0.5555555555555556,
              "#d8576b"
             ],
             [
              0.6666666666666666,
              "#ed7953"
             ],
             [
              0.7777777777777778,
              "#fb9f3a"
             ],
             [
              0.8888888888888888,
              "#fdca26"
             ],
             [
              1,
              "#f0f921"
             ]
            ],
            "type": "histogram2d"
           }
          ],
          "histogram2dcontour": [
           {
            "colorbar": {
             "outlinewidth": 0,
             "ticks": ""
            },
            "colorscale": [
             [
              0,
              "#0d0887"
             ],
             [
              0.1111111111111111,
              "#46039f"
             ],
             [
              0.2222222222222222,
              "#7201a8"
             ],
             [
              0.3333333333333333,
              "#9c179e"
             ],
             [
              0.4444444444444444,
              "#bd3786"
             ],
             [
              0.5555555555555556,
              "#d8576b"
             ],
             [
              0.6666666666666666,
              "#ed7953"
             ],
             [
              0.7777777777777778,
              "#fb9f3a"
             ],
             [
              0.8888888888888888,
              "#fdca26"
             ],
             [
              1,
              "#f0f921"
             ]
            ],
            "type": "histogram2dcontour"
           }
          ],
          "mesh3d": [
           {
            "colorbar": {
             "outlinewidth": 0,
             "ticks": ""
            },
            "type": "mesh3d"
           }
          ],
          "parcoords": [
           {
            "line": {
             "colorbar": {
              "outlinewidth": 0,
              "ticks": ""
             }
            },
            "type": "parcoords"
           }
          ],
          "pie": [
           {
            "automargin": true,
            "type": "pie"
           }
          ],
          "scatter": [
           {
            "fillpattern": {
             "fillmode": "overlay",
             "size": 10,
             "solidity": 0.2
            },
            "type": "scatter"
           }
          ],
          "scatter3d": [
           {
            "line": {
             "colorbar": {
              "outlinewidth": 0,
              "ticks": ""
             }
            },
            "marker": {
             "colorbar": {
              "outlinewidth": 0,
              "ticks": ""
             }
            },
            "type": "scatter3d"
           }
          ],
          "scattercarpet": [
           {
            "marker": {
             "colorbar": {
              "outlinewidth": 0,
              "ticks": ""
             }
            },
            "type": "scattercarpet"
           }
          ],
          "scattergeo": [
           {
            "marker": {
             "colorbar": {
              "outlinewidth": 0,
              "ticks": ""
             }
            },
            "type": "scattergeo"
           }
          ],
          "scattergl": [
           {
            "marker": {
             "colorbar": {
              "outlinewidth": 0,
              "ticks": ""
             }
            },
            "type": "scattergl"
           }
          ],
          "scattermap": [
           {
            "marker": {
             "colorbar": {
              "outlinewidth": 0,
              "ticks": ""
             }
            },
            "type": "scattermap"
           }
          ],
          "scattermapbox": [
           {
            "marker": {
             "colorbar": {
              "outlinewidth": 0,
              "ticks": ""
             }
            },
            "type": "scattermapbox"
           }
          ],
          "scatterpolar": [
           {
            "marker": {
             "colorbar": {
              "outlinewidth": 0,
              "ticks": ""
             }
            },
            "type": "scatterpolar"
           }
          ],
          "scatterpolargl": [
           {
            "marker": {
             "colorbar": {
              "outlinewidth": 0,
              "ticks": ""
             }
            },
            "type": "scatterpolargl"
           }
          ],
          "scatterternary": [
           {
            "marker": {
             "colorbar": {
              "outlinewidth": 0,
              "ticks": ""
             }
            },
            "type": "scatterternary"
           }
          ],
          "surface": [
           {
            "colorbar": {
             "outlinewidth": 0,
             "ticks": ""
            },
            "colorscale": [
             [
              0,
              "#0d0887"
             ],
             [
              0.1111111111111111,
              "#46039f"
             ],
             [
              0.2222222222222222,
              "#7201a8"
             ],
             [
              0.3333333333333333,
              "#9c179e"
             ],
             [
              0.4444444444444444,
              "#bd3786"
             ],
             [
              0.5555555555555556,
              "#d8576b"
             ],
             [
              0.6666666666666666,
              "#ed7953"
             ],
             [
              0.7777777777777778,
              "#fb9f3a"
             ],
             [
              0.8888888888888888,
              "#fdca26"
             ],
             [
              1,
              "#f0f921"
             ]
            ],
            "type": "surface"
           }
          ],
          "table": [
           {
            "cells": {
             "fill": {
              "color": "#EBF0F8"
             },
             "line": {
              "color": "white"
             }
            },
            "header": {
             "fill": {
              "color": "#C8D4E3"
             },
             "line": {
              "color": "white"
             }
            },
            "type": "table"
           }
          ]
         },
         "layout": {
          "annotationdefaults": {
           "arrowcolor": "#2a3f5f",
           "arrowhead": 0,
           "arrowwidth": 1
          },
          "autotypenumbers": "strict",
          "coloraxis": {
           "colorbar": {
            "outlinewidth": 0,
            "ticks": ""
           }
          },
          "colorscale": {
           "diverging": [
            [
             0,
             "#8e0152"
            ],
            [
             0.1,
             "#c51b7d"
            ],
            [
             0.2,
             "#de77ae"
            ],
            [
             0.3,
             "#f1b6da"
            ],
            [
             0.4,
             "#fde0ef"
            ],
            [
             0.5,
             "#f7f7f7"
            ],
            [
             0.6,
             "#e6f5d0"
            ],
            [
             0.7,
             "#b8e186"
            ],
            [
             0.8,
             "#7fbc41"
            ],
            [
             0.9,
             "#4d9221"
            ],
            [
             1,
             "#276419"
            ]
           ],
           "sequential": [
            [
             0,
             "#0d0887"
            ],
            [
             0.1111111111111111,
             "#46039f"
            ],
            [
             0.2222222222222222,
             "#7201a8"
            ],
            [
             0.3333333333333333,
             "#9c179e"
            ],
            [
             0.4444444444444444,
             "#bd3786"
            ],
            [
             0.5555555555555556,
             "#d8576b"
            ],
            [
             0.6666666666666666,
             "#ed7953"
            ],
            [
             0.7777777777777778,
             "#fb9f3a"
            ],
            [
             0.8888888888888888,
             "#fdca26"
            ],
            [
             1,
             "#f0f921"
            ]
           ],
           "sequentialminus": [
            [
             0,
             "#0d0887"
            ],
            [
             0.1111111111111111,
             "#46039f"
            ],
            [
             0.2222222222222222,
             "#7201a8"
            ],
            [
             0.3333333333333333,
             "#9c179e"
            ],
            [
             0.4444444444444444,
             "#bd3786"
            ],
            [
             0.5555555555555556,
             "#d8576b"
            ],
            [
             0.6666666666666666,
             "#ed7953"
            ],
            [
             0.7777777777777778,
             "#fb9f3a"
            ],
            [
             0.8888888888888888,
             "#fdca26"
            ],
            [
             1,
             "#f0f921"
            ]
           ]
          },
          "colorway": [
           "#636efa",
           "#EF553B",
           "#00cc96",
           "#ab63fa",
           "#FFA15A",
           "#19d3f3",
           "#FF6692",
           "#B6E880",
           "#FF97FF",
           "#FECB52"
          ],
          "font": {
           "color": "#2a3f5f"
          },
          "geo": {
           "bgcolor": "white",
           "lakecolor": "white",
           "landcolor": "#E5ECF6",
           "showlakes": true,
           "showland": true,
           "subunitcolor": "white"
          },
          "hoverlabel": {
           "align": "left"
          },
          "hovermode": "closest",
          "mapbox": {
           "style": "light"
          },
          "paper_bgcolor": "white",
          "plot_bgcolor": "#E5ECF6",
          "polar": {
           "angularaxis": {
            "gridcolor": "white",
            "linecolor": "white",
            "ticks": ""
           },
           "bgcolor": "#E5ECF6",
           "radialaxis": {
            "gridcolor": "white",
            "linecolor": "white",
            "ticks": ""
           }
          },
          "scene": {
           "xaxis": {
            "backgroundcolor": "#E5ECF6",
            "gridcolor": "white",
            "gridwidth": 2,
            "linecolor": "white",
            "showbackground": true,
            "ticks": "",
            "zerolinecolor": "white"
           },
           "yaxis": {
            "backgroundcolor": "#E5ECF6",
            "gridcolor": "white",
            "gridwidth": 2,
            "linecolor": "white",
            "showbackground": true,
            "ticks": "",
            "zerolinecolor": "white"
           },
           "zaxis": {
            "backgroundcolor": "#E5ECF6",
            "gridcolor": "white",
            "gridwidth": 2,
            "linecolor": "white",
            "showbackground": true,
            "ticks": "",
            "zerolinecolor": "white"
           }
          },
          "shapedefaults": {
           "line": {
            "color": "#2a3f5f"
           }
          },
          "ternary": {
           "aaxis": {
            "gridcolor": "white",
            "linecolor": "white",
            "ticks": ""
           },
           "baxis": {
            "gridcolor": "white",
            "linecolor": "white",
            "ticks": ""
           },
           "bgcolor": "#E5ECF6",
           "caxis": {
            "gridcolor": "white",
            "linecolor": "white",
            "ticks": ""
           }
          },
          "title": {
           "x": 0.05
          },
          "xaxis": {
           "automargin": true,
           "gridcolor": "white",
           "linecolor": "white",
           "ticks": "",
           "title": {
            "standoff": 15
           },
           "zerolinecolor": "white",
           "zerolinewidth": 2
          },
          "yaxis": {
           "automargin": true,
           "gridcolor": "white",
           "linecolor": "white",
           "ticks": "",
           "title": {
            "standoff": 15
           },
           "zerolinecolor": "white",
           "zerolinewidth": 2
          }
         }
        },
        "title": {
         "font": {
          "size": 16
         },
         "text": "BeforeIT Model: Economic Indicators (Baseline Simulation)<br><sub>Showing 9 selected variables over 40 quarters</sub>",
         "x": 0.5
        },
        "width": 1200,
        "xaxis": {
         "anchor": "y",
         "domain": [
          0,
          0.29333333333333333
         ],
         "gridcolor": "lightgray",
         "gridwidth": 1,
         "showgrid": true,
         "title": {
          "text": "Quarters"
         }
        },
        "xaxis2": {
         "anchor": "y2",
         "domain": [
          0.35333333333333333,
          0.6466666666666667
         ],
         "gridcolor": "lightgray",
         "gridwidth": 1,
         "showgrid": true,
         "title": {
          "text": "Quarters"
         }
        },
        "xaxis3": {
         "anchor": "y3",
         "domain": [
          0.7066666666666667,
          1
         ],
         "gridcolor": "lightgray",
         "gridwidth": 1,
         "showgrid": true,
         "title": {
          "text": "Quarters"
         }
        },
        "xaxis4": {
         "anchor": "y4",
         "domain": [
          0,
          0.29333333333333333
         ],
         "gridcolor": "lightgray",
         "gridwidth": 1,
         "showgrid": true,
         "title": {
          "text": "Quarters"
         }
        },
        "xaxis5": {
         "anchor": "y5",
         "domain": [
          0.35333333333333333,
          0.6466666666666667
         ],
         "gridcolor": "lightgray",
         "gridwidth": 1,
         "showgrid": true,
         "title": {
          "text": "Quarters"
         }
        },
        "xaxis6": {
         "anchor": "y6",
         "domain": [
          0.7066666666666667,
          1
         ],
         "gridcolor": "lightgray",
         "gridwidth": 1,
         "showgrid": true,
         "title": {
          "text": "Quarters"
         }
        },
        "xaxis7": {
         "anchor": "y7",
         "domain": [
          0,
          0.29333333333333333
         ],
         "gridcolor": "lightgray",
         "gridwidth": 1,
         "showgrid": true,
         "title": {
          "text": "Quarters"
         }
        },
        "xaxis8": {
         "anchor": "y8",
         "domain": [
          0.35333333333333333,
          0.6466666666666667
         ],
         "gridcolor": "lightgray",
         "gridwidth": 1,
         "showgrid": true,
         "title": {
          "text": "Quarters"
         }
        },
        "xaxis9": {
         "anchor": "y9",
         "domain": [
          0.7066666666666667,
          1
         ],
         "gridcolor": "lightgray",
         "gridwidth": 1,
         "showgrid": true,
         "title": {
          "text": "Quarters"
         }
        },
        "yaxis": {
         "anchor": "x",
         "domain": [
          0.7666666666666666,
          1.0
         ],
         "gridcolor": "lightgray",
         "gridwidth": 1,
         "showgrid": true
        },
        "yaxis2": {
         "anchor": "x2",
         "domain": [
          0.7666666666666666,
          1.0
         ],
         "gridcolor": "lightgray",
         "gridwidth": 1,
         "showgrid": true
        },
        "yaxis3": {
         "anchor": "x3",
         "domain": [
          0.7666666666666666,
          1.0
         ],
         "gridcolor": "lightgray",
         "gridwidth": 1,
         "showgrid": true
        },
        "yaxis4": {
         "anchor": "x4",
         "domain": [
          0.3833333333333333,
          0.6166666666666666
         ],
         "gridcolor": "lightgray",
         "gridwidth": 1,
         "showgrid": true
        },
        "yaxis5": {
         "anchor": "x5",
         "domain": [
          0.3833333333333333,
          0.6166666666666666
         ],
         "gridcolor": "lightgray",
         "gridwidth": 1,
         "showgrid": true
        },
        "yaxis6": {
         "anchor": "x6",
         "domain": [
          0.3833333333333333,
          0.6166666666666666
         ],
         "gridcolor": "lightgray",
         "gridwidth": 1,
         "showgrid": true
        },
        "yaxis7": {
         "anchor": "x7",
         "domain": [
          0,
          0.2333333333333333
         ],
         "gridcolor": "lightgray",
         "gridwidth": 1,
         "showgrid": true
        },
        "yaxis8": {
         "anchor": "x8",
         "domain": [
          0,
          0.2333333333333333
         ],
         "gridcolor": "lightgray",
         "gridwidth": 1,
         "showgrid": true
        },
        "yaxis9": {
         "anchor": "x9",
         "domain": [
          0,
          0.2333333333333333
         ],
         "gridcolor": "lightgray",
         "gridwidth": 1,
         "showgrid": true
        }
       }
      }
     },
     "metadata": {},
     "output_type": "display_data"
    }
   ],
   "source": [
    "selected_variables = [\n",
    "    \"real_gdp\",\n",
    "    \"real_household_consumption\",\n",
    "    \"real_government_consumption\",\n",
    "    \"real_capitalformation\",\n",
    "    \"real_exports\",\n",
    "    \"real_imports\",\n",
    "    \"wages\",\n",
    "    \"euribor\",\n",
    "    \"gdp_deflator_growth_ea\",\n",
    "]\n",
    "\n",
    "# Validate that all selected variables exist\n",
    "missing_vars = [var for var in selected_variables if var not in variable_names]\n",
    "if missing_vars:\n",
    "    raise ValueError(\n",
    "        f\" The following selected variables are not available: {missing_vars}\"\n",
    "    )\n",
    "\n",
    "# Get indices for selected variables\n",
    "plot_data = []\n",
    "for var_name in selected_variables:\n",
    "    var_idx = variable_names.index(var_name)\n",
    "    plot_data.append((var_name, var_idx))\n",
    "\n",
    "# Calculate optimal subplot layout (prefer more columns than rows for better readability)\n",
    "n_vars = len(plot_data)\n",
    "if n_vars <= 3:\n",
    "    rows, cols = 1, n_vars\n",
    "elif n_vars <= 6:\n",
    "    rows, cols = 2, 3\n",
    "elif n_vars <= 9:\n",
    "    rows, cols = 3, 3\n",
    "elif n_vars <= 12:\n",
    "    rows, cols = 3, 4\n",
    "else:\n",
    "    rows, cols = 4, 4  # Max 4x4 grid, adjust as needed\n",
    "\n",
    "# Create subplot titles\n",
    "subplot_titles = [var.replace(\"_\", \" \").title() for var, _ in plot_data]\n",
    "\n",
    "# Create subplot figure\n",
    "fig = make_subplots(\n",
    "    rows=rows,\n",
    "    cols=cols,\n",
    "    subplot_titles=subplot_titles,\n",
    "    vertical_spacing=0.15,\n",
    "    horizontal_spacing=0.06,\n",
    ")\n",
    "\n",
    "# Add traces for each selected variable\n",
    "for i, (var_name, var_idx) in enumerate(plot_data):\n",
    "    row = (i // cols) + 1\n",
    "    col = (i % cols) + 1\n",
    "\n",
    "    series_data = results.get_scalar_timeseries()[var_name]\n",
    "    fig.add_trace(\n",
    "        go.Scatter(\n",
    "            x=time_quarters,\n",
    "            y=series_data,\n",
    "            mode=\"lines\",\n",
    "            name=var_name,\n",
    "            line=dict(width=2.5),\n",
    "            hovertemplate=\"<b>%{fullData.name}</b><br>\"\n",
    "            + \"Quarter: %{x}<br>\"\n",
    "            + \"Value: %{y:.4f}<br>\"\n",
    "            + \"<extra></extra>\",\n",
    "        ),\n",
    "        row=row,\n",
    "        col=col,\n",
    "    )\n",
    "\n",
    "# Update layout\n",
    "fig.update_layout(\n",
    "    title={\n",
    "        \"text\": f\"BeforeIT Model: Economic Indicators (Baseline Simulation)<br><sub>Showing {n_vars} selected variables over {T} quarters</sub>\",\n",
    "        \"x\": 0.5,\n",
    "        \"font\": {\"size\": 16},\n",
    "    },\n",
    "    height=200 * rows + 100,  # Dynamic height based on number of rows\n",
    "    width=1200,\n",
    "    showlegend=False,  # Turn off legend since subplot titles show variable names\n",
    "    plot_bgcolor=\"white\",\n",
    "    paper_bgcolor=\"white\",\n",
    ")\n",
    "\n",
    "# Update axes labels\n",
    "fig.update_xaxes(\n",
    "    title_text=\"Quarters\", showgrid=True, gridwidth=1, gridcolor=\"lightgray\"\n",
    ")\n",
    "fig.update_yaxes(showgrid=True, gridwidth=1, gridcolor=\"lightgray\")\n",
    "\n",
    "# Show the plot\n",
    "fig.show()"
   ]
  },
  {
   "cell_type": "markdown",
   "id": "0c4860fc",
   "metadata": {
    "vscode": {
     "languageId": "raw"
    }
   },
   "source": [
    "## 4. Test Alternate Specs\n",
    "\n",
    "Now let's test how changing parameters affects the model outcomes. We'll modify a few key parameters and compare the results.\n"
   ]
  },
  {
   "cell_type": "code",
   "execution_count": 8,
   "id": "eb1b2adf",
   "metadata": {},
   "outputs": [
    {
     "name": "stdout",
     "output_type": "stream",
     "text": [
      "  Test parameter: psi (current value: 0.9097)\n",
      "  Test parameter: theta_UB (current value: 0.3586)\n",
      "  Test parameter: tau_INC (current value: 0.2134)\n",
      "\n",
      "Current parameter values:\n",
      "  • psi         : 0.9097\n",
      "  • theta_UB    : 0.3586\n",
      "  • tau_INC     : 0.2134\n"
     ]
    }
   ],
   "source": [
    "# Let's test calibration by changing some key parameters\n",
    "# Select a few important parameters to modif\n",
    "key_params_to_test = [\n",
    "    \"psi\",\n",
    "    \"theta_UB\",\n",
    "    \"tau_INC\",\n",
    "]  # consumption propensity, unemployment benefits, income tax\n",
    "\n",
    "# Find which of our target parameters are actually in the calibratable set\n",
    "test_params = []\n",
    "test_indices = []\n",
    "\n",
    "for param in key_params_to_test:\n",
    "    if param in param_names:\n",
    "        idx = param_names.index(param)\n",
    "        test_params.append(param)\n",
    "        test_indices.append(idx)\n",
    "        print(f\"  Test parameter: {param} (current value: {current_values[param]:.4f})\")\n",
    "    else:\n",
    "        print(f\"  ⚠️  Parameter {param} not found in calibratable parameters\")\n",
    "\n",
    "if not test_params:\n",
    "    # If none of our preferred parameters are available, use the first few\n",
    "    test_params = param_names[:3]\n",
    "    test_indices = list(range(3))\n",
    "    print(f\"  Using first 3 available parameters: {test_params}\")\n",
    "\n",
    "print(\"\\nCurrent parameter values:\")\n",
    "for param in test_params:\n",
    "    print(f\"  • {param:12s}: {current_values[param]:.4f}\")"
   ]
  },
  {
   "cell_type": "code",
   "execution_count": 9,
   "id": "57644ecb",
   "metadata": {},
   "outputs": [
    {
     "name": "stderr",
     "output_type": "stream",
     "text": [
      "INFO:uk_abm.julia_model_wrapper:Running simulation with T=40, ensemble_size=4, seed=42\n"
     ]
    },
    {
     "name": "stdout",
     "output_type": "stream",
     "text": [
      "Modified psi: 0.9097 → 1.0006 (+10%)\n",
      "Running modified simulation...\n"
     ]
    },
    {
     "name": "stderr",
     "output_type": "stream",
     "text": [
      "INFO:uk_abm.julia_model_wrapper:Simulation completed successfully\n"
     ]
    },
    {
     "name": "stdout",
     "output_type": "stream",
     "text": [
      "Modified simulation completed!\n"
     ]
    }
   ],
   "source": [
    "# Create a modified parameter set\n",
    "modified_params = baseline_params.copy()\n",
    "\n",
    "# Increase the first test parameter by 10%\n",
    "if test_indices:\n",
    "    original_value = modified_params[test_indices[0]]\n",
    "    modified_params[test_indices[0]] = original_value * 1.1\n",
    "\n",
    "    print(\n",
    "        f\"Modified {test_params[0]}: {original_value:.4f} → {modified_params[test_indices[0]]:.4f} (+10%)\"\n",
    "    )\n",
    "\n",
    "    # Run simulation with modified parameters\n",
    "    print(\"Running modified simulation...\")\n",
    "    modified_results = model.run_simulation(\n",
    "        parameters=modified_params, T=T, seed=seed, ensemble_size=4\n",
    "    )\n",
    "\n",
    "    print(\"Modified simulation completed!\")\n",
    "else:\n",
    "    print(\"No parameters available for testing\")\n",
    "    modified_results = results  # Use baseline results as fallback"
   ]
  },
  {
   "cell_type": "code",
   "execution_count": 10,
   "id": "336270ad",
   "metadata": {},
   "outputs": [
    {
     "data": {
      "application/vnd.plotly.v1+json": {
       "config": {
        "plotlyServerURL": "https://plot.ly"
       },
       "data": [
        {
         "hovertemplate": "<b>Baseline - %{fullData.name}</b><br>Quarter: %{x}<br>Value: %{y:.4f}<br><extra></extra>",
         "line": {
          "color": "blue",
          "width": 2.5
         },
         "mode": "lines",
         "name": "Baseline",
         "showlegend": true,
         "type": "scatter",
         "x": {
          "bdata": "AQIDBAUGBwgJCgsMDQ4PEBESExQVFhcYGRobHB0eHyAhIiMkJSYnKA==",
          "dtype": "i1"
         },
         "xaxis": "x",
         "y": {
          "bdata": "AAAAAGCu8UBwMTj/QrPxQBf8/60upPFAiJt+JMic8UBjUBrB9p3xQA7sSWRIrPFAJ+ZrxT2y8UCWSMm82sbxQBf35sgB2/FAl/leUzgG8kAeK7a76AjyQL45eRpPHPJADMdGNYdB8kDqwv2DU2jyQHvJA8o6cvJAV8vIALuT8kB0EJRpKp/yQKwi/cITsfJACDwiVXzS8kA4fTlcNd/yQKuRGFv03PJAf5RH0qYB80DqxwccXizzQDmnsfe3KPNA0mc45agu80BpgLpiAEDzQFtBCUw+TfNA5kpMxspF80CWgrc8r1LzQO3/Q/WJZfNAIVFHuVtj80A+HTm7KHXzQANenAztgfNAfnBSBLOB80AGAPcsOnXzQPWK/JFek/NAlZWcs5CI80CBoa9wnpbzQPML0zRAs/NAxEBGnuvB80AU08JpWdLzQA==",
          "dtype": "f8"
         },
         "yaxis": "y"
        },
        {
         "hovertemplate": "<b>Modified - %{fullData.name}</b><br>Quarter: %{x}<br>Value: %{y:.4f}<br><extra></extra>",
         "line": {
          "color": "red",
          "dash": "dash",
          "width": 2.5
         },
         "mode": "lines",
         "name": "Modified",
         "showlegend": true,
         "type": "scatter",
         "x": {
          "bdata": "AQIDBAUGBwgJCgsMDQ4PEBESExQVFhcYGRobHB0eHyAhIiMkJSYnKA==",
          "dtype": "i1"
         },
         "xaxis": "x",
         "y": {
          "bdata": "TcH4HfPP8UBi9VpYaLzxQPAg16CDJPJATAFkeRp/8kDP5wUvVMXyQMitfKSB3vJAEgb4FgIm80AG+GwfdU/zQPZU7YssevNAaTxGSg6S80DQZrpvR6bzQK3RDo46xvNA/P/9zHDv80CAp7JUzQv0QHbJ27Q6EfRAmb8Wj80s9EAQMZAL6Er0QN7wYyTBV/RAbfo4k4dv9EBwfzFG5Hj0QB7GpeteifRAD5xZkQes9EB0hQR1yKP0QKDHhurgpfRAOrFTdv689EAC/HLIVbX0QJbmx5yc1PRA2GzgMcvk9EASaZdvp+/0QGbKlVrj7fRAXorUrdvp9EC4AMN8VOX0QDJhDtEL6fRAnInPNsPw9EAsNC14HO/0QA30Ychr6/RARfRAGlvZ9ECiT+lLj+T0QOmyrUVH9fRAqrsqgmjp9EC7BfjYAe/0QA==",
          "dtype": "f8"
         },
         "yaxis": "y"
        },
        {
         "hovertemplate": "<b>Baseline - %{fullData.name}</b><br>Quarter: %{x}<br>Value: %{y:.4f}<br><extra></extra>",
         "line": {
          "color": "blue",
          "width": 2.5
         },
         "mode": "lines",
         "name": "Baseline",
         "showlegend": false,
         "type": "scatter",
         "x": {
          "bdata": "AQIDBAUGBwgJCgsMDQ4PEBESExQVFhcYGRobHB0eHyAhIiMkJSYnKA==",
          "dtype": "i1"
         },
         "xaxis": "x2",
         "y": {
          "bdata": "DoxpVR7I40DmZC4nV8TjQEQFKMm8r+NAwOTjyTWa40BC2n1YZJfjQEh0gGd2oeNAnmbmaJOj40ALT3r8T6/jQLWqeBFjuONAwD7WDA3d40BKK4OSHd7jQLq8ftyQ3ONAXH0rIIkC5ECX4tzhnCnkQNLB1wtiMORAA8uvaiBV5EBSytpcBV7kQBr8L15NZeRA4b5KRRqE5ECmKkstWJLkQC/+TTaOluRAXKvUF+W55EDoQBpBBeDkQOJ+PSTk5+RAettRtuvz5EBBCHgDgQflQEyL+/AoGeVAMAZwEoAU5UAfcfXqFRrlQOOoKmYtKuVADx/49Ugf5UAbkHdINT/lQAXqlFlnOuVAsr1q+iZF5UAsvMXuLz3lQNlbl7N2WeVAteNJozhU5UCnG4Oev1vlQE1rQixmeeVAVi7UT9F75UCuRjzHV5LlQA==",
          "dtype": "f8"
         },
         "yaxis": "y2"
        },
        {
         "hovertemplate": "<b>Modified - %{fullData.name}</b><br>Quarter: %{x}<br>Value: %{y:.4f}<br><extra></extra>",
         "line": {
          "color": "red",
          "dash": "dash",
          "width": 2.5
         },
         "mode": "lines",
         "name": "Modified",
         "showlegend": false,
         "type": "scatter",
         "x": {
          "bdata": "AQIDBAUGBwgJCgsMDQ4PEBESExQVFhcYGRobHB0eHyAhIiMkJSYnKA==",
          "dtype": "i1"
         },
         "xaxis": "x2",
         "y": {
          "bdata": "doBaxIfC5UBtDZecslbkQCldKTZ8JOVAjD47JfN55UA5hAdoIMPlQHArjFO+2eVA2Isn+CIf5kDeP1h/+EbmQMgMe+bVfeZAZNoHv0yc5kAUUFDoxrnmQCWwXcPMzOZA6bj9Pr/75kD8WAP4OR7nQHbNjPEBHOdAOIMdCp8+50CgZe5kMFTnQPjTAID/WOdASMExXo5q50CK0McqvXXnQHjDY18jgOdAnarH+tuX50CQ83HPsJXnQEOoxLt0m+dAcFchQe+w50BAXnJFq57nQI+IRxU1uedAevCu9vTD50DiD078H9PnQD+tlCZK0udA+rmA7fLY50A/EYcaldbnQHpyoNox3edAEIuUJHjq50CRr83UCd/nQM5ICzwv7udAygZKUIjh50C7SHqhGuvnQAN3D+iy6OdA2GdnjyvO50Br7gY/qtLnQA==",
          "dtype": "f8"
         },
         "yaxis": "y2"
        },
        {
         "hovertemplate": "<b>Baseline - %{fullData.name}</b><br>Quarter: %{x}<br>Value: %{y:.4f}<br><extra></extra>",
         "line": {
          "color": "blue",
          "width": 2.5
         },
         "mode": "lines",
         "name": "Baseline",
         "showlegend": false,
         "type": "scatter",
         "x": {
          "bdata": "AQIDBAUGBwgJCgsMDQ4PEBESExQVFhcYGRobHB0eHyAhIiMkJSYnKA==",
          "dtype": "i1"
         },
         "xaxis": "x3",
         "y": {
          "bdata": "/uK0qnEJzUBSn1iMCRzNQECAtIHaKc1AHH71stRDzUDsUbSxpVfNQDJa5G1/k81AExUEMqKozUD+2+QAlLTNQD7H6oQKAc5AAECSCJARzkB8wtCCvh3OQHZDkz5RSM5AHtWeRWBMzkCPHEqFQ4zOQDXWbEDU4M5A9qOPXhcPz0DQ3GzgaS/PQKVhjJ9HgM9AcRp3yK2kz0BEXQoN6L/PQOCjRAsh189AdtNaC7kW0EBtAUvvKhPQQO1vNv4GFdBATHEiwjUS0EB9o+HO2yDQQKwCKGytCtBATahLvYb6z0AH/mTqYgXQQBogv4FfFtBAdcM4MwAd0EAGuTj3KETQQOjLlITiNtBAI+pZYA9K0EB42FrZSSHQQCQ7gG64J9BAWnAeO65A0EB74/+zyFnQQD85JqoQgdBAHnc0kkCP0ECAqC5lPsTQQA==",
          "dtype": "f8"
         },
         "yaxis": "y3"
        },
        {
         "hovertemplate": "<b>Modified - %{fullData.name}</b><br>Quarter: %{x}<br>Value: %{y:.4f}<br><extra></extra>",
         "line": {
          "color": "red",
          "dash": "dash",
          "width": 2.5
         },
         "mode": "lines",
         "name": "Modified",
         "showlegend": false,
         "type": "scatter",
         "x": {
          "bdata": "AQIDBAUGBwgJCgsMDQ4PEBESExQVFhcYGRobHB0eHyAhIiMkJSYnKA==",
          "dtype": "i1"
         },
         "xaxis": "x3",
         "y": {
          "bdata": "/uK0qnEJzUB1jTwKUI7MQIUqKnczFs1AzlzPcLp2zUC+jubkhbvNQHasaBLTs81Ar0ni/UABzkC3cwwsLu/NQGKhKweS+c1AKJ5UknbtzUDisfHXyPTNQLRCsbs3CM5AbCCDiOhPzkDnA4MLeVnOQLroh8lcYc5Agt4nigjfzkBk7guxf1/PQF2ZlX8Bgc9AtlC22HXDz0A3zvdDiM/PQG8xv1uIA9BACfR1smsc0EABwGkY0fTPQClF479oHdBAxnHo1J4x0EBLR7/ehVHQQCLcZxs4ddBAmtW5ZoGM0ECNC79gk6PQQMX3DRIboNBAP/hQnjC80EB/8aDliaHQQDcMc47asdBA4myRQEbZ0EAY4Pf/hNjQQIk6aRgD8NBAjCYV0Lfx0EDc3oSEYQTRQM1LZ0D8+9BAvmnWrCf90EAIxDExjQjRQA==",
          "dtype": "f8"
         },
         "yaxis": "y3"
        },
        {
         "hovertemplate": "<b>Baseline - %{fullData.name}</b><br>Quarter: %{x}<br>Value: %{y:.4f}<br><extra></extra>",
         "line": {
          "color": "blue",
          "width": 2.5
         },
         "mode": "lines",
         "name": "Baseline",
         "showlegend": false,
         "type": "scatter",
         "x": {
          "bdata": "AQIDBAUGBwgJCgsMDQ4PEBESExQVFhcYGRobHB0eHyAhIiMkJSYnKA==",
          "dtype": "i1"
         },
         "xaxis": "x4",
         "y": {
          "bdata": "4772PR4kz0BOLSLQfz3PQNOFLJIOE89A6OLSlVUSz0AyWHJvTxzPQEjyH+XtGM9AxA1yj0/kzkByfg8A3z/PQHfuTHtHFs9A2N8Op1m+z0DYSVwGoazPQBuGK6YxPtBAr9c/S4tu0EC4010LSpHQQFkeQBbwYNBA6hRkzI600ECAIl19baPQQKMSDERJl9BASukwoY3t0EB9chsLQMXQQLUePRSNm9BA+gDpJFWy0ECINy8F7BLRQFgItmH48tBAUZVjEKXn0EAZfLS8KS3RQGG+RhtLFtFAcox5Uqgj0UBq2+d5VhXRQCMxV2REctFAiFFT7zOI0UDGv7FcE0DRQO+3Wve3StFAM903SuQx0UBUOBiQWG/RQBrUZGgWk9FAEaAe/EmC0UD/5nGrK3TRQAgmmyvwmNFANAxmW6jH0UCkGK6y5ZfRQA==",
          "dtype": "f8"
         },
         "yaxis": "y4"
        },
        {
         "hovertemplate": "<b>Modified - %{fullData.name}</b><br>Quarter: %{x}<br>Value: %{y:.4f}<br><extra></extra>",
         "line": {
          "color": "red",
          "dash": "dash",
          "width": 2.5
         },
         "mode": "lines",
         "name": "Modified",
         "showlegend": false,
         "type": "scatter",
         "x": {
          "bdata": "AQIDBAUGBwgJCgsMDQ4PEBESExQVFhcYGRobHB0eHyAhIiMkJSYnKA==",
          "dtype": "i1"
         },
         "xaxis": "x4",
         "y": {
          "bdata": "4772PR4kz0D+77I90RHPQK94QRBPTs9AeulhHBSm0EDUolEeC+vQQPk3tLCJw9BACvs+2fZ00UDYnb5LYmjRQLnOPLjyg9FAw75HqxCU0UDye8f4hnbRQAID3VVrldFA/NZ7x5jg0UD/XV4TQ/HRQFPbwdicCNJABpeYTlHs0UCAI1hiwvzRQB7KDfVtGtJAMH6pXo/u0UB3ZieQ4+3RQOpiId6O89FA/T8nnvVs0kCMjAwS63jSQIS0voWOStJAjbEvm9t70kBm+yCOwU/SQAdF6W+dcdJAt1Bm2/Os0kAesrtvJLbSQKOzz1ByytJAehYG3u260kCJ5iAwb6/SQKZAEbXwldJA4Ti2nUic0kCurEND2q7SQC6RFPsGy9JArN7kalWJ0kBcoE33rYnSQGR845tUxdJARqmNPtaK0kAH0xY0e4nSQA==",
          "dtype": "f8"
         },
         "yaxis": "y4"
        },
        {
         "hovertemplate": "<b>Baseline - %{fullData.name}</b><br>Quarter: %{x}<br>Value: %{y:.4f}<br><extra></extra>",
         "line": {
          "color": "blue",
          "width": 2.5
         },
         "mode": "lines",
         "name": "Baseline",
         "showlegend": false,
         "type": "scatter",
         "x": {
          "bdata": "AQIDBAUGBwgJCgsMDQ4PEBESExQVFhcYGRobHB0eHyAhIiMkJSYnKA==",
          "dtype": "i1"
         },
         "xaxis": "x5",
         "y": {
          "bdata": "AOxbEHKy4EC6oXKDFnrgQJLCmQIWneBA9i2XURWk4ECc6rrdY8bgQAdcQXVe2+BA0NnTICH/4ECIMacZmA/hQIlmPiOcGeFAOVmGy7MN4UC6GlYbw8fgQLXHLvq4veBAYpsY+2jV4EAhsNBOh9jgQBw4mc2xEOFAYtBXBIv84EAWNOLagOrgQMo5WrW1teBAKs2GIkjp4EBDoy8jDe/gQMBvqYE1z+BACyvpWhPy4EDv4vlh2i3hQFGkLZn4IuFAFY2Wlfp34UCAlnpeoSrhQFFBnZXHd+FAPKrOn7RL4UCXCroHQ0LhQId4xxdiJOFAoCcK5F4i4UBk8jMGPUPhQIBQ8mMRHOFAUti5RJ3h4EBe+0TX/crgQIDzVJ3w2uBAUSgw4FkN4UDeMYfS/fPgQHjsGqW4+OBAlPrMmhF04EAxrI6ThKPgQA==",
          "dtype": "f8"
         },
         "yaxis": "y5"
        },
        {
         "hovertemplate": "<b>Modified - %{fullData.name}</b><br>Quarter: %{x}<br>Value: %{y:.4f}<br><extra></extra>",
         "line": {
          "color": "red",
          "dash": "dash",
          "width": 2.5
         },
         "mode": "lines",
         "name": "Modified",
         "showlegend": false,
         "type": "scatter",
         "x": {
          "bdata": "AQIDBAUGBwgJCgsMDQ4PEBESExQVFhcYGRobHB0eHyAhIiMkJSYnKA==",
          "dtype": "i1"
         },
         "xaxis": "x5",
         "y": {
          "bdata": "AOxbEHKy4ED/0daUYijgQO1TdRdcJeBA7B+MXB0S4EAPdjhnhizgQFCE74r/bOBAxP67mgNQ4EC23g+RY5PgQDXZ60CJleBA7QBLEuSZ4EC6YQEvo5LgQMFdOSrFs+BACuYIneOY4EBF90NbnZvgQAjWRIZK3OBAted2uB/04EB6HdSMxwbhQLfyGEg5JeFA770WBP554UCb3EpawczhQNrWaLX4vOFAUtAaH/Df4UAwyIdVu/HhQCZZH4RfAuJACL3CnwvR4UDxRR+C8dfhQBxxv1vUIeJARYsxdYYm4kBY1bjAmerhQC90saBTyOFAd4GhQY2I4UCVuAmVFTjhQHWnJ9NfNuFAmMOn9bR14UBBwYKgN27hQBFRGceoUeFAx/2L7yRQ4UAs1P0EKTLhQKhvVElwH+FATafbHVIm4UD3mM52vUzhQA==",
          "dtype": "f8"
         },
         "yaxis": "y5"
        },
        {
         "hovertemplate": "<b>Baseline - %{fullData.name}</b><br>Quarter: %{x}<br>Value: %{y:.4f}<br><extra></extra>",
         "line": {
          "color": "blue",
          "width": 2.5
         },
         "mode": "lines",
         "name": "Baseline",
         "showlegend": false,
         "type": "scatter",
         "x": {
          "bdata": "AQIDBAUGBwgJCgsMDQ4PEBESExQVFhcYGRobHB0eHyAhIiMkJSYnKA==",
          "dtype": "i1"
         },
         "xaxis": "x6",
         "y": {
          "bdata": "i2DwXzQp4EAGrp4GlNzfQE0RurSvE+BA7fOvZEUa4EB2zk381z7gQDsL72hfT+BA2fw/b3Vh4EADBsxcT27gQIAQ9yLQYeBA0OyGnUpS4EDOMrgYpwbgQOqkdcTYEuBAqiu+Z0Ef4EANfrMPMx3gQLKrpGBLReBAFvhLq0JI4EDapV6bwifgQMUk8i4kyd9AMk9DAFwo4EAAJNiglBXgQLgFbJ3T3t9ArpdQ5jEN4ECEsEHlLkjgQNIQ/n1sPeBAPJy66oGL4EDYrUhiJFngQJKqPTLwhuBA3Mo1/hRl4EAz42YrV0TgQChKdYbNR+BA+665eIpN4ECEhC4CP1rgQFxARuJrE+BAhDGRF7DC30Dlf6xBFczfQCCCyzAj1t9AHWnfN+0x4ECl72O/egngQFfvl9KeGOBAntLDSQAv30B+Wmcmd37fQA==",
          "dtype": "f8"
         },
         "yaxis": "y6"
        },
        {
         "hovertemplate": "<b>Modified - %{fullData.name}</b><br>Quarter: %{x}<br>Value: %{y:.4f}<br><extra></extra>",
         "line": {
          "color": "red",
          "dash": "dash",
          "width": 2.5
         },
         "mode": "lines",
         "name": "Modified",
         "showlegend": false,
         "type": "scatter",
         "x": {
          "bdata": "AQIDBAUGBwgJCgsMDQ4PEBESExQVFhcYGRobHB0eHyAhIiMkJSYnKA==",
          "dtype": "i1"
         },
         "xaxis": "x6",
         "y": {
          "bdata": "i2DwXzQp4ECup2elmdzfQBFYy63xGeBAtidkOZQ+4EDqn5Z5ZUngQCObdjJ0WOBAfI4LEe5d4EBEmnCCbmvgQNOLde1jX+BAX2n/NnpX4EC8Dj3qUDjgQNo8VGvgQOBAiFLpxwc64EAv8XF2PDHgQHH43Kx8cuBAtC49bg6H4EB/LhH4aJvgQE0wvtktvOBA4t1YYaLt4EDcVMHRiTvhQERYcdrpJeFAzNx9n21k4UD6ZhEKhXnhQCVvpw0OhuFArMNILLte4UBgzRvtlFzhQA+9H/06peFAJLUvqZ+94UDzcRXGRovhQD9iicMddOFABq6kEVhJ4UBetOtAfuzgQAp+ba1f5eBAZw7BG2454UDPzpMmuDLhQJ6XH3yFRuFAtx7RqH084UAnvY7MLBvhQNnkLRQ9/uBANqGfnqvl4EBpx4k2aArhQA==",
          "dtype": "f8"
         },
         "yaxis": "y6"
        },
        {
         "hovertemplate": "<b>Baseline - %{fullData.name}</b><br>Quarter: %{x}<br>Value: %{y:.4f}<br><extra></extra>",
         "line": {
          "color": "blue",
          "width": 2.5
         },
         "mode": "lines",
         "name": "Baseline",
         "showlegend": false,
         "type": "scatter",
         "x": {
          "bdata": "AQIDBAUGBwgJCgsMDQ4PEBESExQVFhcYGRobHB0eHyAhIiMkJSYnKA==",
          "dtype": "i1"
         },
         "xaxis": "x7",
         "y": {
          "bdata": "fTlzE9Wr20Bux35JgsPbQCKf+tQo1dtAEp2t40/820DvsBFx2SjcQL4J0Ng8Y9xAEFLiRLih3ECSpMxm2+zcQMFe7DqtN91A91RuP4K33UCmKDL9d+XdQAplPJEiFt5AaVVqC5xt3kBtrnU17cLeQMtumVm8/N5AM2nkMH1230CkL/DEOq3fQDMj1iF+8t9Ahx25wFUa4EDq9TzHhCvgQJUjKCd4L+BAVd5BIUBa4EDU0sY5JIngQBv0HCd+ieBAPr9pAbKW4EDS4EwLB7HgQPftjDCcveBAVwXoXaLE4EBeiNWt9u7gQKvPocmlEuFAGALMMeoa4UBTSB7lqzzhQDqD22DYW+FATh6Jkm1h4UCshcxgz2fhQNj/wGRWkOFAiFU2xpaV4UAA3/MOorThQKyqSCfg2+FAUawhLgjo4UDw+suq+xPiQA==",
          "dtype": "f8"
         },
         "yaxis": "y7"
        },
        {
         "hovertemplate": "<b>Modified - %{fullData.name}</b><br>Quarter: %{x}<br>Value: %{y:.4f}<br><extra></extra>",
         "line": {
          "color": "red",
          "dash": "dash",
          "width": 2.5
         },
         "mode": "lines",
         "name": "Modified",
         "showlegend": false,
         "type": "scatter",
         "x": {
          "bdata": "AQIDBAUGBwgJCgsMDQ4PEBESExQVFhcYGRobHB0eHyAhIiMkJSYnKA==",
          "dtype": "i1"
         },
         "xaxis": "x7",
         "y": {
          "bdata": "fTlzE9Wr20Bux35JgsPbQHDIoUs9atxAyNIf05st3UD+ahhFiL7dQPYdyONNAt5A1EI2tIJ+3kCbmaV2vMPeQHI/pQF3MN9ATqIQPSt230CwZB5Zz5rfQGI3bXCe6t9AQDzaX4Mk4EDAOz4ljjrgQJiXXGGmUOBAchUJ8Zpx4ECxAUQxZIjgQDwpDO3gmuBAfaNWFqS34EB5pUgji8bgQIK5+hMy4eBAcyy3DQIN4UBkMr3gmQnhQEVYiu4GHOFAML7Mb44y4UDapyOvUz/hQKYpCYhUdeFAhbbXdXOM4UAR8UwyI5fhQAJ9QQpFseFAVm1gRQDB4UCdhSZPZcrhQKBPgRi+1OFANDA561/l4UCF+V62ngPiQMTi3fF2F+JACRN/GEId4kBrDbmndDniQOeQivPCVuJA+Ew9b8lW4kDiVK2q/WLiQA==",
          "dtype": "f8"
         },
         "yaxis": "y7"
        },
        {
         "hovertemplate": "<b>Baseline - %{fullData.name}</b><br>Quarter: %{x}<br>Value: %{y:.4f}<br><extra></extra>",
         "line": {
          "color": "blue",
          "width": 2.5
         },
         "mode": "lines",
         "name": "Baseline",
         "showlegend": false,
         "type": "scatter",
         "x": {
          "bdata": "AQIDBAUGBwgJCgsMDQ4PEBESExQVFhcYGRobHB0eHyAhIiMkJSYnKA==",
          "dtype": "i1"
         },
         "xaxis": "x8",
         "y": {
          "bdata": "ANwK7In3Wj/oSUyDWbVSP39oJVVILFU/nsaVtlioWj+VgaIxMhNZP+Kg6w8fcFw/BrWlIVS6YT9uYbdr2OVgP5bTUBlms2M/tt2Y4L+fYT+KL3uEjuZYPz8oLcVf6Fs/0jU6DDFmXj/WOXLp9ZpfP6jzcdkE72E/+5QqdSMxYT8unOEPYwVgPwJ+4UHn0l0/ky+bH1hVYT+mOGiW+DBjP5e3dRy/ZmM/1U1RMkEBZT+CczgdWEZpP7BlT7UeC2g/MCOWtW77aD+ZhSdgDb5jP4qTzC9q72Q/my+TzhNFYz+u3B0l8bVhP+Ocaumkul8/7tsTnWmwXT/hX9jMI9hdPyAajMkImVw/tqHhkIoRVT8ntoX08DRPP57DuEw46U8/xubc7y1OVz/oiKTqjstYP3HLo6kfbVY/Y4/nzbQDUz9QdjGrSfpRPw==",
          "dtype": "f8"
         },
         "yaxis": "y8"
        },
        {
         "hovertemplate": "<b>Modified - %{fullData.name}</b><br>Quarter: %{x}<br>Value: %{y:.4f}<br><extra></extra>",
         "line": {
          "color": "red",
          "dash": "dash",
          "width": 2.5
         },
         "mode": "lines",
         "name": "Modified",
         "showlegend": false,
         "type": "scatter",
         "x": {
          "bdata": "AQIDBAUGBwgJCgsMDQ4PEBESExQVFhcYGRobHB0eHyAhIiMkJSYnKA==",
          "dtype": "i1"
         },
         "xaxis": "x8",
         "y": {
          "bdata": "ANwK7In3Wj/oSUyDWbVSP39oJVVILFU/EvVEUL1SVj8RfFFqfYJYPy+2F6HTCFs/r6wkc1O/WT9FE3atyTFgP4YPR+DDfGA/EJ6tz55CXT/+A4WG1OpZPwkxv5cOfl0/isL8Xb/QXz+aitqTBmFiP/sZEOdSGWU/LQhK6zdzZT/wUmIWxoRmPwS7wxR4hWk/kAKzZAmxbT/smKIjHQJvP7QPAWZ8zm4/NDwvjtdebD/iJl8nq6duPwZMm9JHjnA/9144trO4bz8KvDN2fzBvPze4PHjDvnE/SNE6qqrRcD9sxSLMnZNsP5B8f8l3Tmo/ZtfP5O/eYj9wC8Boj6xhP7hqC1oOO2E/a5QTjee1Yj9wmgs7ODNjP8IxInGB+mA/JzVlqwXFYD86XJjfYL1gP8R6CefMoGE/BkbDGHdTYz/F/bokKxlnPw==",
          "dtype": "f8"
         },
         "yaxis": "y8"
        },
        {
         "hovertemplate": "<b>Baseline - %{fullData.name}</b><br>Quarter: %{x}<br>Value: %{y:.4f}<br><extra></extra>",
         "line": {
          "color": "blue",
          "width": 2.5
         },
         "mode": "lines",
         "name": "Baseline",
         "showlegend": false,
         "type": "scatter",
         "x": {
          "bdata": "AQIDBAUGBwgJCgsMDQ4PEBESExQVFhcYGRobHB0eHyAhIiMkJSYnKA==",
          "dtype": "i1"
         },
         "xaxis": "x9",
         "y": {
          "bdata": "ALAqEubBXz8Axl3T7G9hPwCzwwoBMG8/ANpEBZkHcT9AKbWK/gx3P8CqYGa6tnE/gG+DjI+ubT+Ac3jnidVuP8BWlgkS53A/AHs1Yt2Kaz+AqEyB2vV3PwCfELXwgHo/QEd9pIn8eD/Ata7Z5nJzPwAbRactaWc/QB5HtB1VeD/ARGRyVPFxPwBcstHat3I/gEYzdoqccT+gtjAU0i1wP4BXQRxvmnU/APi9oldmdj9ANfLuR4R5PwDfRs+kfm0/wAIkV0CAdj+A/BDPnxpyPwAZIZT152s/gLMeWPiibz8AOjldW1tMP2C8JIQGw3M/wCZKW0UJcz+AZDTcGxJ4P0B/dgXNz3Y/gDeqCrzmYD9A4eAKWgZnP0CMkioGgGc/QHmuSFdtaD+Ag8ce28V1PwCk5Ydjt3I/wBGDhjfpdD9A5A/FU951Pw==",
          "dtype": "f8"
         },
         "yaxis": "y9"
        },
        {
         "hovertemplate": "<b>Modified - %{fullData.name}</b><br>Quarter: %{x}<br>Value: %{y:.4f}<br><extra></extra>",
         "line": {
          "color": "red",
          "dash": "dash",
          "width": 2.5
         },
         "mode": "lines",
         "name": "Modified",
         "showlegend": false,
         "type": "scatter",
         "x": {
          "bdata": "AQIDBAUGBwgJCgsMDQ4PEBESExQVFhcYGRobHB0eHyAhIiMkJSYnKA==",
          "dtype": "i1"
         },
         "xaxis": "x9",
         "y": {
          "bdata": "ALAqEubBXz8Axl3T7G9hPwCzwwoBMG8/gKQTXQWlbT8AnO5zbvxuPwBAERJWM3U/wLzAe6oadD8ARyh78IdtP6AP04kcCoA/AKtMT43TeT9A42ikvqJ4P0Bfmrv5LHI/QB8fbTm4cT8A6VBbMbpxP8DX9ov0LHc/ABTDD45kcD/AICuX8bZ0P0CArDMORnM/gBh0ZfO7aj+A4xa7adpuPyBctAdZmXU/oCs+peDOcT9A6HaAo0J3P8AKzdbcpHY/gEB44bbGbD9AZpuTh114P0DPCV48qns/AHsyHSFfdT8ASr1a2yp2P4DUx0vt73c/gKqzLSCvZj8A4MGzme9xP4C9178bDHE/wMLIxjcYcD9AQBnJ7mFtP4DdDuV6GWA/gFObp+Lqaj8ARGjstHtlP4CA2Osj5Vg/gF6GKPQgZj8AHQ+45ZliPw==",
          "dtype": "f8"
         },
         "yaxis": "y9"
        }
       ],
       "layout": {
        "annotations": [
         {
          "font": {
           "size": 16
          },
          "showarrow": false,
          "text": "Real Gdp",
          "x": 0.14666666666666667,
          "xanchor": "center",
          "xref": "paper",
          "y": 1.0,
          "yanchor": "bottom",
          "yref": "paper"
         },
         {
          "font": {
           "size": 16
          },
          "showarrow": false,
          "text": "Real Household Consumption",
          "x": 0.5,
          "xanchor": "center",
          "xref": "paper",
          "y": 1.0,
          "yanchor": "bottom",
          "yref": "paper"
         },
         {
          "font": {
           "size": 16
          },
          "showarrow": false,
          "text": "Real Government Consumption",
          "x": 0.8533333333333333,
          "xanchor": "center",
          "xref": "paper",
          "y": 1.0,
          "yanchor": "bottom",
          "yref": "paper"
         },
         {
          "font": {
           "size": 16
          },
          "showarrow": false,
          "text": "Real Capitalformation",
          "x": 0.14666666666666667,
          "xanchor": "center",
          "xref": "paper",
          "y": 0.6166666666666666,
          "yanchor": "bottom",
          "yref": "paper"
         },
         {
          "font": {
           "size": 16
          },
          "showarrow": false,
          "text": "Real Exports",
          "x": 0.5,
          "xanchor": "center",
          "xref": "paper",
          "y": 0.6166666666666666,
          "yanchor": "bottom",
          "yref": "paper"
         },
         {
          "font": {
           "size": 16
          },
          "showarrow": false,
          "text": "Real Imports",
          "x": 0.8533333333333333,
          "xanchor": "center",
          "xref": "paper",
          "y": 0.6166666666666666,
          "yanchor": "bottom",
          "yref": "paper"
         },
         {
          "font": {
           "size": 16
          },
          "showarrow": false,
          "text": "Wages",
          "x": 0.14666666666666667,
          "xanchor": "center",
          "xref": "paper",
          "y": 0.2333333333333333,
          "yanchor": "bottom",
          "yref": "paper"
         },
         {
          "font": {
           "size": 16
          },
          "showarrow": false,
          "text": "Euribor",
          "x": 0.5,
          "xanchor": "center",
          "xref": "paper",
          "y": 0.2333333333333333,
          "yanchor": "bottom",
          "yref": "paper"
         },
         {
          "font": {
           "size": 16
          },
          "showarrow": false,
          "text": "Gdp Deflator Growth Ea",
          "x": 0.8533333333333333,
          "xanchor": "center",
          "xref": "paper",
          "y": 0.2333333333333333,
          "yanchor": "bottom",
          "yref": "paper"
         }
        ],
        "height": 700,
        "legend": {
         "orientation": "h",
         "x": 1,
         "xanchor": "right",
         "y": 1.02,
         "yanchor": "bottom"
        },
        "paper_bgcolor": "white",
        "plot_bgcolor": "white",
        "template": {
         "data": {
          "bar": [
           {
            "error_x": {
             "color": "#2a3f5f"
            },
            "error_y": {
             "color": "#2a3f5f"
            },
            "marker": {
             "line": {
              "color": "#E5ECF6",
              "width": 0.5
             },
             "pattern": {
              "fillmode": "overlay",
              "size": 10,
              "solidity": 0.2
             }
            },
            "type": "bar"
           }
          ],
          "barpolar": [
           {
            "marker": {
             "line": {
              "color": "#E5ECF6",
              "width": 0.5
             },
             "pattern": {
              "fillmode": "overlay",
              "size": 10,
              "solidity": 0.2
             }
            },
            "type": "barpolar"
           }
          ],
          "carpet": [
           {
            "aaxis": {
             "endlinecolor": "#2a3f5f",
             "gridcolor": "white",
             "linecolor": "white",
             "minorgridcolor": "white",
             "startlinecolor": "#2a3f5f"
            },
            "baxis": {
             "endlinecolor": "#2a3f5f",
             "gridcolor": "white",
             "linecolor": "white",
             "minorgridcolor": "white",
             "startlinecolor": "#2a3f5f"
            },
            "type": "carpet"
           }
          ],
          "choropleth": [
           {
            "colorbar": {
             "outlinewidth": 0,
             "ticks": ""
            },
            "type": "choropleth"
           }
          ],
          "contour": [
           {
            "colorbar": {
             "outlinewidth": 0,
             "ticks": ""
            },
            "colorscale": [
             [
              0,
              "#0d0887"
             ],
             [
              0.1111111111111111,
              "#46039f"
             ],
             [
              0.2222222222222222,
              "#7201a8"
             ],
             [
              0.3333333333333333,
              "#9c179e"
             ],
             [
              0.4444444444444444,
              "#bd3786"
             ],
             [
              0.5555555555555556,
              "#d8576b"
             ],
             [
              0.6666666666666666,
              "#ed7953"
             ],
             [
              0.7777777777777778,
              "#fb9f3a"
             ],
             [
              0.8888888888888888,
              "#fdca26"
             ],
             [
              1,
              "#f0f921"
             ]
            ],
            "type": "contour"
           }
          ],
          "contourcarpet": [
           {
            "colorbar": {
             "outlinewidth": 0,
             "ticks": ""
            },
            "type": "contourcarpet"
           }
          ],
          "heatmap": [
           {
            "colorbar": {
             "outlinewidth": 0,
             "ticks": ""
            },
            "colorscale": [
             [
              0,
              "#0d0887"
             ],
             [
              0.1111111111111111,
              "#46039f"
             ],
             [
              0.2222222222222222,
              "#7201a8"
             ],
             [
              0.3333333333333333,
              "#9c179e"
             ],
             [
              0.4444444444444444,
              "#bd3786"
             ],
             [
              0.5555555555555556,
              "#d8576b"
             ],
             [
              0.6666666666666666,
              "#ed7953"
             ],
             [
              0.7777777777777778,
              "#fb9f3a"
             ],
             [
              0.8888888888888888,
              "#fdca26"
             ],
             [
              1,
              "#f0f921"
             ]
            ],
            "type": "heatmap"
           }
          ],
          "histogram": [
           {
            "marker": {
             "pattern": {
              "fillmode": "overlay",
              "size": 10,
              "solidity": 0.2
             }
            },
            "type": "histogram"
           }
          ],
          "histogram2d": [
           {
            "colorbar": {
             "outlinewidth": 0,
             "ticks": ""
            },
            "colorscale": [
             [
              0,
              "#0d0887"
             ],
             [
              0.1111111111111111,
              "#46039f"
             ],
             [
              0.2222222222222222,
              "#7201a8"
             ],
             [
              0.3333333333333333,
              "#9c179e"
             ],
             [
              0.4444444444444444,
              "#bd3786"
             ],
             [
              0.5555555555555556,
              "#d8576b"
             ],
             [
              0.6666666666666666,
              "#ed7953"
             ],
             [
              0.7777777777777778,
              "#fb9f3a"
             ],
             [
              0.8888888888888888,
              "#fdca26"
             ],
             [
              1,
              "#f0f921"
             ]
            ],
            "type": "histogram2d"
           }
          ],
          "histogram2dcontour": [
           {
            "colorbar": {
             "outlinewidth": 0,
             "ticks": ""
            },
            "colorscale": [
             [
              0,
              "#0d0887"
             ],
             [
              0.1111111111111111,
              "#46039f"
             ],
             [
              0.2222222222222222,
              "#7201a8"
             ],
             [
              0.3333333333333333,
              "#9c179e"
             ],
             [
              0.4444444444444444,
              "#bd3786"
             ],
             [
              0.5555555555555556,
              "#d8576b"
             ],
             [
              0.6666666666666666,
              "#ed7953"
             ],
             [
              0.7777777777777778,
              "#fb9f3a"
             ],
             [
              0.8888888888888888,
              "#fdca26"
             ],
             [
              1,
              "#f0f921"
             ]
            ],
            "type": "histogram2dcontour"
           }
          ],
          "mesh3d": [
           {
            "colorbar": {
             "outlinewidth": 0,
             "ticks": ""
            },
            "type": "mesh3d"
           }
          ],
          "parcoords": [
           {
            "line": {
             "colorbar": {
              "outlinewidth": 0,
              "ticks": ""
             }
            },
            "type": "parcoords"
           }
          ],
          "pie": [
           {
            "automargin": true,
            "type": "pie"
           }
          ],
          "scatter": [
           {
            "fillpattern": {
             "fillmode": "overlay",
             "size": 10,
             "solidity": 0.2
            },
            "type": "scatter"
           }
          ],
          "scatter3d": [
           {
            "line": {
             "colorbar": {
              "outlinewidth": 0,
              "ticks": ""
             }
            },
            "marker": {
             "colorbar": {
              "outlinewidth": 0,
              "ticks": ""
             }
            },
            "type": "scatter3d"
           }
          ],
          "scattercarpet": [
           {
            "marker": {
             "colorbar": {
              "outlinewidth": 0,
              "ticks": ""
             }
            },
            "type": "scattercarpet"
           }
          ],
          "scattergeo": [
           {
            "marker": {
             "colorbar": {
              "outlinewidth": 0,
              "ticks": ""
             }
            },
            "type": "scattergeo"
           }
          ],
          "scattergl": [
           {
            "marker": {
             "colorbar": {
              "outlinewidth": 0,
              "ticks": ""
             }
            },
            "type": "scattergl"
           }
          ],
          "scattermap": [
           {
            "marker": {
             "colorbar": {
              "outlinewidth": 0,
              "ticks": ""
             }
            },
            "type": "scattermap"
           }
          ],
          "scattermapbox": [
           {
            "marker": {
             "colorbar": {
              "outlinewidth": 0,
              "ticks": ""
             }
            },
            "type": "scattermapbox"
           }
          ],
          "scatterpolar": [
           {
            "marker": {
             "colorbar": {
              "outlinewidth": 0,
              "ticks": ""
             }
            },
            "type": "scatterpolar"
           }
          ],
          "scatterpolargl": [
           {
            "marker": {
             "colorbar": {
              "outlinewidth": 0,
              "ticks": ""
             }
            },
            "type": "scatterpolargl"
           }
          ],
          "scatterternary": [
           {
            "marker": {
             "colorbar": {
              "outlinewidth": 0,
              "ticks": ""
             }
            },
            "type": "scatterternary"
           }
          ],
          "surface": [
           {
            "colorbar": {
             "outlinewidth": 0,
             "ticks": ""
            },
            "colorscale": [
             [
              0,
              "#0d0887"
             ],
             [
              0.1111111111111111,
              "#46039f"
             ],
             [
              0.2222222222222222,
              "#7201a8"
             ],
             [
              0.3333333333333333,
              "#9c179e"
             ],
             [
              0.4444444444444444,
              "#bd3786"
             ],
             [
              0.5555555555555556,
              "#d8576b"
             ],
             [
              0.6666666666666666,
              "#ed7953"
             ],
             [
              0.7777777777777778,
              "#fb9f3a"
             ],
             [
              0.8888888888888888,
              "#fdca26"
             ],
             [
              1,
              "#f0f921"
             ]
            ],
            "type": "surface"
           }
          ],
          "table": [
           {
            "cells": {
             "fill": {
              "color": "#EBF0F8"
             },
             "line": {
              "color": "white"
             }
            },
            "header": {
             "fill": {
              "color": "#C8D4E3"
             },
             "line": {
              "color": "white"
             }
            },
            "type": "table"
           }
          ]
         },
         "layout": {
          "annotationdefaults": {
           "arrowcolor": "#2a3f5f",
           "arrowhead": 0,
           "arrowwidth": 1
          },
          "autotypenumbers": "strict",
          "coloraxis": {
           "colorbar": {
            "outlinewidth": 0,
            "ticks": ""
           }
          },
          "colorscale": {
           "diverging": [
            [
             0,
             "#8e0152"
            ],
            [
             0.1,
             "#c51b7d"
            ],
            [
             0.2,
             "#de77ae"
            ],
            [
             0.3,
             "#f1b6da"
            ],
            [
             0.4,
             "#fde0ef"
            ],
            [
             0.5,
             "#f7f7f7"
            ],
            [
             0.6,
             "#e6f5d0"
            ],
            [
             0.7,
             "#b8e186"
            ],
            [
             0.8,
             "#7fbc41"
            ],
            [
             0.9,
             "#4d9221"
            ],
            [
             1,
             "#276419"
            ]
           ],
           "sequential": [
            [
             0,
             "#0d0887"
            ],
            [
             0.1111111111111111,
             "#46039f"
            ],
            [
             0.2222222222222222,
             "#7201a8"
            ],
            [
             0.3333333333333333,
             "#9c179e"
            ],
            [
             0.4444444444444444,
             "#bd3786"
            ],
            [
             0.5555555555555556,
             "#d8576b"
            ],
            [
             0.6666666666666666,
             "#ed7953"
            ],
            [
             0.7777777777777778,
             "#fb9f3a"
            ],
            [
             0.8888888888888888,
             "#fdca26"
            ],
            [
             1,
             "#f0f921"
            ]
           ],
           "sequentialminus": [
            [
             0,
             "#0d0887"
            ],
            [
             0.1111111111111111,
             "#46039f"
            ],
            [
             0.2222222222222222,
             "#7201a8"
            ],
            [
             0.3333333333333333,
             "#9c179e"
            ],
            [
             0.4444444444444444,
             "#bd3786"
            ],
            [
             0.5555555555555556,
             "#d8576b"
            ],
            [
             0.6666666666666666,
             "#ed7953"
            ],
            [
             0.7777777777777778,
             "#fb9f3a"
            ],
            [
             0.8888888888888888,
             "#fdca26"
            ],
            [
             1,
             "#f0f921"
            ]
           ]
          },
          "colorway": [
           "#636efa",
           "#EF553B",
           "#00cc96",
           "#ab63fa",
           "#FFA15A",
           "#19d3f3",
           "#FF6692",
           "#B6E880",
           "#FF97FF",
           "#FECB52"
          ],
          "font": {
           "color": "#2a3f5f"
          },
          "geo": {
           "bgcolor": "white",
           "lakecolor": "white",
           "landcolor": "#E5ECF6",
           "showlakes": true,
           "showland": true,
           "subunitcolor": "white"
          },
          "hoverlabel": {
           "align": "left"
          },
          "hovermode": "closest",
          "mapbox": {
           "style": "light"
          },
          "paper_bgcolor": "white",
          "plot_bgcolor": "#E5ECF6",
          "polar": {
           "angularaxis": {
            "gridcolor": "white",
            "linecolor": "white",
            "ticks": ""
           },
           "bgcolor": "#E5ECF6",
           "radialaxis": {
            "gridcolor": "white",
            "linecolor": "white",
            "ticks": ""
           }
          },
          "scene": {
           "xaxis": {
            "backgroundcolor": "#E5ECF6",
            "gridcolor": "white",
            "gridwidth": 2,
            "linecolor": "white",
            "showbackground": true,
            "ticks": "",
            "zerolinecolor": "white"
           },
           "yaxis": {
            "backgroundcolor": "#E5ECF6",
            "gridcolor": "white",
            "gridwidth": 2,
            "linecolor": "white",
            "showbackground": true,
            "ticks": "",
            "zerolinecolor": "white"
           },
           "zaxis": {
            "backgroundcolor": "#E5ECF6",
            "gridcolor": "white",
            "gridwidth": 2,
            "linecolor": "white",
            "showbackground": true,
            "ticks": "",
            "zerolinecolor": "white"
           }
          },
          "shapedefaults": {
           "line": {
            "color": "#2a3f5f"
           }
          },
          "ternary": {
           "aaxis": {
            "gridcolor": "white",
            "linecolor": "white",
            "ticks": ""
           },
           "baxis": {
            "gridcolor": "white",
            "linecolor": "white",
            "ticks": ""
           },
           "bgcolor": "#E5ECF6",
           "caxis": {
            "gridcolor": "white",
            "linecolor": "white",
            "ticks": ""
           }
          },
          "title": {
           "x": 0.05
          },
          "xaxis": {
           "automargin": true,
           "gridcolor": "white",
           "linecolor": "white",
           "ticks": "",
           "title": {
            "standoff": 15
           },
           "zerolinecolor": "white",
           "zerolinewidth": 2
          },
          "yaxis": {
           "automargin": true,
           "gridcolor": "white",
           "linecolor": "white",
           "ticks": "",
           "title": {
            "standoff": 15
           },
           "zerolinecolor": "white",
           "zerolinewidth": 2
          }
         }
        },
        "title": {
         "font": {
          "size": 16
         },
         "text": "Calibration Test: Effect of Increasing psi by 10%<br><sub>Baseline vs Modified simulation over 40 quarters</sub>",
         "x": 0.5
        },
        "width": 1200,
        "xaxis": {
         "anchor": "y",
         "domain": [
          0,
          0.29333333333333333
         ],
         "gridcolor": "lightgray",
         "gridwidth": 1,
         "showgrid": true,
         "title": {
          "text": "Quarters"
         }
        },
        "xaxis2": {
         "anchor": "y2",
         "domain": [
          0.35333333333333333,
          0.6466666666666667
         ],
         "gridcolor": "lightgray",
         "gridwidth": 1,
         "showgrid": true,
         "title": {
          "text": "Quarters"
         }
        },
        "xaxis3": {
         "anchor": "y3",
         "domain": [
          0.7066666666666667,
          1
         ],
         "gridcolor": "lightgray",
         "gridwidth": 1,
         "showgrid": true,
         "title": {
          "text": "Quarters"
         }
        },
        "xaxis4": {
         "anchor": "y4",
         "domain": [
          0,
          0.29333333333333333
         ],
         "gridcolor": "lightgray",
         "gridwidth": 1,
         "showgrid": true,
         "title": {
          "text": "Quarters"
         }
        },
        "xaxis5": {
         "anchor": "y5",
         "domain": [
          0.35333333333333333,
          0.6466666666666667
         ],
         "gridcolor": "lightgray",
         "gridwidth": 1,
         "showgrid": true,
         "title": {
          "text": "Quarters"
         }
        },
        "xaxis6": {
         "anchor": "y6",
         "domain": [
          0.7066666666666667,
          1
         ],
         "gridcolor": "lightgray",
         "gridwidth": 1,
         "showgrid": true,
         "title": {
          "text": "Quarters"
         }
        },
        "xaxis7": {
         "anchor": "y7",
         "domain": [
          0,
          0.29333333333333333
         ],
         "gridcolor": "lightgray",
         "gridwidth": 1,
         "showgrid": true,
         "title": {
          "text": "Quarters"
         }
        },
        "xaxis8": {
         "anchor": "y8",
         "domain": [
          0.35333333333333333,
          0.6466666666666667
         ],
         "gridcolor": "lightgray",
         "gridwidth": 1,
         "showgrid": true,
         "title": {
          "text": "Quarters"
         }
        },
        "xaxis9": {
         "anchor": "y9",
         "domain": [
          0.7066666666666667,
          1
         ],
         "gridcolor": "lightgray",
         "gridwidth": 1,
         "showgrid": true,
         "title": {
          "text": "Quarters"
         }
        },
        "yaxis": {
         "anchor": "x",
         "domain": [
          0.7666666666666666,
          1.0
         ],
         "gridcolor": "lightgray",
         "gridwidth": 1,
         "showgrid": true
        },
        "yaxis2": {
         "anchor": "x2",
         "domain": [
          0.7666666666666666,
          1.0
         ],
         "gridcolor": "lightgray",
         "gridwidth": 1,
         "showgrid": true
        },
        "yaxis3": {
         "anchor": "x3",
         "domain": [
          0.7666666666666666,
          1.0
         ],
         "gridcolor": "lightgray",
         "gridwidth": 1,
         "showgrid": true
        },
        "yaxis4": {
         "anchor": "x4",
         "domain": [
          0.3833333333333333,
          0.6166666666666666
         ],
         "gridcolor": "lightgray",
         "gridwidth": 1,
         "showgrid": true
        },
        "yaxis5": {
         "anchor": "x5",
         "domain": [
          0.3833333333333333,
          0.6166666666666666
         ],
         "gridcolor": "lightgray",
         "gridwidth": 1,
         "showgrid": true
        },
        "yaxis6": {
         "anchor": "x6",
         "domain": [
          0.3833333333333333,
          0.6166666666666666
         ],
         "gridcolor": "lightgray",
         "gridwidth": 1,
         "showgrid": true
        },
        "yaxis7": {
         "anchor": "x7",
         "domain": [
          0,
          0.2333333333333333
         ],
         "gridcolor": "lightgray",
         "gridwidth": 1,
         "showgrid": true
        },
        "yaxis8": {
         "anchor": "x8",
         "domain": [
          0,
          0.2333333333333333
         ],
         "gridcolor": "lightgray",
         "gridwidth": 1,
         "showgrid": true
        },
        "yaxis9": {
         "anchor": "x9",
         "domain": [
          0,
          0.2333333333333333
         ],
         "gridcolor": "lightgray",
         "gridwidth": 1,
         "showgrid": true
        }
       }
      }
     },
     "metadata": {},
     "output_type": "display_data"
    }
   ],
   "source": [
    "# Compare baseline vs modified results using the same plotly structure\n",
    "param_name = test_params[0] if test_params else \"parameter\"\n",
    "\n",
    "# Create comparison figure with the same layout as the original\n",
    "comparison_fig = make_subplots(\n",
    "    rows=rows,\n",
    "    cols=cols,\n",
    "    subplot_titles=subplot_titles,\n",
    "    vertical_spacing=0.15,\n",
    "    horizontal_spacing=0.06,\n",
    ")\n",
    "\n",
    "# Add traces for both baseline and modified results\n",
    "for i, (var_name, var_idx) in enumerate(plot_data):\n",
    "    row = (i // cols) + 1\n",
    "    col = (i % cols) + 1\n",
    "\n",
    "    # Add baseline trace\n",
    "    comparison_fig.add_trace(\n",
    "        go.Scatter(\n",
    "            x=time_quarters,\n",
    "            y=results.get_scalar_timeseries()[var_name],\n",
    "            mode=\"lines\",\n",
    "            name=\"Baseline\",\n",
    "            line=dict(width=2.5, color=\"blue\"),\n",
    "            hovertemplate=\"<b>Baseline - %{fullData.name}</b><br>\"\n",
    "            + \"Quarter: %{x}<br>\"\n",
    "            + \"Value: %{y:.4f}<br>\"\n",
    "            + \"<extra></extra>\",\n",
    "            showlegend=(i == 0),  # Only show legend for first subplot\n",
    "        ),\n",
    "        row=row,\n",
    "        col=col,\n",
    "    )\n",
    "\n",
    "    # Add modified trace\n",
    "    comparison_fig.add_trace(\n",
    "        go.Scatter(\n",
    "            x=time_quarters,\n",
    "            y=modified_results.get_scalar_timeseries()[var_name],\n",
    "            mode=\"lines\",\n",
    "            name=\"Modified\",\n",
    "            line=dict(width=2.5, color=\"red\", dash=\"dash\"),\n",
    "            hovertemplate=\"<b>Modified - %{fullData.name}</b><br>\"\n",
    "            + \"Quarter: %{x}<br>\"\n",
    "            + \"Value: %{y:.4f}<br>\"\n",
    "            + \"<extra></extra>\",\n",
    "            showlegend=(i == 0),  # Only show legend for first subplot\n",
    "        ),\n",
    "        row=row,\n",
    "        col=col,\n",
    "    )\n",
    "\n",
    "# Update layout\n",
    "comparison_fig.update_layout(\n",
    "    title={\n",
    "        \"text\": f\"Calibration Test: Effect of Increasing {param_name} by 10%<br><sub>Baseline vs Modified simulation over {T} quarters</sub>\",\n",
    "        \"x\": 0.5,\n",
    "        \"font\": {\"size\": 16},\n",
    "    },\n",
    "    height=200 * rows + 100,  # Same dynamic height as original\n",
    "    width=1200,\n",
    "    plot_bgcolor=\"white\",\n",
    "    paper_bgcolor=\"white\",\n",
    "    legend=dict(orientation=\"h\", yanchor=\"bottom\", y=1.02, xanchor=\"right\", x=1),\n",
    ")\n",
    "\n",
    "# Update axes labels\n",
    "comparison_fig.update_xaxes(\n",
    "    title_text=\"Quarters\", showgrid=True, gridwidth=1, gridcolor=\"lightgray\"\n",
    ")\n",
    "comparison_fig.update_yaxes(showgrid=True, gridwidth=1, gridcolor=\"lightgray\")\n",
    "\n",
    "# Show the comparison plot\n",
    "comparison_fig.show()"
   ]
  }
 ],
 "metadata": {
  "kernelspec": {
   "display_name": ".venv",
   "language": "python",
   "name": "python3"
  },
  "language_info": {
   "codemirror_mode": {
    "name": "ipython",
    "version": 3
   },
   "file_extension": ".py",
   "mimetype": "text/x-python",
   "name": "python",
   "nbconvert_exporter": "python",
   "pygments_lexer": "ipython3",
   "version": "3.13.2"
  }
 },
 "nbformat": 4,
 "nbformat_minor": 5
}
